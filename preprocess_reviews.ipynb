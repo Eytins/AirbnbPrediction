{
 "cells": [
  {
   "cell_type": "code",
   "execution_count": 126,
   "metadata": {
    "collapsed": true
   },
   "outputs": [
    {
     "data": {
      "text/plain": "   Unnamed: 0  listing_id                                                  0\n0           0       44077  We enjoyed our stay very much. The room was co...\n1           1       44077  We have been here 4 nights. Stay in a home is ...\n2           2       44077  Teresa and Hughie were great hosts. They were ...\n3           3       44077  No surprises was as described.  Very gracious ...\n4           4       44077  Teresa was a lovely hostess and we had a delig...",
      "text/html": "<div>\n<style scoped>\n    .dataframe tbody tr th:only-of-type {\n        vertical-align: middle;\n    }\n\n    .dataframe tbody tr th {\n        vertical-align: top;\n    }\n\n    .dataframe thead th {\n        text-align: right;\n    }\n</style>\n<table border=\"1\" class=\"dataframe\">\n  <thead>\n    <tr style=\"text-align: right;\">\n      <th></th>\n      <th>Unnamed: 0</th>\n      <th>listing_id</th>\n      <th>0</th>\n    </tr>\n  </thead>\n  <tbody>\n    <tr>\n      <th>0</th>\n      <td>0</td>\n      <td>44077</td>\n      <td>We enjoyed our stay very much. The room was co...</td>\n    </tr>\n    <tr>\n      <th>1</th>\n      <td>1</td>\n      <td>44077</td>\n      <td>We have been here 4 nights. Stay in a home is ...</td>\n    </tr>\n    <tr>\n      <th>2</th>\n      <td>2</td>\n      <td>44077</td>\n      <td>Teresa and Hughie were great hosts. They were ...</td>\n    </tr>\n    <tr>\n      <th>3</th>\n      <td>3</td>\n      <td>44077</td>\n      <td>No surprises was as described.  Very gracious ...</td>\n    </tr>\n    <tr>\n      <th>4</th>\n      <td>4</td>\n      <td>44077</td>\n      <td>Teresa was a lovely hostess and we had a delig...</td>\n    </tr>\n  </tbody>\n</table>\n</div>"
     },
     "execution_count": 126,
     "metadata": {},
     "output_type": "execute_result"
    }
   ],
   "source": [
    "import pandas as pd\n",
    "\n",
    "reviews = pd.read_csv('new_reviews.csv')\n",
    "reviews.head()"
   ]
  },
  {
   "cell_type": "code",
   "execution_count": 127,
   "outputs": [
    {
     "data": {
      "text/plain": "                listing_id                                           comments\n0                    44077  We enjoyed our stay very much. The room was co...\n1                    44077  We have been here 4 nights. Stay in a home is ...\n2                    44077  Teresa and Hughie were great hosts. They were ...\n3                    44077  No surprises was as described.  Very gracious ...\n4                    44077  Teresa was a lovely hostess and we had a delig...\n...                    ...                                                ...\n243178  706148275480196839          Excellent location kindness and courtesy!\n243179  706287276585342998  Jenny was able to get us in last minute and ex...\n243180  706495821581154410  Very spacious; owners communicative. Only issu...\n243181  707685389742134998  What a great host couple and great spot. Super...\n243182  707825078259308780  Ana is a lovey host . There was an issue at 2 ...\n\n[243161 rows x 2 columns]",
      "text/html": "<div>\n<style scoped>\n    .dataframe tbody tr th:only-of-type {\n        vertical-align: middle;\n    }\n\n    .dataframe tbody tr th {\n        vertical-align: top;\n    }\n\n    .dataframe thead th {\n        text-align: right;\n    }\n</style>\n<table border=\"1\" class=\"dataframe\">\n  <thead>\n    <tr style=\"text-align: right;\">\n      <th></th>\n      <th>listing_id</th>\n      <th>comments</th>\n    </tr>\n  </thead>\n  <tbody>\n    <tr>\n      <th>0</th>\n      <td>44077</td>\n      <td>We enjoyed our stay very much. The room was co...</td>\n    </tr>\n    <tr>\n      <th>1</th>\n      <td>44077</td>\n      <td>We have been here 4 nights. Stay in a home is ...</td>\n    </tr>\n    <tr>\n      <th>2</th>\n      <td>44077</td>\n      <td>Teresa and Hughie were great hosts. They were ...</td>\n    </tr>\n    <tr>\n      <th>3</th>\n      <td>44077</td>\n      <td>No surprises was as described.  Very gracious ...</td>\n    </tr>\n    <tr>\n      <th>4</th>\n      <td>44077</td>\n      <td>Teresa was a lovely hostess and we had a delig...</td>\n    </tr>\n    <tr>\n      <th>...</th>\n      <td>...</td>\n      <td>...</td>\n    </tr>\n    <tr>\n      <th>243178</th>\n      <td>706148275480196839</td>\n      <td>Excellent location kindness and courtesy!</td>\n    </tr>\n    <tr>\n      <th>243179</th>\n      <td>706287276585342998</td>\n      <td>Jenny was able to get us in last minute and ex...</td>\n    </tr>\n    <tr>\n      <th>243180</th>\n      <td>706495821581154410</td>\n      <td>Very spacious; owners communicative. Only issu...</td>\n    </tr>\n    <tr>\n      <th>243181</th>\n      <td>707685389742134998</td>\n      <td>What a great host couple and great spot. Super...</td>\n    </tr>\n    <tr>\n      <th>243182</th>\n      <td>707825078259308780</td>\n      <td>Ana is a lovey host . There was an issue at 2 ...</td>\n    </tr>\n  </tbody>\n</table>\n<p>243161 rows × 2 columns</p>\n</div>"
     },
     "execution_count": 127,
     "metadata": {},
     "output_type": "execute_result"
    }
   ],
   "source": [
    "reviews = reviews.drop(['Unnamed: 0'], axis=1)\n",
    "reviews['comments'] = reviews['0']\n",
    "reviews = reviews.drop(['0'], axis=1)\n",
    "reviews = reviews.dropna(subset=['comments'])\n",
    "reviews"
   ],
   "metadata": {
    "collapsed": false
   }
  },
  {
   "cell_type": "code",
   "execution_count": 128,
   "outputs": [
    {
     "name": "stderr",
     "output_type": "stream",
     "text": [
      "[nltk_data] Downloading package stopwords to\n",
      "[nltk_data]     /Users/eytins/nltk_data...\n",
      "[nltk_data]   Package stopwords is already up-to-date!\n"
     ]
    },
    {
     "data": {
      "text/plain": "True"
     },
     "execution_count": 128,
     "metadata": {},
     "output_type": "execute_result"
    }
   ],
   "source": [
    "from sklearn.feature_extraction.text import CountVectorizer\n",
    "from nltk.stem import PorterStemmer\n",
    "import nltk\n",
    "\n",
    "nltk.download('stopwords')"
   ],
   "metadata": {
    "collapsed": false
   }
  },
  {
   "cell_type": "code",
   "execution_count": 129,
   "outputs": [],
   "source": [
    "stemmer = PorterStemmer()\n",
    "\n",
    "\n",
    "def list_to_str_include_stem(l):\n",
    "    res = ''\n",
    "    for s in l:\n",
    "        res = res + ' ' + stemmer.stem(s)\n",
    "    return res"
   ],
   "metadata": {
    "collapsed": false
   }
  },
  {
   "cell_type": "code",
   "execution_count": 130,
   "outputs": [
    {
     "data": {
      "text/plain": "                listing_id                                           comments\n0                    44077   we enjoy our stay veri much the room wa comfo...\n1                    44077   we have been here night stay in home is the b...\n2                    44077   teresa and hughi were great host they were ve...\n3                    44077   no surpris wa as describ veri graciou host ni...\n4                    44077   teresa wa love hostess and we had delight sta...\n...                    ...                                                ...\n243178  706148275480196839                      excel locat kind and courtesi\n243179  706287276585342998   jenni wa abl to get us in last minut and exte...\n243180  706495821581154410   veri spaciou owner commun onli issu had wa no...\n243181  707685389742134998   what great host coupl and great spot super cl...\n243182  707825078259308780   ana is lovey host there wa an issu at am in t...\n\n[243161 rows x 2 columns]",
      "text/html": "<div>\n<style scoped>\n    .dataframe tbody tr th:only-of-type {\n        vertical-align: middle;\n    }\n\n    .dataframe tbody tr th {\n        vertical-align: top;\n    }\n\n    .dataframe thead th {\n        text-align: right;\n    }\n</style>\n<table border=\"1\" class=\"dataframe\">\n  <thead>\n    <tr style=\"text-align: right;\">\n      <th></th>\n      <th>listing_id</th>\n      <th>comments</th>\n    </tr>\n  </thead>\n  <tbody>\n    <tr>\n      <th>0</th>\n      <td>44077</td>\n      <td>we enjoy our stay veri much the room wa comfo...</td>\n    </tr>\n    <tr>\n      <th>1</th>\n      <td>44077</td>\n      <td>we have been here night stay in home is the b...</td>\n    </tr>\n    <tr>\n      <th>2</th>\n      <td>44077</td>\n      <td>teresa and hughi were great host they were ve...</td>\n    </tr>\n    <tr>\n      <th>3</th>\n      <td>44077</td>\n      <td>no surpris wa as describ veri graciou host ni...</td>\n    </tr>\n    <tr>\n      <th>4</th>\n      <td>44077</td>\n      <td>teresa wa love hostess and we had delight sta...</td>\n    </tr>\n    <tr>\n      <th>...</th>\n      <td>...</td>\n      <td>...</td>\n    </tr>\n    <tr>\n      <th>243178</th>\n      <td>706148275480196839</td>\n      <td>excel locat kind and courtesi</td>\n    </tr>\n    <tr>\n      <th>243179</th>\n      <td>706287276585342998</td>\n      <td>jenni wa abl to get us in last minut and exte...</td>\n    </tr>\n    <tr>\n      <th>243180</th>\n      <td>706495821581154410</td>\n      <td>veri spaciou owner commun onli issu had wa no...</td>\n    </tr>\n    <tr>\n      <th>243181</th>\n      <td>707685389742134998</td>\n      <td>what great host coupl and great spot super cl...</td>\n    </tr>\n    <tr>\n      <th>243182</th>\n      <td>707825078259308780</td>\n      <td>ana is lovey host there wa an issu at am in t...</td>\n    </tr>\n  </tbody>\n</table>\n<p>243161 rows × 2 columns</p>\n</div>"
     },
     "execution_count": 130,
     "metadata": {},
     "output_type": "execute_result"
    }
   ],
   "source": [
    "# Remove punctuation and stemmerize\n",
    "tokenizer = CountVectorizer().build_tokenizer()\n",
    "reviews['comments'] = reviews['comments'].apply(lambda x: list_to_str_include_stem(tokenizer(x)), 1)\n",
    "reviews"
   ],
   "metadata": {
    "collapsed": false
   }
  },
  {
   "cell_type": "code",
   "execution_count": 131,
   "outputs": [
    {
     "name": "stdout",
     "output_type": "stream",
     "text": [
      "['10', '15', 'absolut', 'access', 'accommod', 'airbnb', 'airport', 'also', 'alway', 'amaz', 'ani', 'apart', 'area', 'around', 'arriv', 'avail', 'away', 'back', 'bar', 'bathroom', 'beauti', 'bed', 'bedroom', 'befor', 'best', 'bit', 'book', 'breakfast', 'bu', 'center', 'centr', 'central', 'check', 'citi', 'clean', 'close', 'coffe', 'come', 'comfort', 'commun', 'conveni', 'could', 'cozi', 'day', 'definit', 'distanc', 'dublin', 'dure', 'easi', 'enjoy', 'enough', 'equip', 'even', 'everyth', 'excel', 'experi', 'famili', 'fantast', 'feel', 'felt', 'find', 'flat', 'friendli', 'gave', 'get', 'go', 'good', 'great', 'ha', 'help', 'hi', 'highli', 'home', 'hospit', 'host', 'hous', 'kind', 'kitchen', 'like', 'littl', 'local', 'locat', 'look', 'lot', 'love', 'made', 'make', 'mani', 'min', 'minut', 'morn', 'much', 'near', 'need', 'neighborhood', 'next', 'nice', 'night', 'one', 'onli', 'park', 'peopl', 'perfect', 'place', 'provid', 'pub', 'question', 'quick', 'quiet', 'realli', 'recommend', 'respons', 'restaur', 'right', 'room', 'see', 'shop', 'short', 'shower', 'small', 'space', 'spaciou', 'stay', 'stop', 'street', 'super', 'take', 'templ', 'thank', 'thi', 'thing', 'time', 'tip', 'town', 'transport', 'travel', 'trip', 'two', 'us', 'use', 'veri', 'visit', 'wa', 'walk', 'want', 'warm', 'welcom', 'well', 'within', 'wonder', 'work', 'would']\n",
      "[[0 0 0 ... 0 0 1]\n",
      " [0 0 0 ... 0 0 0]\n",
      " [0 0 0 ... 0 0 0]\n",
      " ...\n",
      " [0 0 0 ... 0 0 0]\n",
      " [0 0 0 ... 0 0 1]\n",
      " [0 0 0 ... 0 0 0]]\n",
      "152\n"
     ]
    },
    {
     "name": "stderr",
     "output_type": "stream",
     "text": [
      "/Users/eytins/.conda/envs/ml/lib/python3.10/site-packages/sklearn/utils/deprecation.py:87: FutureWarning: Function get_feature_names is deprecated; get_feature_names is deprecated in 1.0 and will be removed in 1.2. Please use get_feature_names_out instead.\n",
      "  warnings.warn(msg, category=FutureWarning)\n"
     ]
    }
   ],
   "source": [
    "# Vectorize\n",
    "stop_words = nltk.corpus.stopwords.words('english')\n",
    "vectorizer = CountVectorizer(stop_words=stop_words, max_df=0.5, min_df=0.03)\n",
    "X = vectorizer.fit_transform(reviews['comments'])\n",
    "print(vectorizer.get_feature_names())\n",
    "words_array = X.toarray()\n",
    "print(words_array)\n",
    "print(len(words_array[0]))"
   ],
   "metadata": {
    "collapsed": false
   }
  },
  {
   "cell_type": "code",
   "execution_count": 132,
   "outputs": [
    {
     "data": {
      "text/plain": "        0    1    2    3    4    5    6    7    8    9    ...  142  143  144  \\\n0         0    0    0    0    0    0    0    0    0    0  ...    3    0    0   \n1         0    0    0    0    0    0    0    0    0    0  ...    0    0    0   \n2         0    0    0    0    0    0    0    0    0    0  ...    2    0    0   \n3         0    0    0    0    0    0    0    0    0    0  ...    1    0    0   \n4         0    0    0    0    0    0    0    0    0    0  ...    2    0    0   \n...     ...  ...  ...  ...  ...  ...  ...  ...  ...  ...  ...  ...  ...  ...   \n243156    0    0    0    0    0    0    0    0    0    0  ...    0    0    0   \n243157    0    0    0    0    0    0    0    0    0    0  ...    1    0    0   \n243158    0    0    0    0    0    0    0    1    0    0  ...    1    0    0   \n243159    0    0    0    0    0    0    0    1    0    0  ...    0    0    1   \n243160    0    0    0    0    0    0    0    0    0    0  ...    1    0    0   \n\n        145  146  147  148  149  150  151  \n0         0    0    0    0    0    0    1  \n1         0    0    0    0    0    0    0  \n2         1    1    0    0    0    0    0  \n3         0    0    0    0    0    0    1  \n4         0    0    0    0    0    0    2  \n...     ...  ...  ...  ...  ...  ...  ...  \n243156    0    0    0    0    0    0    0  \n243157    0    0    0    0    0    0    0  \n243158    0    0    0    0    0    0    0  \n243159    0    0    0    0    0    0    1  \n243160    0    0    0    0    0    0    0  \n\n[243161 rows x 152 columns]",
      "text/html": "<div>\n<style scoped>\n    .dataframe tbody tr th:only-of-type {\n        vertical-align: middle;\n    }\n\n    .dataframe tbody tr th {\n        vertical-align: top;\n    }\n\n    .dataframe thead th {\n        text-align: right;\n    }\n</style>\n<table border=\"1\" class=\"dataframe\">\n  <thead>\n    <tr style=\"text-align: right;\">\n      <th></th>\n      <th>0</th>\n      <th>1</th>\n      <th>2</th>\n      <th>3</th>\n      <th>4</th>\n      <th>5</th>\n      <th>6</th>\n      <th>7</th>\n      <th>8</th>\n      <th>9</th>\n      <th>...</th>\n      <th>142</th>\n      <th>143</th>\n      <th>144</th>\n      <th>145</th>\n      <th>146</th>\n      <th>147</th>\n      <th>148</th>\n      <th>149</th>\n      <th>150</th>\n      <th>151</th>\n    </tr>\n  </thead>\n  <tbody>\n    <tr>\n      <th>0</th>\n      <td>0</td>\n      <td>0</td>\n      <td>0</td>\n      <td>0</td>\n      <td>0</td>\n      <td>0</td>\n      <td>0</td>\n      <td>0</td>\n      <td>0</td>\n      <td>0</td>\n      <td>...</td>\n      <td>3</td>\n      <td>0</td>\n      <td>0</td>\n      <td>0</td>\n      <td>0</td>\n      <td>0</td>\n      <td>0</td>\n      <td>0</td>\n      <td>0</td>\n      <td>1</td>\n    </tr>\n    <tr>\n      <th>1</th>\n      <td>0</td>\n      <td>0</td>\n      <td>0</td>\n      <td>0</td>\n      <td>0</td>\n      <td>0</td>\n      <td>0</td>\n      <td>0</td>\n      <td>0</td>\n      <td>0</td>\n      <td>...</td>\n      <td>0</td>\n      <td>0</td>\n      <td>0</td>\n      <td>0</td>\n      <td>0</td>\n      <td>0</td>\n      <td>0</td>\n      <td>0</td>\n      <td>0</td>\n      <td>0</td>\n    </tr>\n    <tr>\n      <th>2</th>\n      <td>0</td>\n      <td>0</td>\n      <td>0</td>\n      <td>0</td>\n      <td>0</td>\n      <td>0</td>\n      <td>0</td>\n      <td>0</td>\n      <td>0</td>\n      <td>0</td>\n      <td>...</td>\n      <td>2</td>\n      <td>0</td>\n      <td>0</td>\n      <td>1</td>\n      <td>1</td>\n      <td>0</td>\n      <td>0</td>\n      <td>0</td>\n      <td>0</td>\n      <td>0</td>\n    </tr>\n    <tr>\n      <th>3</th>\n      <td>0</td>\n      <td>0</td>\n      <td>0</td>\n      <td>0</td>\n      <td>0</td>\n      <td>0</td>\n      <td>0</td>\n      <td>0</td>\n      <td>0</td>\n      <td>0</td>\n      <td>...</td>\n      <td>1</td>\n      <td>0</td>\n      <td>0</td>\n      <td>0</td>\n      <td>0</td>\n      <td>0</td>\n      <td>0</td>\n      <td>0</td>\n      <td>0</td>\n      <td>1</td>\n    </tr>\n    <tr>\n      <th>4</th>\n      <td>0</td>\n      <td>0</td>\n      <td>0</td>\n      <td>0</td>\n      <td>0</td>\n      <td>0</td>\n      <td>0</td>\n      <td>0</td>\n      <td>0</td>\n      <td>0</td>\n      <td>...</td>\n      <td>2</td>\n      <td>0</td>\n      <td>0</td>\n      <td>0</td>\n      <td>0</td>\n      <td>0</td>\n      <td>0</td>\n      <td>0</td>\n      <td>0</td>\n      <td>2</td>\n    </tr>\n    <tr>\n      <th>...</th>\n      <td>...</td>\n      <td>...</td>\n      <td>...</td>\n      <td>...</td>\n      <td>...</td>\n      <td>...</td>\n      <td>...</td>\n      <td>...</td>\n      <td>...</td>\n      <td>...</td>\n      <td>...</td>\n      <td>...</td>\n      <td>...</td>\n      <td>...</td>\n      <td>...</td>\n      <td>...</td>\n      <td>...</td>\n      <td>...</td>\n      <td>...</td>\n      <td>...</td>\n      <td>...</td>\n    </tr>\n    <tr>\n      <th>243156</th>\n      <td>0</td>\n      <td>0</td>\n      <td>0</td>\n      <td>0</td>\n      <td>0</td>\n      <td>0</td>\n      <td>0</td>\n      <td>0</td>\n      <td>0</td>\n      <td>0</td>\n      <td>...</td>\n      <td>0</td>\n      <td>0</td>\n      <td>0</td>\n      <td>0</td>\n      <td>0</td>\n      <td>0</td>\n      <td>0</td>\n      <td>0</td>\n      <td>0</td>\n      <td>0</td>\n    </tr>\n    <tr>\n      <th>243157</th>\n      <td>0</td>\n      <td>0</td>\n      <td>0</td>\n      <td>0</td>\n      <td>0</td>\n      <td>0</td>\n      <td>0</td>\n      <td>0</td>\n      <td>0</td>\n      <td>0</td>\n      <td>...</td>\n      <td>1</td>\n      <td>0</td>\n      <td>0</td>\n      <td>0</td>\n      <td>0</td>\n      <td>0</td>\n      <td>0</td>\n      <td>0</td>\n      <td>0</td>\n      <td>0</td>\n    </tr>\n    <tr>\n      <th>243158</th>\n      <td>0</td>\n      <td>0</td>\n      <td>0</td>\n      <td>0</td>\n      <td>0</td>\n      <td>0</td>\n      <td>0</td>\n      <td>1</td>\n      <td>0</td>\n      <td>0</td>\n      <td>...</td>\n      <td>1</td>\n      <td>0</td>\n      <td>0</td>\n      <td>0</td>\n      <td>0</td>\n      <td>0</td>\n      <td>0</td>\n      <td>0</td>\n      <td>0</td>\n      <td>0</td>\n    </tr>\n    <tr>\n      <th>243159</th>\n      <td>0</td>\n      <td>0</td>\n      <td>0</td>\n      <td>0</td>\n      <td>0</td>\n      <td>0</td>\n      <td>0</td>\n      <td>1</td>\n      <td>0</td>\n      <td>0</td>\n      <td>...</td>\n      <td>0</td>\n      <td>0</td>\n      <td>1</td>\n      <td>0</td>\n      <td>0</td>\n      <td>0</td>\n      <td>0</td>\n      <td>0</td>\n      <td>0</td>\n      <td>1</td>\n    </tr>\n    <tr>\n      <th>243160</th>\n      <td>0</td>\n      <td>0</td>\n      <td>0</td>\n      <td>0</td>\n      <td>0</td>\n      <td>0</td>\n      <td>0</td>\n      <td>0</td>\n      <td>0</td>\n      <td>0</td>\n      <td>...</td>\n      <td>1</td>\n      <td>0</td>\n      <td>0</td>\n      <td>0</td>\n      <td>0</td>\n      <td>0</td>\n      <td>0</td>\n      <td>0</td>\n      <td>0</td>\n      <td>0</td>\n    </tr>\n  </tbody>\n</table>\n<p>243161 rows × 152 columns</p>\n</div>"
     },
     "execution_count": 132,
     "metadata": {},
     "output_type": "execute_result"
    }
   ],
   "source": [
    "from pandas import DataFrame\n",
    "\n",
    "words_df = DataFrame(words_array)\n",
    "words_df"
   ],
   "metadata": {
    "collapsed": false
   }
  },
  {
   "cell_type": "code",
   "execution_count": 133,
   "outputs": [
    {
     "data": {
      "text/plain": "          listing_id    0    1    2    3    4    5    6    7    8  ...  142  \\\n0       4.407700e+04  0.0  0.0  0.0  0.0  0.0  0.0  0.0  0.0  0.0  ...  3.0   \n1       4.407700e+04  0.0  0.0  0.0  0.0  0.0  0.0  0.0  0.0  0.0  ...  0.0   \n2       4.407700e+04  0.0  0.0  0.0  0.0  0.0  0.0  0.0  0.0  0.0  ...  2.0   \n3       4.407700e+04  0.0  0.0  0.0  0.0  0.0  0.0  0.0  0.0  0.0  ...  1.0   \n4       4.407700e+04  0.0  0.0  0.0  0.0  0.0  0.0  0.0  0.0  0.0  ...  2.0   \n...              ...  ...  ...  ...  ...  ...  ...  ...  ...  ...  ...  ...   \n243156  7.094515e+17  0.0  0.0  0.0  0.0  0.0  0.0  0.0  0.0  0.0  ...  0.0   \n243157  7.100541e+17  0.0  0.0  0.0  0.0  0.0  0.0  0.0  0.0  0.0  ...  1.0   \n243158  7.036042e+17  0.0  0.0  0.0  0.0  0.0  0.0  0.0  1.0  0.0  ...  1.0   \n243159  7.036042e+17  0.0  0.0  0.0  0.0  0.0  0.0  0.0  1.0  0.0  ...  0.0   \n243160  7.036042e+17  0.0  0.0  0.0  0.0  0.0  0.0  0.0  0.0  0.0  ...  1.0   \n\n        143  144  145  146  147  148  149  150  151  \n0       0.0  0.0  0.0  0.0  0.0  0.0  0.0  0.0  1.0  \n1       0.0  0.0  0.0  0.0  0.0  0.0  0.0  0.0  0.0  \n2       0.0  0.0  1.0  1.0  0.0  0.0  0.0  0.0  0.0  \n3       0.0  0.0  0.0  0.0  0.0  0.0  0.0  0.0  1.0  \n4       0.0  0.0  0.0  0.0  0.0  0.0  0.0  0.0  2.0  \n...     ...  ...  ...  ...  ...  ...  ...  ...  ...  \n243156  0.0  0.0  0.0  0.0  0.0  0.0  0.0  0.0  0.0  \n243157  0.0  0.0  0.0  0.0  0.0  0.0  0.0  0.0  0.0  \n243158  0.0  0.0  0.0  0.0  0.0  0.0  0.0  0.0  0.0  \n243159  0.0  1.0  0.0  0.0  0.0  0.0  0.0  0.0  1.0  \n243160  0.0  0.0  0.0  0.0  0.0  0.0  0.0  0.0  0.0  \n\n[243139 rows x 153 columns]",
      "text/html": "<div>\n<style scoped>\n    .dataframe tbody tr th:only-of-type {\n        vertical-align: middle;\n    }\n\n    .dataframe tbody tr th {\n        vertical-align: top;\n    }\n\n    .dataframe thead th {\n        text-align: right;\n    }\n</style>\n<table border=\"1\" class=\"dataframe\">\n  <thead>\n    <tr style=\"text-align: right;\">\n      <th></th>\n      <th>listing_id</th>\n      <th>0</th>\n      <th>1</th>\n      <th>2</th>\n      <th>3</th>\n      <th>4</th>\n      <th>5</th>\n      <th>6</th>\n      <th>7</th>\n      <th>8</th>\n      <th>...</th>\n      <th>142</th>\n      <th>143</th>\n      <th>144</th>\n      <th>145</th>\n      <th>146</th>\n      <th>147</th>\n      <th>148</th>\n      <th>149</th>\n      <th>150</th>\n      <th>151</th>\n    </tr>\n  </thead>\n  <tbody>\n    <tr>\n      <th>0</th>\n      <td>4.407700e+04</td>\n      <td>0.0</td>\n      <td>0.0</td>\n      <td>0.0</td>\n      <td>0.0</td>\n      <td>0.0</td>\n      <td>0.0</td>\n      <td>0.0</td>\n      <td>0.0</td>\n      <td>0.0</td>\n      <td>...</td>\n      <td>3.0</td>\n      <td>0.0</td>\n      <td>0.0</td>\n      <td>0.0</td>\n      <td>0.0</td>\n      <td>0.0</td>\n      <td>0.0</td>\n      <td>0.0</td>\n      <td>0.0</td>\n      <td>1.0</td>\n    </tr>\n    <tr>\n      <th>1</th>\n      <td>4.407700e+04</td>\n      <td>0.0</td>\n      <td>0.0</td>\n      <td>0.0</td>\n      <td>0.0</td>\n      <td>0.0</td>\n      <td>0.0</td>\n      <td>0.0</td>\n      <td>0.0</td>\n      <td>0.0</td>\n      <td>...</td>\n      <td>0.0</td>\n      <td>0.0</td>\n      <td>0.0</td>\n      <td>0.0</td>\n      <td>0.0</td>\n      <td>0.0</td>\n      <td>0.0</td>\n      <td>0.0</td>\n      <td>0.0</td>\n      <td>0.0</td>\n    </tr>\n    <tr>\n      <th>2</th>\n      <td>4.407700e+04</td>\n      <td>0.0</td>\n      <td>0.0</td>\n      <td>0.0</td>\n      <td>0.0</td>\n      <td>0.0</td>\n      <td>0.0</td>\n      <td>0.0</td>\n      <td>0.0</td>\n      <td>0.0</td>\n      <td>...</td>\n      <td>2.0</td>\n      <td>0.0</td>\n      <td>0.0</td>\n      <td>1.0</td>\n      <td>1.0</td>\n      <td>0.0</td>\n      <td>0.0</td>\n      <td>0.0</td>\n      <td>0.0</td>\n      <td>0.0</td>\n    </tr>\n    <tr>\n      <th>3</th>\n      <td>4.407700e+04</td>\n      <td>0.0</td>\n      <td>0.0</td>\n      <td>0.0</td>\n      <td>0.0</td>\n      <td>0.0</td>\n      <td>0.0</td>\n      <td>0.0</td>\n      <td>0.0</td>\n      <td>0.0</td>\n      <td>...</td>\n      <td>1.0</td>\n      <td>0.0</td>\n      <td>0.0</td>\n      <td>0.0</td>\n      <td>0.0</td>\n      <td>0.0</td>\n      <td>0.0</td>\n      <td>0.0</td>\n      <td>0.0</td>\n      <td>1.0</td>\n    </tr>\n    <tr>\n      <th>4</th>\n      <td>4.407700e+04</td>\n      <td>0.0</td>\n      <td>0.0</td>\n      <td>0.0</td>\n      <td>0.0</td>\n      <td>0.0</td>\n      <td>0.0</td>\n      <td>0.0</td>\n      <td>0.0</td>\n      <td>0.0</td>\n      <td>...</td>\n      <td>2.0</td>\n      <td>0.0</td>\n      <td>0.0</td>\n      <td>0.0</td>\n      <td>0.0</td>\n      <td>0.0</td>\n      <td>0.0</td>\n      <td>0.0</td>\n      <td>0.0</td>\n      <td>2.0</td>\n    </tr>\n    <tr>\n      <th>...</th>\n      <td>...</td>\n      <td>...</td>\n      <td>...</td>\n      <td>...</td>\n      <td>...</td>\n      <td>...</td>\n      <td>...</td>\n      <td>...</td>\n      <td>...</td>\n      <td>...</td>\n      <td>...</td>\n      <td>...</td>\n      <td>...</td>\n      <td>...</td>\n      <td>...</td>\n      <td>...</td>\n      <td>...</td>\n      <td>...</td>\n      <td>...</td>\n      <td>...</td>\n      <td>...</td>\n    </tr>\n    <tr>\n      <th>243156</th>\n      <td>7.094515e+17</td>\n      <td>0.0</td>\n      <td>0.0</td>\n      <td>0.0</td>\n      <td>0.0</td>\n      <td>0.0</td>\n      <td>0.0</td>\n      <td>0.0</td>\n      <td>0.0</td>\n      <td>0.0</td>\n      <td>...</td>\n      <td>0.0</td>\n      <td>0.0</td>\n      <td>0.0</td>\n      <td>0.0</td>\n      <td>0.0</td>\n      <td>0.0</td>\n      <td>0.0</td>\n      <td>0.0</td>\n      <td>0.0</td>\n      <td>0.0</td>\n    </tr>\n    <tr>\n      <th>243157</th>\n      <td>7.100541e+17</td>\n      <td>0.0</td>\n      <td>0.0</td>\n      <td>0.0</td>\n      <td>0.0</td>\n      <td>0.0</td>\n      <td>0.0</td>\n      <td>0.0</td>\n      <td>0.0</td>\n      <td>0.0</td>\n      <td>...</td>\n      <td>1.0</td>\n      <td>0.0</td>\n      <td>0.0</td>\n      <td>0.0</td>\n      <td>0.0</td>\n      <td>0.0</td>\n      <td>0.0</td>\n      <td>0.0</td>\n      <td>0.0</td>\n      <td>0.0</td>\n    </tr>\n    <tr>\n      <th>243158</th>\n      <td>7.036042e+17</td>\n      <td>0.0</td>\n      <td>0.0</td>\n      <td>0.0</td>\n      <td>0.0</td>\n      <td>0.0</td>\n      <td>0.0</td>\n      <td>0.0</td>\n      <td>1.0</td>\n      <td>0.0</td>\n      <td>...</td>\n      <td>1.0</td>\n      <td>0.0</td>\n      <td>0.0</td>\n      <td>0.0</td>\n      <td>0.0</td>\n      <td>0.0</td>\n      <td>0.0</td>\n      <td>0.0</td>\n      <td>0.0</td>\n      <td>0.0</td>\n    </tr>\n    <tr>\n      <th>243159</th>\n      <td>7.036042e+17</td>\n      <td>0.0</td>\n      <td>0.0</td>\n      <td>0.0</td>\n      <td>0.0</td>\n      <td>0.0</td>\n      <td>0.0</td>\n      <td>0.0</td>\n      <td>1.0</td>\n      <td>0.0</td>\n      <td>...</td>\n      <td>0.0</td>\n      <td>0.0</td>\n      <td>1.0</td>\n      <td>0.0</td>\n      <td>0.0</td>\n      <td>0.0</td>\n      <td>0.0</td>\n      <td>0.0</td>\n      <td>0.0</td>\n      <td>1.0</td>\n    </tr>\n    <tr>\n      <th>243160</th>\n      <td>7.036042e+17</td>\n      <td>0.0</td>\n      <td>0.0</td>\n      <td>0.0</td>\n      <td>0.0</td>\n      <td>0.0</td>\n      <td>0.0</td>\n      <td>0.0</td>\n      <td>0.0</td>\n      <td>0.0</td>\n      <td>...</td>\n      <td>1.0</td>\n      <td>0.0</td>\n      <td>0.0</td>\n      <td>0.0</td>\n      <td>0.0</td>\n      <td>0.0</td>\n      <td>0.0</td>\n      <td>0.0</td>\n      <td>0.0</td>\n      <td>0.0</td>\n    </tr>\n  </tbody>\n</table>\n<p>243139 rows × 153 columns</p>\n</div>"
     },
     "execution_count": 133,
     "metadata": {},
     "output_type": "execute_result"
    }
   ],
   "source": [
    "result = pd.concat([reviews['listing_id'], words_df], axis=1)\n",
    "result.dropna()"
   ],
   "metadata": {
    "collapsed": false
   }
  },
  {
   "cell_type": "code",
   "execution_count": 134,
   "outputs": [
    {
     "data": {
      "text/plain": "                   0         1         2         3         4         5    \\\nlisting_id                                                                 \n4.407700e+04  0.058140  0.120155  0.058140  0.058140  0.077519  0.038760   \n8.515600e+04  0.061905  0.085714  0.076190  0.038095  0.123810  0.023810   \n1.598890e+05  0.056338  0.047887  0.025352  0.064789  0.073239  0.047887   \n1.628090e+05  0.033742  0.012270  0.033742  0.049080  0.113497  0.067485   \n1.658280e+05  0.093750  0.125000  0.000000  0.156250  0.078125  0.093750   \n...                ...       ...       ...       ...       ...       ...   \n7.076854e+17       NaN       NaN       NaN       NaN       NaN       NaN   \n7.078251e+17       NaN       NaN       NaN       NaN       NaN       NaN   \n7.086799e+17  0.000000  0.000000  1.000000  0.000000  0.000000  0.000000   \n7.094515e+17  0.000000  0.000000  0.000000  0.000000  0.000000  0.000000   \n7.100541e+17  0.000000  0.000000  0.000000  0.000000  0.000000  0.000000   \n\n                   6         7         8         9    ...       142       143  \\\nlisting_id                                            ...                       \n4.407700e+04  0.027132  0.143411  0.073643  0.054264  ...  1.054264  0.131783   \n8.515600e+04  0.047619  0.219048  0.057143  0.076190  ...  0.919048  0.176190   \n1.598890e+05  0.295775  0.087324  0.092958  0.047887  ...  0.864789  0.104225   \n1.628090e+05  0.030675  0.110429  0.058282  0.079755  ...  1.098160  0.052147   \n1.658280e+05  0.125000  0.234375  0.031250  0.046875  ...  1.062500  0.218750   \n...                ...       ...       ...       ...  ...       ...       ...   \n7.076854e+17       NaN       NaN       NaN       NaN  ...       NaN       NaN   \n7.078251e+17       NaN       NaN       NaN       NaN  ...       NaN       NaN   \n7.086799e+17  0.000000  0.000000  0.000000  0.000000  ...  0.000000  0.000000   \n7.094515e+17  0.000000  0.000000  0.000000  0.000000  ...  0.000000  0.000000   \n7.100541e+17  0.000000  0.000000  0.000000  0.000000  ...  1.000000  0.000000   \n\n                   144       145       146       147       148       149  \\\nlisting_id                                                                 \n4.407700e+04  0.050388  0.135659  0.313953  0.158915  0.031008  0.197674   \n8.515600e+04  0.080952  0.114286  0.252381  0.128571  0.033333  0.176190   \n1.598890e+05  0.050704  0.073239  0.185915  0.092958  0.025352  0.092958   \n1.628090e+05  0.052147  0.082822  0.236196  0.147239  0.006135  0.073620   \n1.658280e+05  0.031250  0.062500  0.046875  0.406250  0.031250  0.156250   \n...                ...       ...       ...       ...       ...       ...   \n7.076854e+17       NaN       NaN       NaN       NaN       NaN       NaN   \n7.078251e+17       NaN       NaN       NaN       NaN       NaN       NaN   \n7.086799e+17  0.000000  0.000000  0.000000  0.000000  0.000000  0.000000   \n7.094515e+17  0.000000  0.000000  0.000000  0.000000  0.000000  0.000000   \n7.100541e+17  0.000000  0.000000  0.000000  0.000000  0.000000  0.000000   \n\n                   150       151  \nlisting_id                        \n4.407700e+04  0.034884  0.286822  \n8.515600e+04  0.014286  0.228571  \n1.598890e+05  0.022535  0.171831  \n1.628090e+05  0.015337  0.162577  \n1.658280e+05  0.093750  0.328125  \n...                ...       ...  \n7.076854e+17       NaN       NaN  \n7.078251e+17       NaN       NaN  \n7.086799e+17  0.000000  0.000000  \n7.094515e+17  0.000000  0.000000  \n7.100541e+17  0.000000  0.000000  \n\n[6209 rows x 152 columns]",
      "text/html": "<div>\n<style scoped>\n    .dataframe tbody tr th:only-of-type {\n        vertical-align: middle;\n    }\n\n    .dataframe tbody tr th {\n        vertical-align: top;\n    }\n\n    .dataframe thead th {\n        text-align: right;\n    }\n</style>\n<table border=\"1\" class=\"dataframe\">\n  <thead>\n    <tr style=\"text-align: right;\">\n      <th></th>\n      <th>0</th>\n      <th>1</th>\n      <th>2</th>\n      <th>3</th>\n      <th>4</th>\n      <th>5</th>\n      <th>6</th>\n      <th>7</th>\n      <th>8</th>\n      <th>9</th>\n      <th>...</th>\n      <th>142</th>\n      <th>143</th>\n      <th>144</th>\n      <th>145</th>\n      <th>146</th>\n      <th>147</th>\n      <th>148</th>\n      <th>149</th>\n      <th>150</th>\n      <th>151</th>\n    </tr>\n    <tr>\n      <th>listing_id</th>\n      <th></th>\n      <th></th>\n      <th></th>\n      <th></th>\n      <th></th>\n      <th></th>\n      <th></th>\n      <th></th>\n      <th></th>\n      <th></th>\n      <th></th>\n      <th></th>\n      <th></th>\n      <th></th>\n      <th></th>\n      <th></th>\n      <th></th>\n      <th></th>\n      <th></th>\n      <th></th>\n      <th></th>\n    </tr>\n  </thead>\n  <tbody>\n    <tr>\n      <th>4.407700e+04</th>\n      <td>0.058140</td>\n      <td>0.120155</td>\n      <td>0.058140</td>\n      <td>0.058140</td>\n      <td>0.077519</td>\n      <td>0.038760</td>\n      <td>0.027132</td>\n      <td>0.143411</td>\n      <td>0.073643</td>\n      <td>0.054264</td>\n      <td>...</td>\n      <td>1.054264</td>\n      <td>0.131783</td>\n      <td>0.050388</td>\n      <td>0.135659</td>\n      <td>0.313953</td>\n      <td>0.158915</td>\n      <td>0.031008</td>\n      <td>0.197674</td>\n      <td>0.034884</td>\n      <td>0.286822</td>\n    </tr>\n    <tr>\n      <th>8.515600e+04</th>\n      <td>0.061905</td>\n      <td>0.085714</td>\n      <td>0.076190</td>\n      <td>0.038095</td>\n      <td>0.123810</td>\n      <td>0.023810</td>\n      <td>0.047619</td>\n      <td>0.219048</td>\n      <td>0.057143</td>\n      <td>0.076190</td>\n      <td>...</td>\n      <td>0.919048</td>\n      <td>0.176190</td>\n      <td>0.080952</td>\n      <td>0.114286</td>\n      <td>0.252381</td>\n      <td>0.128571</td>\n      <td>0.033333</td>\n      <td>0.176190</td>\n      <td>0.014286</td>\n      <td>0.228571</td>\n    </tr>\n    <tr>\n      <th>1.598890e+05</th>\n      <td>0.056338</td>\n      <td>0.047887</td>\n      <td>0.025352</td>\n      <td>0.064789</td>\n      <td>0.073239</td>\n      <td>0.047887</td>\n      <td>0.295775</td>\n      <td>0.087324</td>\n      <td>0.092958</td>\n      <td>0.047887</td>\n      <td>...</td>\n      <td>0.864789</td>\n      <td>0.104225</td>\n      <td>0.050704</td>\n      <td>0.073239</td>\n      <td>0.185915</td>\n      <td>0.092958</td>\n      <td>0.025352</td>\n      <td>0.092958</td>\n      <td>0.022535</td>\n      <td>0.171831</td>\n    </tr>\n    <tr>\n      <th>1.628090e+05</th>\n      <td>0.033742</td>\n      <td>0.012270</td>\n      <td>0.033742</td>\n      <td>0.049080</td>\n      <td>0.113497</td>\n      <td>0.067485</td>\n      <td>0.030675</td>\n      <td>0.110429</td>\n      <td>0.058282</td>\n      <td>0.079755</td>\n      <td>...</td>\n      <td>1.098160</td>\n      <td>0.052147</td>\n      <td>0.052147</td>\n      <td>0.082822</td>\n      <td>0.236196</td>\n      <td>0.147239</td>\n      <td>0.006135</td>\n      <td>0.073620</td>\n      <td>0.015337</td>\n      <td>0.162577</td>\n    </tr>\n    <tr>\n      <th>1.658280e+05</th>\n      <td>0.093750</td>\n      <td>0.125000</td>\n      <td>0.000000</td>\n      <td>0.156250</td>\n      <td>0.078125</td>\n      <td>0.093750</td>\n      <td>0.125000</td>\n      <td>0.234375</td>\n      <td>0.031250</td>\n      <td>0.046875</td>\n      <td>...</td>\n      <td>1.062500</td>\n      <td>0.218750</td>\n      <td>0.031250</td>\n      <td>0.062500</td>\n      <td>0.046875</td>\n      <td>0.406250</td>\n      <td>0.031250</td>\n      <td>0.156250</td>\n      <td>0.093750</td>\n      <td>0.328125</td>\n    </tr>\n    <tr>\n      <th>...</th>\n      <td>...</td>\n      <td>...</td>\n      <td>...</td>\n      <td>...</td>\n      <td>...</td>\n      <td>...</td>\n      <td>...</td>\n      <td>...</td>\n      <td>...</td>\n      <td>...</td>\n      <td>...</td>\n      <td>...</td>\n      <td>...</td>\n      <td>...</td>\n      <td>...</td>\n      <td>...</td>\n      <td>...</td>\n      <td>...</td>\n      <td>...</td>\n      <td>...</td>\n      <td>...</td>\n    </tr>\n    <tr>\n      <th>7.076854e+17</th>\n      <td>NaN</td>\n      <td>NaN</td>\n      <td>NaN</td>\n      <td>NaN</td>\n      <td>NaN</td>\n      <td>NaN</td>\n      <td>NaN</td>\n      <td>NaN</td>\n      <td>NaN</td>\n      <td>NaN</td>\n      <td>...</td>\n      <td>NaN</td>\n      <td>NaN</td>\n      <td>NaN</td>\n      <td>NaN</td>\n      <td>NaN</td>\n      <td>NaN</td>\n      <td>NaN</td>\n      <td>NaN</td>\n      <td>NaN</td>\n      <td>NaN</td>\n    </tr>\n    <tr>\n      <th>7.078251e+17</th>\n      <td>NaN</td>\n      <td>NaN</td>\n      <td>NaN</td>\n      <td>NaN</td>\n      <td>NaN</td>\n      <td>NaN</td>\n      <td>NaN</td>\n      <td>NaN</td>\n      <td>NaN</td>\n      <td>NaN</td>\n      <td>...</td>\n      <td>NaN</td>\n      <td>NaN</td>\n      <td>NaN</td>\n      <td>NaN</td>\n      <td>NaN</td>\n      <td>NaN</td>\n      <td>NaN</td>\n      <td>NaN</td>\n      <td>NaN</td>\n      <td>NaN</td>\n    </tr>\n    <tr>\n      <th>7.086799e+17</th>\n      <td>0.000000</td>\n      <td>0.000000</td>\n      <td>1.000000</td>\n      <td>0.000000</td>\n      <td>0.000000</td>\n      <td>0.000000</td>\n      <td>0.000000</td>\n      <td>0.000000</td>\n      <td>0.000000</td>\n      <td>0.000000</td>\n      <td>...</td>\n      <td>0.000000</td>\n      <td>0.000000</td>\n      <td>0.000000</td>\n      <td>0.000000</td>\n      <td>0.000000</td>\n      <td>0.000000</td>\n      <td>0.000000</td>\n      <td>0.000000</td>\n      <td>0.000000</td>\n      <td>0.000000</td>\n    </tr>\n    <tr>\n      <th>7.094515e+17</th>\n      <td>0.000000</td>\n      <td>0.000000</td>\n      <td>0.000000</td>\n      <td>0.000000</td>\n      <td>0.000000</td>\n      <td>0.000000</td>\n      <td>0.000000</td>\n      <td>0.000000</td>\n      <td>0.000000</td>\n      <td>0.000000</td>\n      <td>...</td>\n      <td>0.000000</td>\n      <td>0.000000</td>\n      <td>0.000000</td>\n      <td>0.000000</td>\n      <td>0.000000</td>\n      <td>0.000000</td>\n      <td>0.000000</td>\n      <td>0.000000</td>\n      <td>0.000000</td>\n      <td>0.000000</td>\n    </tr>\n    <tr>\n      <th>7.100541e+17</th>\n      <td>0.000000</td>\n      <td>0.000000</td>\n      <td>0.000000</td>\n      <td>0.000000</td>\n      <td>0.000000</td>\n      <td>0.000000</td>\n      <td>0.000000</td>\n      <td>0.000000</td>\n      <td>0.000000</td>\n      <td>0.000000</td>\n      <td>...</td>\n      <td>1.000000</td>\n      <td>0.000000</td>\n      <td>0.000000</td>\n      <td>0.000000</td>\n      <td>0.000000</td>\n      <td>0.000000</td>\n      <td>0.000000</td>\n      <td>0.000000</td>\n      <td>0.000000</td>\n      <td>0.000000</td>\n    </tr>\n  </tbody>\n</table>\n<p>6209 rows × 152 columns</p>\n</div>"
     },
     "execution_count": 134,
     "metadata": {},
     "output_type": "execute_result"
    }
   ],
   "source": [
    "result = result.groupby(by='listing_id')\n",
    "result = result.agg('mean')\n",
    "result"
   ],
   "metadata": {
    "collapsed": false
   }
  },
  {
   "cell_type": "code",
   "execution_count": 135,
   "outputs": [
    {
     "data": {
      "text/plain": "        listing_id         0         1         2         3         4  \\\n0     4.407700e+04  0.058140  0.120155  0.058140  0.058140  0.077519   \n1     8.515600e+04  0.061905  0.085714  0.076190  0.038095  0.123810   \n2     1.598890e+05  0.056338  0.047887  0.025352  0.064789  0.073239   \n3     1.628090e+05  0.033742  0.012270  0.033742  0.049080  0.113497   \n4     1.658280e+05  0.093750  0.125000  0.000000  0.156250  0.078125   \n...            ...       ...       ...       ...       ...       ...   \n6204  7.076854e+17       NaN       NaN       NaN       NaN       NaN   \n6205  7.078251e+17       NaN       NaN       NaN       NaN       NaN   \n6206  7.086799e+17  0.000000  0.000000  1.000000  0.000000  0.000000   \n6207  7.094515e+17  0.000000  0.000000  0.000000  0.000000  0.000000   \n6208  7.100541e+17  0.000000  0.000000  0.000000  0.000000  0.000000   \n\n             5         6         7         8  ...       142       143  \\\n0     0.038760  0.027132  0.143411  0.073643  ...  1.054264  0.131783   \n1     0.023810  0.047619  0.219048  0.057143  ...  0.919048  0.176190   \n2     0.047887  0.295775  0.087324  0.092958  ...  0.864789  0.104225   \n3     0.067485  0.030675  0.110429  0.058282  ...  1.098160  0.052147   \n4     0.093750  0.125000  0.234375  0.031250  ...  1.062500  0.218750   \n...        ...       ...       ...       ...  ...       ...       ...   \n6204       NaN       NaN       NaN       NaN  ...       NaN       NaN   \n6205       NaN       NaN       NaN       NaN  ...       NaN       NaN   \n6206  0.000000  0.000000  0.000000  0.000000  ...  0.000000  0.000000   \n6207  0.000000  0.000000  0.000000  0.000000  ...  0.000000  0.000000   \n6208  0.000000  0.000000  0.000000  0.000000  ...  1.000000  0.000000   \n\n           144       145       146       147       148       149       150  \\\n0     0.050388  0.135659  0.313953  0.158915  0.031008  0.197674  0.034884   \n1     0.080952  0.114286  0.252381  0.128571  0.033333  0.176190  0.014286   \n2     0.050704  0.073239  0.185915  0.092958  0.025352  0.092958  0.022535   \n3     0.052147  0.082822  0.236196  0.147239  0.006135  0.073620  0.015337   \n4     0.031250  0.062500  0.046875  0.406250  0.031250  0.156250  0.093750   \n...        ...       ...       ...       ...       ...       ...       ...   \n6204       NaN       NaN       NaN       NaN       NaN       NaN       NaN   \n6205       NaN       NaN       NaN       NaN       NaN       NaN       NaN   \n6206  0.000000  0.000000  0.000000  0.000000  0.000000  0.000000  0.000000   \n6207  0.000000  0.000000  0.000000  0.000000  0.000000  0.000000  0.000000   \n6208  0.000000  0.000000  0.000000  0.000000  0.000000  0.000000  0.000000   \n\n           151  \n0     0.286822  \n1     0.228571  \n2     0.171831  \n3     0.162577  \n4     0.328125  \n...        ...  \n6204       NaN  \n6205       NaN  \n6206  0.000000  \n6207  0.000000  \n6208  0.000000  \n\n[6209 rows x 153 columns]",
      "text/html": "<div>\n<style scoped>\n    .dataframe tbody tr th:only-of-type {\n        vertical-align: middle;\n    }\n\n    .dataframe tbody tr th {\n        vertical-align: top;\n    }\n\n    .dataframe thead th {\n        text-align: right;\n    }\n</style>\n<table border=\"1\" class=\"dataframe\">\n  <thead>\n    <tr style=\"text-align: right;\">\n      <th></th>\n      <th>listing_id</th>\n      <th>0</th>\n      <th>1</th>\n      <th>2</th>\n      <th>3</th>\n      <th>4</th>\n      <th>5</th>\n      <th>6</th>\n      <th>7</th>\n      <th>8</th>\n      <th>...</th>\n      <th>142</th>\n      <th>143</th>\n      <th>144</th>\n      <th>145</th>\n      <th>146</th>\n      <th>147</th>\n      <th>148</th>\n      <th>149</th>\n      <th>150</th>\n      <th>151</th>\n    </tr>\n  </thead>\n  <tbody>\n    <tr>\n      <th>0</th>\n      <td>4.407700e+04</td>\n      <td>0.058140</td>\n      <td>0.120155</td>\n      <td>0.058140</td>\n      <td>0.058140</td>\n      <td>0.077519</td>\n      <td>0.038760</td>\n      <td>0.027132</td>\n      <td>0.143411</td>\n      <td>0.073643</td>\n      <td>...</td>\n      <td>1.054264</td>\n      <td>0.131783</td>\n      <td>0.050388</td>\n      <td>0.135659</td>\n      <td>0.313953</td>\n      <td>0.158915</td>\n      <td>0.031008</td>\n      <td>0.197674</td>\n      <td>0.034884</td>\n      <td>0.286822</td>\n    </tr>\n    <tr>\n      <th>1</th>\n      <td>8.515600e+04</td>\n      <td>0.061905</td>\n      <td>0.085714</td>\n      <td>0.076190</td>\n      <td>0.038095</td>\n      <td>0.123810</td>\n      <td>0.023810</td>\n      <td>0.047619</td>\n      <td>0.219048</td>\n      <td>0.057143</td>\n      <td>...</td>\n      <td>0.919048</td>\n      <td>0.176190</td>\n      <td>0.080952</td>\n      <td>0.114286</td>\n      <td>0.252381</td>\n      <td>0.128571</td>\n      <td>0.033333</td>\n      <td>0.176190</td>\n      <td>0.014286</td>\n      <td>0.228571</td>\n    </tr>\n    <tr>\n      <th>2</th>\n      <td>1.598890e+05</td>\n      <td>0.056338</td>\n      <td>0.047887</td>\n      <td>0.025352</td>\n      <td>0.064789</td>\n      <td>0.073239</td>\n      <td>0.047887</td>\n      <td>0.295775</td>\n      <td>0.087324</td>\n      <td>0.092958</td>\n      <td>...</td>\n      <td>0.864789</td>\n      <td>0.104225</td>\n      <td>0.050704</td>\n      <td>0.073239</td>\n      <td>0.185915</td>\n      <td>0.092958</td>\n      <td>0.025352</td>\n      <td>0.092958</td>\n      <td>0.022535</td>\n      <td>0.171831</td>\n    </tr>\n    <tr>\n      <th>3</th>\n      <td>1.628090e+05</td>\n      <td>0.033742</td>\n      <td>0.012270</td>\n      <td>0.033742</td>\n      <td>0.049080</td>\n      <td>0.113497</td>\n      <td>0.067485</td>\n      <td>0.030675</td>\n      <td>0.110429</td>\n      <td>0.058282</td>\n      <td>...</td>\n      <td>1.098160</td>\n      <td>0.052147</td>\n      <td>0.052147</td>\n      <td>0.082822</td>\n      <td>0.236196</td>\n      <td>0.147239</td>\n      <td>0.006135</td>\n      <td>0.073620</td>\n      <td>0.015337</td>\n      <td>0.162577</td>\n    </tr>\n    <tr>\n      <th>4</th>\n      <td>1.658280e+05</td>\n      <td>0.093750</td>\n      <td>0.125000</td>\n      <td>0.000000</td>\n      <td>0.156250</td>\n      <td>0.078125</td>\n      <td>0.093750</td>\n      <td>0.125000</td>\n      <td>0.234375</td>\n      <td>0.031250</td>\n      <td>...</td>\n      <td>1.062500</td>\n      <td>0.218750</td>\n      <td>0.031250</td>\n      <td>0.062500</td>\n      <td>0.046875</td>\n      <td>0.406250</td>\n      <td>0.031250</td>\n      <td>0.156250</td>\n      <td>0.093750</td>\n      <td>0.328125</td>\n    </tr>\n    <tr>\n      <th>...</th>\n      <td>...</td>\n      <td>...</td>\n      <td>...</td>\n      <td>...</td>\n      <td>...</td>\n      <td>...</td>\n      <td>...</td>\n      <td>...</td>\n      <td>...</td>\n      <td>...</td>\n      <td>...</td>\n      <td>...</td>\n      <td>...</td>\n      <td>...</td>\n      <td>...</td>\n      <td>...</td>\n      <td>...</td>\n      <td>...</td>\n      <td>...</td>\n      <td>...</td>\n      <td>...</td>\n    </tr>\n    <tr>\n      <th>6204</th>\n      <td>7.076854e+17</td>\n      <td>NaN</td>\n      <td>NaN</td>\n      <td>NaN</td>\n      <td>NaN</td>\n      <td>NaN</td>\n      <td>NaN</td>\n      <td>NaN</td>\n      <td>NaN</td>\n      <td>NaN</td>\n      <td>...</td>\n      <td>NaN</td>\n      <td>NaN</td>\n      <td>NaN</td>\n      <td>NaN</td>\n      <td>NaN</td>\n      <td>NaN</td>\n      <td>NaN</td>\n      <td>NaN</td>\n      <td>NaN</td>\n      <td>NaN</td>\n    </tr>\n    <tr>\n      <th>6205</th>\n      <td>7.078251e+17</td>\n      <td>NaN</td>\n      <td>NaN</td>\n      <td>NaN</td>\n      <td>NaN</td>\n      <td>NaN</td>\n      <td>NaN</td>\n      <td>NaN</td>\n      <td>NaN</td>\n      <td>NaN</td>\n      <td>...</td>\n      <td>NaN</td>\n      <td>NaN</td>\n      <td>NaN</td>\n      <td>NaN</td>\n      <td>NaN</td>\n      <td>NaN</td>\n      <td>NaN</td>\n      <td>NaN</td>\n      <td>NaN</td>\n      <td>NaN</td>\n    </tr>\n    <tr>\n      <th>6206</th>\n      <td>7.086799e+17</td>\n      <td>0.000000</td>\n      <td>0.000000</td>\n      <td>1.000000</td>\n      <td>0.000000</td>\n      <td>0.000000</td>\n      <td>0.000000</td>\n      <td>0.000000</td>\n      <td>0.000000</td>\n      <td>0.000000</td>\n      <td>...</td>\n      <td>0.000000</td>\n      <td>0.000000</td>\n      <td>0.000000</td>\n      <td>0.000000</td>\n      <td>0.000000</td>\n      <td>0.000000</td>\n      <td>0.000000</td>\n      <td>0.000000</td>\n      <td>0.000000</td>\n      <td>0.000000</td>\n    </tr>\n    <tr>\n      <th>6207</th>\n      <td>7.094515e+17</td>\n      <td>0.000000</td>\n      <td>0.000000</td>\n      <td>0.000000</td>\n      <td>0.000000</td>\n      <td>0.000000</td>\n      <td>0.000000</td>\n      <td>0.000000</td>\n      <td>0.000000</td>\n      <td>0.000000</td>\n      <td>...</td>\n      <td>0.000000</td>\n      <td>0.000000</td>\n      <td>0.000000</td>\n      <td>0.000000</td>\n      <td>0.000000</td>\n      <td>0.000000</td>\n      <td>0.000000</td>\n      <td>0.000000</td>\n      <td>0.000000</td>\n      <td>0.000000</td>\n    </tr>\n    <tr>\n      <th>6208</th>\n      <td>7.100541e+17</td>\n      <td>0.000000</td>\n      <td>0.000000</td>\n      <td>0.000000</td>\n      <td>0.000000</td>\n      <td>0.000000</td>\n      <td>0.000000</td>\n      <td>0.000000</td>\n      <td>0.000000</td>\n      <td>0.000000</td>\n      <td>...</td>\n      <td>1.000000</td>\n      <td>0.000000</td>\n      <td>0.000000</td>\n      <td>0.000000</td>\n      <td>0.000000</td>\n      <td>0.000000</td>\n      <td>0.000000</td>\n      <td>0.000000</td>\n      <td>0.000000</td>\n      <td>0.000000</td>\n    </tr>\n  </tbody>\n</table>\n<p>6209 rows × 153 columns</p>\n</div>"
     },
     "execution_count": 135,
     "metadata": {},
     "output_type": "execute_result"
    }
   ],
   "source": [
    "result = result.reset_index()\n",
    "result"
   ],
   "metadata": {
    "collapsed": false
   }
  },
  {
   "cell_type": "code",
   "execution_count": 136,
   "outputs": [
    {
     "data": {
      "text/plain": "        listing_id         0         1         2         3         4  \\\n0     4.407700e+04  0.058140  0.120155  0.058140  0.058140  0.077519   \n1     8.515600e+04  0.061905  0.085714  0.076190  0.038095  0.123810   \n2     1.598890e+05  0.056338  0.047887  0.025352  0.064789  0.073239   \n3     1.628090e+05  0.033742  0.012270  0.033742  0.049080  0.113497   \n4     1.658280e+05  0.093750  0.125000  0.000000  0.156250  0.078125   \n...            ...       ...       ...       ...       ...       ...   \n6204  7.076854e+17  0.000000  0.000000  0.000000  0.000000  0.000000   \n6205  7.078251e+17  0.000000  0.000000  0.000000  0.000000  0.000000   \n6206  7.086799e+17  0.000000  0.000000  1.000000  0.000000  0.000000   \n6207  7.094515e+17  0.000000  0.000000  0.000000  0.000000  0.000000   \n6208  7.100541e+17  0.000000  0.000000  0.000000  0.000000  0.000000   \n\n             5         6         7         8  ...       142       143  \\\n0     0.038760  0.027132  0.143411  0.073643  ...  1.054264  0.131783   \n1     0.023810  0.047619  0.219048  0.057143  ...  0.919048  0.176190   \n2     0.047887  0.295775  0.087324  0.092958  ...  0.864789  0.104225   \n3     0.067485  0.030675  0.110429  0.058282  ...  1.098160  0.052147   \n4     0.093750  0.125000  0.234375  0.031250  ...  1.062500  0.218750   \n...        ...       ...       ...       ...  ...       ...       ...   \n6204  0.000000  0.000000  0.000000  0.000000  ...  0.000000  0.000000   \n6205  0.000000  0.000000  0.000000  0.000000  ...  0.000000  0.000000   \n6206  0.000000  0.000000  0.000000  0.000000  ...  0.000000  0.000000   \n6207  0.000000  0.000000  0.000000  0.000000  ...  0.000000  0.000000   \n6208  0.000000  0.000000  0.000000  0.000000  ...  1.000000  0.000000   \n\n           144       145       146       147       148       149       150  \\\n0     0.050388  0.135659  0.313953  0.158915  0.031008  0.197674  0.034884   \n1     0.080952  0.114286  0.252381  0.128571  0.033333  0.176190  0.014286   \n2     0.050704  0.073239  0.185915  0.092958  0.025352  0.092958  0.022535   \n3     0.052147  0.082822  0.236196  0.147239  0.006135  0.073620  0.015337   \n4     0.031250  0.062500  0.046875  0.406250  0.031250  0.156250  0.093750   \n...        ...       ...       ...       ...       ...       ...       ...   \n6204  0.000000  0.000000  0.000000  0.000000  0.000000  0.000000  0.000000   \n6205  0.000000  0.000000  0.000000  0.000000  0.000000  0.000000  0.000000   \n6206  0.000000  0.000000  0.000000  0.000000  0.000000  0.000000  0.000000   \n6207  0.000000  0.000000  0.000000  0.000000  0.000000  0.000000  0.000000   \n6208  0.000000  0.000000  0.000000  0.000000  0.000000  0.000000  0.000000   \n\n           151  \n0     0.286822  \n1     0.228571  \n2     0.171831  \n3     0.162577  \n4     0.328125  \n...        ...  \n6204  0.000000  \n6205  0.000000  \n6206  0.000000  \n6207  0.000000  \n6208  0.000000  \n\n[6209 rows x 153 columns]",
      "text/html": "<div>\n<style scoped>\n    .dataframe tbody tr th:only-of-type {\n        vertical-align: middle;\n    }\n\n    .dataframe tbody tr th {\n        vertical-align: top;\n    }\n\n    .dataframe thead th {\n        text-align: right;\n    }\n</style>\n<table border=\"1\" class=\"dataframe\">\n  <thead>\n    <tr style=\"text-align: right;\">\n      <th></th>\n      <th>listing_id</th>\n      <th>0</th>\n      <th>1</th>\n      <th>2</th>\n      <th>3</th>\n      <th>4</th>\n      <th>5</th>\n      <th>6</th>\n      <th>7</th>\n      <th>8</th>\n      <th>...</th>\n      <th>142</th>\n      <th>143</th>\n      <th>144</th>\n      <th>145</th>\n      <th>146</th>\n      <th>147</th>\n      <th>148</th>\n      <th>149</th>\n      <th>150</th>\n      <th>151</th>\n    </tr>\n  </thead>\n  <tbody>\n    <tr>\n      <th>0</th>\n      <td>4.407700e+04</td>\n      <td>0.058140</td>\n      <td>0.120155</td>\n      <td>0.058140</td>\n      <td>0.058140</td>\n      <td>0.077519</td>\n      <td>0.038760</td>\n      <td>0.027132</td>\n      <td>0.143411</td>\n      <td>0.073643</td>\n      <td>...</td>\n      <td>1.054264</td>\n      <td>0.131783</td>\n      <td>0.050388</td>\n      <td>0.135659</td>\n      <td>0.313953</td>\n      <td>0.158915</td>\n      <td>0.031008</td>\n      <td>0.197674</td>\n      <td>0.034884</td>\n      <td>0.286822</td>\n    </tr>\n    <tr>\n      <th>1</th>\n      <td>8.515600e+04</td>\n      <td>0.061905</td>\n      <td>0.085714</td>\n      <td>0.076190</td>\n      <td>0.038095</td>\n      <td>0.123810</td>\n      <td>0.023810</td>\n      <td>0.047619</td>\n      <td>0.219048</td>\n      <td>0.057143</td>\n      <td>...</td>\n      <td>0.919048</td>\n      <td>0.176190</td>\n      <td>0.080952</td>\n      <td>0.114286</td>\n      <td>0.252381</td>\n      <td>0.128571</td>\n      <td>0.033333</td>\n      <td>0.176190</td>\n      <td>0.014286</td>\n      <td>0.228571</td>\n    </tr>\n    <tr>\n      <th>2</th>\n      <td>1.598890e+05</td>\n      <td>0.056338</td>\n      <td>0.047887</td>\n      <td>0.025352</td>\n      <td>0.064789</td>\n      <td>0.073239</td>\n      <td>0.047887</td>\n      <td>0.295775</td>\n      <td>0.087324</td>\n      <td>0.092958</td>\n      <td>...</td>\n      <td>0.864789</td>\n      <td>0.104225</td>\n      <td>0.050704</td>\n      <td>0.073239</td>\n      <td>0.185915</td>\n      <td>0.092958</td>\n      <td>0.025352</td>\n      <td>0.092958</td>\n      <td>0.022535</td>\n      <td>0.171831</td>\n    </tr>\n    <tr>\n      <th>3</th>\n      <td>1.628090e+05</td>\n      <td>0.033742</td>\n      <td>0.012270</td>\n      <td>0.033742</td>\n      <td>0.049080</td>\n      <td>0.113497</td>\n      <td>0.067485</td>\n      <td>0.030675</td>\n      <td>0.110429</td>\n      <td>0.058282</td>\n      <td>...</td>\n      <td>1.098160</td>\n      <td>0.052147</td>\n      <td>0.052147</td>\n      <td>0.082822</td>\n      <td>0.236196</td>\n      <td>0.147239</td>\n      <td>0.006135</td>\n      <td>0.073620</td>\n      <td>0.015337</td>\n      <td>0.162577</td>\n    </tr>\n    <tr>\n      <th>4</th>\n      <td>1.658280e+05</td>\n      <td>0.093750</td>\n      <td>0.125000</td>\n      <td>0.000000</td>\n      <td>0.156250</td>\n      <td>0.078125</td>\n      <td>0.093750</td>\n      <td>0.125000</td>\n      <td>0.234375</td>\n      <td>0.031250</td>\n      <td>...</td>\n      <td>1.062500</td>\n      <td>0.218750</td>\n      <td>0.031250</td>\n      <td>0.062500</td>\n      <td>0.046875</td>\n      <td>0.406250</td>\n      <td>0.031250</td>\n      <td>0.156250</td>\n      <td>0.093750</td>\n      <td>0.328125</td>\n    </tr>\n    <tr>\n      <th>...</th>\n      <td>...</td>\n      <td>...</td>\n      <td>...</td>\n      <td>...</td>\n      <td>...</td>\n      <td>...</td>\n      <td>...</td>\n      <td>...</td>\n      <td>...</td>\n      <td>...</td>\n      <td>...</td>\n      <td>...</td>\n      <td>...</td>\n      <td>...</td>\n      <td>...</td>\n      <td>...</td>\n      <td>...</td>\n      <td>...</td>\n      <td>...</td>\n      <td>...</td>\n      <td>...</td>\n    </tr>\n    <tr>\n      <th>6204</th>\n      <td>7.076854e+17</td>\n      <td>0.000000</td>\n      <td>0.000000</td>\n      <td>0.000000</td>\n      <td>0.000000</td>\n      <td>0.000000</td>\n      <td>0.000000</td>\n      <td>0.000000</td>\n      <td>0.000000</td>\n      <td>0.000000</td>\n      <td>...</td>\n      <td>0.000000</td>\n      <td>0.000000</td>\n      <td>0.000000</td>\n      <td>0.000000</td>\n      <td>0.000000</td>\n      <td>0.000000</td>\n      <td>0.000000</td>\n      <td>0.000000</td>\n      <td>0.000000</td>\n      <td>0.000000</td>\n    </tr>\n    <tr>\n      <th>6205</th>\n      <td>7.078251e+17</td>\n      <td>0.000000</td>\n      <td>0.000000</td>\n      <td>0.000000</td>\n      <td>0.000000</td>\n      <td>0.000000</td>\n      <td>0.000000</td>\n      <td>0.000000</td>\n      <td>0.000000</td>\n      <td>0.000000</td>\n      <td>...</td>\n      <td>0.000000</td>\n      <td>0.000000</td>\n      <td>0.000000</td>\n      <td>0.000000</td>\n      <td>0.000000</td>\n      <td>0.000000</td>\n      <td>0.000000</td>\n      <td>0.000000</td>\n      <td>0.000000</td>\n      <td>0.000000</td>\n    </tr>\n    <tr>\n      <th>6206</th>\n      <td>7.086799e+17</td>\n      <td>0.000000</td>\n      <td>0.000000</td>\n      <td>1.000000</td>\n      <td>0.000000</td>\n      <td>0.000000</td>\n      <td>0.000000</td>\n      <td>0.000000</td>\n      <td>0.000000</td>\n      <td>0.000000</td>\n      <td>...</td>\n      <td>0.000000</td>\n      <td>0.000000</td>\n      <td>0.000000</td>\n      <td>0.000000</td>\n      <td>0.000000</td>\n      <td>0.000000</td>\n      <td>0.000000</td>\n      <td>0.000000</td>\n      <td>0.000000</td>\n      <td>0.000000</td>\n    </tr>\n    <tr>\n      <th>6207</th>\n      <td>7.094515e+17</td>\n      <td>0.000000</td>\n      <td>0.000000</td>\n      <td>0.000000</td>\n      <td>0.000000</td>\n      <td>0.000000</td>\n      <td>0.000000</td>\n      <td>0.000000</td>\n      <td>0.000000</td>\n      <td>0.000000</td>\n      <td>...</td>\n      <td>0.000000</td>\n      <td>0.000000</td>\n      <td>0.000000</td>\n      <td>0.000000</td>\n      <td>0.000000</td>\n      <td>0.000000</td>\n      <td>0.000000</td>\n      <td>0.000000</td>\n      <td>0.000000</td>\n      <td>0.000000</td>\n    </tr>\n    <tr>\n      <th>6208</th>\n      <td>7.100541e+17</td>\n      <td>0.000000</td>\n      <td>0.000000</td>\n      <td>0.000000</td>\n      <td>0.000000</td>\n      <td>0.000000</td>\n      <td>0.000000</td>\n      <td>0.000000</td>\n      <td>0.000000</td>\n      <td>0.000000</td>\n      <td>...</td>\n      <td>1.000000</td>\n      <td>0.000000</td>\n      <td>0.000000</td>\n      <td>0.000000</td>\n      <td>0.000000</td>\n      <td>0.000000</td>\n      <td>0.000000</td>\n      <td>0.000000</td>\n      <td>0.000000</td>\n      <td>0.000000</td>\n    </tr>\n  </tbody>\n</table>\n<p>6209 rows × 153 columns</p>\n</div>"
     },
     "execution_count": 136,
     "metadata": {},
     "output_type": "execute_result"
    }
   ],
   "source": [
    "result.fillna(0)"
   ],
   "metadata": {
    "collapsed": false
   }
  },
  {
   "cell_type": "code",
   "execution_count": 137,
   "outputs": [
    {
     "data": {
      "text/plain": "                id         0         1         2         3         4  \\\n0     4.407700e+04  0.058140  0.120155  0.058140  0.058140  0.077519   \n1     8.515600e+04  0.061905  0.085714  0.076190  0.038095  0.123810   \n2     1.598890e+05  0.056338  0.047887  0.025352  0.064789  0.073239   \n3     1.628090e+05  0.033742  0.012270  0.033742  0.049080  0.113497   \n4     1.658280e+05  0.093750  0.125000  0.000000  0.156250  0.078125   \n...            ...       ...       ...       ...       ...       ...   \n6204  7.076854e+17       NaN       NaN       NaN       NaN       NaN   \n6205  7.078251e+17       NaN       NaN       NaN       NaN       NaN   \n6206  7.086799e+17  0.000000  0.000000  1.000000  0.000000  0.000000   \n6207  7.094515e+17  0.000000  0.000000  0.000000  0.000000  0.000000   \n6208  7.100541e+17  0.000000  0.000000  0.000000  0.000000  0.000000   \n\n             5         6         7         8  ...       142       143  \\\n0     0.038760  0.027132  0.143411  0.073643  ...  1.054264  0.131783   \n1     0.023810  0.047619  0.219048  0.057143  ...  0.919048  0.176190   \n2     0.047887  0.295775  0.087324  0.092958  ...  0.864789  0.104225   \n3     0.067485  0.030675  0.110429  0.058282  ...  1.098160  0.052147   \n4     0.093750  0.125000  0.234375  0.031250  ...  1.062500  0.218750   \n...        ...       ...       ...       ...  ...       ...       ...   \n6204       NaN       NaN       NaN       NaN  ...       NaN       NaN   \n6205       NaN       NaN       NaN       NaN  ...       NaN       NaN   \n6206  0.000000  0.000000  0.000000  0.000000  ...  0.000000  0.000000   \n6207  0.000000  0.000000  0.000000  0.000000  ...  0.000000  0.000000   \n6208  0.000000  0.000000  0.000000  0.000000  ...  1.000000  0.000000   \n\n           144       145       146       147       148       149       150  \\\n0     0.050388  0.135659  0.313953  0.158915  0.031008  0.197674  0.034884   \n1     0.080952  0.114286  0.252381  0.128571  0.033333  0.176190  0.014286   \n2     0.050704  0.073239  0.185915  0.092958  0.025352  0.092958  0.022535   \n3     0.052147  0.082822  0.236196  0.147239  0.006135  0.073620  0.015337   \n4     0.031250  0.062500  0.046875  0.406250  0.031250  0.156250  0.093750   \n...        ...       ...       ...       ...       ...       ...       ...   \n6204       NaN       NaN       NaN       NaN       NaN       NaN       NaN   \n6205       NaN       NaN       NaN       NaN       NaN       NaN       NaN   \n6206  0.000000  0.000000  0.000000  0.000000  0.000000  0.000000  0.000000   \n6207  0.000000  0.000000  0.000000  0.000000  0.000000  0.000000  0.000000   \n6208  0.000000  0.000000  0.000000  0.000000  0.000000  0.000000  0.000000   \n\n           151  \n0     0.286822  \n1     0.228571  \n2     0.171831  \n3     0.162577  \n4     0.328125  \n...        ...  \n6204       NaN  \n6205       NaN  \n6206  0.000000  \n6207  0.000000  \n6208  0.000000  \n\n[6209 rows x 153 columns]",
      "text/html": "<div>\n<style scoped>\n    .dataframe tbody tr th:only-of-type {\n        vertical-align: middle;\n    }\n\n    .dataframe tbody tr th {\n        vertical-align: top;\n    }\n\n    .dataframe thead th {\n        text-align: right;\n    }\n</style>\n<table border=\"1\" class=\"dataframe\">\n  <thead>\n    <tr style=\"text-align: right;\">\n      <th></th>\n      <th>id</th>\n      <th>0</th>\n      <th>1</th>\n      <th>2</th>\n      <th>3</th>\n      <th>4</th>\n      <th>5</th>\n      <th>6</th>\n      <th>7</th>\n      <th>8</th>\n      <th>...</th>\n      <th>142</th>\n      <th>143</th>\n      <th>144</th>\n      <th>145</th>\n      <th>146</th>\n      <th>147</th>\n      <th>148</th>\n      <th>149</th>\n      <th>150</th>\n      <th>151</th>\n    </tr>\n  </thead>\n  <tbody>\n    <tr>\n      <th>0</th>\n      <td>4.407700e+04</td>\n      <td>0.058140</td>\n      <td>0.120155</td>\n      <td>0.058140</td>\n      <td>0.058140</td>\n      <td>0.077519</td>\n      <td>0.038760</td>\n      <td>0.027132</td>\n      <td>0.143411</td>\n      <td>0.073643</td>\n      <td>...</td>\n      <td>1.054264</td>\n      <td>0.131783</td>\n      <td>0.050388</td>\n      <td>0.135659</td>\n      <td>0.313953</td>\n      <td>0.158915</td>\n      <td>0.031008</td>\n      <td>0.197674</td>\n      <td>0.034884</td>\n      <td>0.286822</td>\n    </tr>\n    <tr>\n      <th>1</th>\n      <td>8.515600e+04</td>\n      <td>0.061905</td>\n      <td>0.085714</td>\n      <td>0.076190</td>\n      <td>0.038095</td>\n      <td>0.123810</td>\n      <td>0.023810</td>\n      <td>0.047619</td>\n      <td>0.219048</td>\n      <td>0.057143</td>\n      <td>...</td>\n      <td>0.919048</td>\n      <td>0.176190</td>\n      <td>0.080952</td>\n      <td>0.114286</td>\n      <td>0.252381</td>\n      <td>0.128571</td>\n      <td>0.033333</td>\n      <td>0.176190</td>\n      <td>0.014286</td>\n      <td>0.228571</td>\n    </tr>\n    <tr>\n      <th>2</th>\n      <td>1.598890e+05</td>\n      <td>0.056338</td>\n      <td>0.047887</td>\n      <td>0.025352</td>\n      <td>0.064789</td>\n      <td>0.073239</td>\n      <td>0.047887</td>\n      <td>0.295775</td>\n      <td>0.087324</td>\n      <td>0.092958</td>\n      <td>...</td>\n      <td>0.864789</td>\n      <td>0.104225</td>\n      <td>0.050704</td>\n      <td>0.073239</td>\n      <td>0.185915</td>\n      <td>0.092958</td>\n      <td>0.025352</td>\n      <td>0.092958</td>\n      <td>0.022535</td>\n      <td>0.171831</td>\n    </tr>\n    <tr>\n      <th>3</th>\n      <td>1.628090e+05</td>\n      <td>0.033742</td>\n      <td>0.012270</td>\n      <td>0.033742</td>\n      <td>0.049080</td>\n      <td>0.113497</td>\n      <td>0.067485</td>\n      <td>0.030675</td>\n      <td>0.110429</td>\n      <td>0.058282</td>\n      <td>...</td>\n      <td>1.098160</td>\n      <td>0.052147</td>\n      <td>0.052147</td>\n      <td>0.082822</td>\n      <td>0.236196</td>\n      <td>0.147239</td>\n      <td>0.006135</td>\n      <td>0.073620</td>\n      <td>0.015337</td>\n      <td>0.162577</td>\n    </tr>\n    <tr>\n      <th>4</th>\n      <td>1.658280e+05</td>\n      <td>0.093750</td>\n      <td>0.125000</td>\n      <td>0.000000</td>\n      <td>0.156250</td>\n      <td>0.078125</td>\n      <td>0.093750</td>\n      <td>0.125000</td>\n      <td>0.234375</td>\n      <td>0.031250</td>\n      <td>...</td>\n      <td>1.062500</td>\n      <td>0.218750</td>\n      <td>0.031250</td>\n      <td>0.062500</td>\n      <td>0.046875</td>\n      <td>0.406250</td>\n      <td>0.031250</td>\n      <td>0.156250</td>\n      <td>0.093750</td>\n      <td>0.328125</td>\n    </tr>\n    <tr>\n      <th>...</th>\n      <td>...</td>\n      <td>...</td>\n      <td>...</td>\n      <td>...</td>\n      <td>...</td>\n      <td>...</td>\n      <td>...</td>\n      <td>...</td>\n      <td>...</td>\n      <td>...</td>\n      <td>...</td>\n      <td>...</td>\n      <td>...</td>\n      <td>...</td>\n      <td>...</td>\n      <td>...</td>\n      <td>...</td>\n      <td>...</td>\n      <td>...</td>\n      <td>...</td>\n      <td>...</td>\n    </tr>\n    <tr>\n      <th>6204</th>\n      <td>7.076854e+17</td>\n      <td>NaN</td>\n      <td>NaN</td>\n      <td>NaN</td>\n      <td>NaN</td>\n      <td>NaN</td>\n      <td>NaN</td>\n      <td>NaN</td>\n      <td>NaN</td>\n      <td>NaN</td>\n      <td>...</td>\n      <td>NaN</td>\n      <td>NaN</td>\n      <td>NaN</td>\n      <td>NaN</td>\n      <td>NaN</td>\n      <td>NaN</td>\n      <td>NaN</td>\n      <td>NaN</td>\n      <td>NaN</td>\n      <td>NaN</td>\n    </tr>\n    <tr>\n      <th>6205</th>\n      <td>7.078251e+17</td>\n      <td>NaN</td>\n      <td>NaN</td>\n      <td>NaN</td>\n      <td>NaN</td>\n      <td>NaN</td>\n      <td>NaN</td>\n      <td>NaN</td>\n      <td>NaN</td>\n      <td>NaN</td>\n      <td>...</td>\n      <td>NaN</td>\n      <td>NaN</td>\n      <td>NaN</td>\n      <td>NaN</td>\n      <td>NaN</td>\n      <td>NaN</td>\n      <td>NaN</td>\n      <td>NaN</td>\n      <td>NaN</td>\n      <td>NaN</td>\n    </tr>\n    <tr>\n      <th>6206</th>\n      <td>7.086799e+17</td>\n      <td>0.000000</td>\n      <td>0.000000</td>\n      <td>1.000000</td>\n      <td>0.000000</td>\n      <td>0.000000</td>\n      <td>0.000000</td>\n      <td>0.000000</td>\n      <td>0.000000</td>\n      <td>0.000000</td>\n      <td>...</td>\n      <td>0.000000</td>\n      <td>0.000000</td>\n      <td>0.000000</td>\n      <td>0.000000</td>\n      <td>0.000000</td>\n      <td>0.000000</td>\n      <td>0.000000</td>\n      <td>0.000000</td>\n      <td>0.000000</td>\n      <td>0.000000</td>\n    </tr>\n    <tr>\n      <th>6207</th>\n      <td>7.094515e+17</td>\n      <td>0.000000</td>\n      <td>0.000000</td>\n      <td>0.000000</td>\n      <td>0.000000</td>\n      <td>0.000000</td>\n      <td>0.000000</td>\n      <td>0.000000</td>\n      <td>0.000000</td>\n      <td>0.000000</td>\n      <td>...</td>\n      <td>0.000000</td>\n      <td>0.000000</td>\n      <td>0.000000</td>\n      <td>0.000000</td>\n      <td>0.000000</td>\n      <td>0.000000</td>\n      <td>0.000000</td>\n      <td>0.000000</td>\n      <td>0.000000</td>\n      <td>0.000000</td>\n    </tr>\n    <tr>\n      <th>6208</th>\n      <td>7.100541e+17</td>\n      <td>0.000000</td>\n      <td>0.000000</td>\n      <td>0.000000</td>\n      <td>0.000000</td>\n      <td>0.000000</td>\n      <td>0.000000</td>\n      <td>0.000000</td>\n      <td>0.000000</td>\n      <td>0.000000</td>\n      <td>...</td>\n      <td>1.000000</td>\n      <td>0.000000</td>\n      <td>0.000000</td>\n      <td>0.000000</td>\n      <td>0.000000</td>\n      <td>0.000000</td>\n      <td>0.000000</td>\n      <td>0.000000</td>\n      <td>0.000000</td>\n      <td>0.000000</td>\n    </tr>\n  </tbody>\n</table>\n<p>6209 rows × 153 columns</p>\n</div>"
     },
     "execution_count": 137,
     "metadata": {},
     "output_type": "execute_result"
    }
   ],
   "source": [
    "result.rename(columns={'listing_id': 'id'}, inplace=True)\n",
    "result"
   ],
   "metadata": {
    "collapsed": false
   }
  },
  {
   "cell_type": "code",
   "execution_count": 138,
   "outputs": [
    {
     "data": {
      "text/plain": "6209"
     },
     "execution_count": 138,
     "metadata": {},
     "output_type": "execute_result"
    }
   ],
   "source": [
    "listings = pd.read_csv('new_listings1.csv')\n",
    "listings.__len__()"
   ],
   "metadata": {
    "collapsed": false
   }
  },
  {
   "cell_type": "code",
   "execution_count": 145,
   "outputs": [
    {
     "data": {
      "text/plain": "      Unnamed: 0            id  price  availability_30  number_of_reviews  \\\n0              0  4.407700e+04   70.0                2                258   \n1              1  8.515600e+04   67.0                3                210   \n2              2  1.598890e+05   45.0                1                355   \n3              3  1.628090e+05   80.0                2                326   \n4              4  1.658280e+05  251.0                1                 64   \n...          ...           ...    ...              ...                ...   \n6204        6204  7.076854e+17  100.0                0                  1   \n6205        6205  7.078251e+17   37.0                9                  1   \n6206        6206  7.086799e+17  800.0               29                  1   \n6207        6207  7.094515e+17  200.0                4                  1   \n6208        6208  7.100541e+17  131.0                5                  1   \n\n      first_review  reviews_per_month  review_scores_rating  \\\n0             4255               1.85                  4.78   \n1             4190               1.53                  4.79   \n2             3889               2.78                  4.74   \n3             2721               3.68                  4.84   \n4             4036               0.48                  4.63   \n...            ...                ...                   ...   \n6204            63               1.00                  5.00   \n6205            66               1.00                  5.00   \n6206            62               1.00                  5.00   \n6207            62               1.00                  5.00   \n6208            63               1.00                  5.00   \n\n      review_scores_value  review_scores_checkin  ...       142       143  \\\n0                    4.82                   4.93  ...  1.054264  0.131783   \n1                    4.78                   4.90  ...  0.919048  0.176190   \n2                    4.74                   4.86  ...  0.864789  0.104225   \n3                    4.85                   4.95  ...  1.098160  0.052147   \n4                    4.55                   4.81  ...  1.062500  0.218750   \n...                   ...                    ...  ...       ...       ...   \n6204                 4.00                   5.00  ...       NaN       NaN   \n6205                 5.00                   5.00  ...       NaN       NaN   \n6206                 5.00                   5.00  ...  0.000000  0.000000   \n6207                 5.00                   5.00  ...  0.000000  0.000000   \n6208                 5.00                   5.00  ...  1.000000  0.000000   \n\n           144       145       146       147       148       149       150  \\\n0     0.050388  0.135659  0.313953  0.158915  0.031008  0.197674  0.034884   \n1     0.080952  0.114286  0.252381  0.128571  0.033333  0.176190  0.014286   \n2     0.050704  0.073239  0.185915  0.092958  0.025352  0.092958  0.022535   \n3     0.052147  0.082822  0.236196  0.147239  0.006135  0.073620  0.015337   \n4     0.031250  0.062500  0.046875  0.406250  0.031250  0.156250  0.093750   \n...        ...       ...       ...       ...       ...       ...       ...   \n6204       NaN       NaN       NaN       NaN       NaN       NaN       NaN   \n6205       NaN       NaN       NaN       NaN       NaN       NaN       NaN   \n6206  0.000000  0.000000  0.000000  0.000000  0.000000  0.000000  0.000000   \n6207  0.000000  0.000000  0.000000  0.000000  0.000000  0.000000  0.000000   \n6208  0.000000  0.000000  0.000000  0.000000  0.000000  0.000000  0.000000   \n\n           151  \n0     0.286822  \n1     0.228571  \n2     0.171831  \n3     0.162577  \n4     0.328125  \n...        ...  \n6204       NaN  \n6205       NaN  \n6206  0.000000  \n6207  0.000000  \n6208  0.000000  \n\n[6209 rows x 320 columns]",
      "text/html": "<div>\n<style scoped>\n    .dataframe tbody tr th:only-of-type {\n        vertical-align: middle;\n    }\n\n    .dataframe tbody tr th {\n        vertical-align: top;\n    }\n\n    .dataframe thead th {\n        text-align: right;\n    }\n</style>\n<table border=\"1\" class=\"dataframe\">\n  <thead>\n    <tr style=\"text-align: right;\">\n      <th></th>\n      <th>Unnamed: 0</th>\n      <th>id</th>\n      <th>price</th>\n      <th>availability_30</th>\n      <th>number_of_reviews</th>\n      <th>first_review</th>\n      <th>reviews_per_month</th>\n      <th>review_scores_rating</th>\n      <th>review_scores_value</th>\n      <th>review_scores_checkin</th>\n      <th>...</th>\n      <th>142</th>\n      <th>143</th>\n      <th>144</th>\n      <th>145</th>\n      <th>146</th>\n      <th>147</th>\n      <th>148</th>\n      <th>149</th>\n      <th>150</th>\n      <th>151</th>\n    </tr>\n  </thead>\n  <tbody>\n    <tr>\n      <th>0</th>\n      <td>0</td>\n      <td>4.407700e+04</td>\n      <td>70.0</td>\n      <td>2</td>\n      <td>258</td>\n      <td>4255</td>\n      <td>1.85</td>\n      <td>4.78</td>\n      <td>4.82</td>\n      <td>4.93</td>\n      <td>...</td>\n      <td>1.054264</td>\n      <td>0.131783</td>\n      <td>0.050388</td>\n      <td>0.135659</td>\n      <td>0.313953</td>\n      <td>0.158915</td>\n      <td>0.031008</td>\n      <td>0.197674</td>\n      <td>0.034884</td>\n      <td>0.286822</td>\n    </tr>\n    <tr>\n      <th>1</th>\n      <td>1</td>\n      <td>8.515600e+04</td>\n      <td>67.0</td>\n      <td>3</td>\n      <td>210</td>\n      <td>4190</td>\n      <td>1.53</td>\n      <td>4.79</td>\n      <td>4.78</td>\n      <td>4.90</td>\n      <td>...</td>\n      <td>0.919048</td>\n      <td>0.176190</td>\n      <td>0.080952</td>\n      <td>0.114286</td>\n      <td>0.252381</td>\n      <td>0.128571</td>\n      <td>0.033333</td>\n      <td>0.176190</td>\n      <td>0.014286</td>\n      <td>0.228571</td>\n    </tr>\n    <tr>\n      <th>2</th>\n      <td>2</td>\n      <td>1.598890e+05</td>\n      <td>45.0</td>\n      <td>1</td>\n      <td>355</td>\n      <td>3889</td>\n      <td>2.78</td>\n      <td>4.74</td>\n      <td>4.74</td>\n      <td>4.86</td>\n      <td>...</td>\n      <td>0.864789</td>\n      <td>0.104225</td>\n      <td>0.050704</td>\n      <td>0.073239</td>\n      <td>0.185915</td>\n      <td>0.092958</td>\n      <td>0.025352</td>\n      <td>0.092958</td>\n      <td>0.022535</td>\n      <td>0.171831</td>\n    </tr>\n    <tr>\n      <th>3</th>\n      <td>3</td>\n      <td>1.628090e+05</td>\n      <td>80.0</td>\n      <td>2</td>\n      <td>326</td>\n      <td>2721</td>\n      <td>3.68</td>\n      <td>4.84</td>\n      <td>4.85</td>\n      <td>4.95</td>\n      <td>...</td>\n      <td>1.098160</td>\n      <td>0.052147</td>\n      <td>0.052147</td>\n      <td>0.082822</td>\n      <td>0.236196</td>\n      <td>0.147239</td>\n      <td>0.006135</td>\n      <td>0.073620</td>\n      <td>0.015337</td>\n      <td>0.162577</td>\n    </tr>\n    <tr>\n      <th>4</th>\n      <td>4</td>\n      <td>1.658280e+05</td>\n      <td>251.0</td>\n      <td>1</td>\n      <td>64</td>\n      <td>4036</td>\n      <td>0.48</td>\n      <td>4.63</td>\n      <td>4.55</td>\n      <td>4.81</td>\n      <td>...</td>\n      <td>1.062500</td>\n      <td>0.218750</td>\n      <td>0.031250</td>\n      <td>0.062500</td>\n      <td>0.046875</td>\n      <td>0.406250</td>\n      <td>0.031250</td>\n      <td>0.156250</td>\n      <td>0.093750</td>\n      <td>0.328125</td>\n    </tr>\n    <tr>\n      <th>...</th>\n      <td>...</td>\n      <td>...</td>\n      <td>...</td>\n      <td>...</td>\n      <td>...</td>\n      <td>...</td>\n      <td>...</td>\n      <td>...</td>\n      <td>...</td>\n      <td>...</td>\n      <td>...</td>\n      <td>...</td>\n      <td>...</td>\n      <td>...</td>\n      <td>...</td>\n      <td>...</td>\n      <td>...</td>\n      <td>...</td>\n      <td>...</td>\n      <td>...</td>\n      <td>...</td>\n    </tr>\n    <tr>\n      <th>6204</th>\n      <td>6204</td>\n      <td>7.076854e+17</td>\n      <td>100.0</td>\n      <td>0</td>\n      <td>1</td>\n      <td>63</td>\n      <td>1.00</td>\n      <td>5.00</td>\n      <td>4.00</td>\n      <td>5.00</td>\n      <td>...</td>\n      <td>NaN</td>\n      <td>NaN</td>\n      <td>NaN</td>\n      <td>NaN</td>\n      <td>NaN</td>\n      <td>NaN</td>\n      <td>NaN</td>\n      <td>NaN</td>\n      <td>NaN</td>\n      <td>NaN</td>\n    </tr>\n    <tr>\n      <th>6205</th>\n      <td>6205</td>\n      <td>7.078251e+17</td>\n      <td>37.0</td>\n      <td>9</td>\n      <td>1</td>\n      <td>66</td>\n      <td>1.00</td>\n      <td>5.00</td>\n      <td>5.00</td>\n      <td>5.00</td>\n      <td>...</td>\n      <td>NaN</td>\n      <td>NaN</td>\n      <td>NaN</td>\n      <td>NaN</td>\n      <td>NaN</td>\n      <td>NaN</td>\n      <td>NaN</td>\n      <td>NaN</td>\n      <td>NaN</td>\n      <td>NaN</td>\n    </tr>\n    <tr>\n      <th>6206</th>\n      <td>6206</td>\n      <td>7.086799e+17</td>\n      <td>800.0</td>\n      <td>29</td>\n      <td>1</td>\n      <td>62</td>\n      <td>1.00</td>\n      <td>5.00</td>\n      <td>5.00</td>\n      <td>5.00</td>\n      <td>...</td>\n      <td>0.000000</td>\n      <td>0.000000</td>\n      <td>0.000000</td>\n      <td>0.000000</td>\n      <td>0.000000</td>\n      <td>0.000000</td>\n      <td>0.000000</td>\n      <td>0.000000</td>\n      <td>0.000000</td>\n      <td>0.000000</td>\n    </tr>\n    <tr>\n      <th>6207</th>\n      <td>6207</td>\n      <td>7.094515e+17</td>\n      <td>200.0</td>\n      <td>4</td>\n      <td>1</td>\n      <td>62</td>\n      <td>1.00</td>\n      <td>5.00</td>\n      <td>5.00</td>\n      <td>5.00</td>\n      <td>...</td>\n      <td>0.000000</td>\n      <td>0.000000</td>\n      <td>0.000000</td>\n      <td>0.000000</td>\n      <td>0.000000</td>\n      <td>0.000000</td>\n      <td>0.000000</td>\n      <td>0.000000</td>\n      <td>0.000000</td>\n      <td>0.000000</td>\n    </tr>\n    <tr>\n      <th>6208</th>\n      <td>6208</td>\n      <td>7.100541e+17</td>\n      <td>131.0</td>\n      <td>5</td>\n      <td>1</td>\n      <td>63</td>\n      <td>1.00</td>\n      <td>5.00</td>\n      <td>5.00</td>\n      <td>5.00</td>\n      <td>...</td>\n      <td>1.000000</td>\n      <td>0.000000</td>\n      <td>0.000000</td>\n      <td>0.000000</td>\n      <td>0.000000</td>\n      <td>0.000000</td>\n      <td>0.000000</td>\n      <td>0.000000</td>\n      <td>0.000000</td>\n      <td>0.000000</td>\n    </tr>\n  </tbody>\n</table>\n<p>6209 rows × 320 columns</p>\n</div>"
     },
     "execution_count": 145,
     "metadata": {},
     "output_type": "execute_result"
    }
   ],
   "source": [
    "listings['id'] = listings['id'].astype('float64')\n",
    "final = pd.merge(listings, result, on=['id'])\n",
    "final"
   ],
   "metadata": {
    "collapsed": false
   }
  },
  {
   "cell_type": "code",
   "execution_count": 146,
   "outputs": [
    {
     "data": {
      "text/plain": "['Unnamed: 0',\n 'id',\n 'price',\n 'availability_30',\n 'number_of_reviews',\n 'first_review',\n 'reviews_per_month',\n 'review_scores_rating',\n 'review_scores_value',\n 'review_scores_checkin',\n 'review_scores_accuracy',\n 'review_scores_location',\n 'review_scores_cleanliness',\n 'review_scores_communication',\n 'host_response_time_a few days or more',\n 'host_response_time_unknown',\n 'host_response_time_within a day',\n 'host_response_time_within a few hours',\n 'host_response_time_within an hour',\n 'host_response_rate_0%-69%',\n 'host_response_rate_70%-79%',\n 'host_response_rate_80%-89%',\n 'host_response_rate_90%-97%',\n 'host_response_rate_98%-100%',\n 'host_response_rate_unknown',\n 'host_acceptance_rate_0%-69%',\n 'host_acceptance_rate_70%-79%',\n 'host_acceptance_rate_80%-89%',\n 'host_acceptance_rate_90%-96%',\n 'host_acceptance_rate_97%-100%',\n 'host_acceptance_rate_unknown',\n 'host_is_superhost_f',\n 'host_is_superhost_t',\n 'calculated_host_listings_count_1',\n 'calculated_host_listings_count_10-29',\n 'calculated_host_listings_count_2-4',\n 'calculated_host_listings_count_5-9',\n 'calculated_host_listings_count_>29',\n 'host_identity_verified_f',\n 'host_identity_verified_t',\n 'neighbourhood_cleansed_Dn Laoghaire-Rathdown',\n 'neighbourhood_cleansed_Dublin City',\n 'neighbourhood_cleansed_Fingal',\n 'neighbourhood_cleansed_South Dublin',\n 'property_type_Entire condo',\n 'property_type_Entire cottage',\n 'property_type_Entire guest suite',\n 'property_type_Entire guesthouse',\n 'property_type_Entire home',\n 'property_type_Entire rental unit',\n 'property_type_Entire serviced apartment',\n 'property_type_Entire townhouse',\n 'property_type_Private room in bed and breakfast',\n 'property_type_Private room in condo',\n 'property_type_Private room in home',\n 'property_type_Private room in rental unit',\n 'property_type_Private room in townhouse',\n 'property_type_Shared room in home',\n 'property_type_Shared room in rental unit',\n 'property_type_others',\n 'room_type_Entire home/apt',\n 'room_type_Hotel room',\n 'room_type_Private room',\n 'room_type_Shared room',\n 'accommodates_1',\n 'accommodates_2',\n 'accommodates_3',\n 'accommodates_4',\n 'accommodates_5',\n 'accommodates_>5',\n 'bathrooms_text_1 bath',\n 'bathrooms_text_1 private bath',\n 'bathrooms_text_1 shared bath',\n 'bathrooms_text_1.5 baths',\n 'bathrooms_text_1.5 shared baths',\n 'bathrooms_text_2 baths',\n 'bathrooms_text_2 shared baths',\n 'bathrooms_text_2.5 baths',\n 'bathrooms_text_3 baths',\n 'bathrooms_text_others',\n 'bedrooms_1',\n 'bedrooms_2',\n 'bedrooms_3',\n 'bedrooms_4',\n 'bedrooms_5',\n 'bedrooms_>5',\n 'bedrooms_unknown',\n 'beds_1',\n 'beds_2',\n 'beds_3',\n 'beds_4',\n 'beds_5',\n 'beds_6',\n 'beds_>6',\n 'beds_unknown',\n 'minimum_nights_1',\n 'minimum_nights_2',\n 'minimum_nights_3',\n 'minimum_nights_4',\n 'minimum_nights_5',\n 'minimum_nights_6',\n 'minimum_nights_7-33',\n 'minimum_nights_>33',\n 'has_availability_f',\n 'has_availability_t',\n 'instant_bookable_f',\n 'instant_bookable_t',\n 'amenities_Hot water kettle',\n 'amenities_Fire extinguisher',\n 'amenities_Outdoor furniture',\n 'amenities_Dining table',\n 'amenities_Indoor fireplace',\n 'amenities_Cooking basics',\n 'amenities_Breakfast',\n 'amenities_Microwave',\n 'amenities_Private fenced garden or backyard',\n 'amenities_Central heating',\n 'amenities_Clothing storage: closet',\n 'amenities_Ethernet connection',\n 'amenities_Dishes and silverware',\n 'amenities_First aid kit',\n 'amenities_Cleaning products',\n 'amenities_Shower gel',\n 'amenities_Lock on bedroom door',\n 'amenities_Single level home',\n 'amenities_Dishwasher',\n 'amenities_Freezer',\n 'amenities_Free street parking',\n 'amenities_Bathtub',\n 'amenities_Coffee maker',\n 'amenities_Refrigerator',\n 'amenities_Conditioner',\n 'amenities_Body soap',\n 'amenities_Bed linens',\n 'amenities_Toaster',\n 'amenities_Lockbox',\n 'amenities_Room-darkening shades',\n 'amenities_Outdoor dining area',\n 'amenities_Wine glasses',\n 'amenities_Extra pillows and blankets',\n 'amenities_Oven',\n 'amenities_Dryer',\n 'amenities_Free parking on premises',\n 'amenities_Luggage dropoff allowed',\n 'amenities_TV with standard cable',\n 'amenities_Cable TV',\n 'amenities_Private patio or balcony',\n 'amenities_Stove',\n 'amenities_Laundromat nearby',\n 'amenities_Crib',\n 'amenities_Pack \\\\u2019n play/Travel crib',\n 'amenities_Drying rack for clothing',\n 'amenities_Backyard',\n 'amenities_Host greets you',\n 'amenities_Paid parking off premises',\n 'amenities_Security cameras on property',\n 'amenities_Private entrance',\n 'amenities_High chair',\n 'amenities_Dedicated workspace',\n 'amenities_Children\\\\u2019s books and toys',\n 'amenities_BBQ grill',\n 'amenities_Paid parking on premises',\n 'amenities_Baking sheet',\n 'amenities_Patio or balcony',\n 'amenities_TV',\n 'amenities_Elevator',\n 'amenities_Free washer \\\\u2013 In unit',\n 'amenities_Free dryer \\\\u2013 In unit',\n 0,\n 1,\n 2,\n 3,\n 4,\n 5,\n 6,\n 7,\n 8,\n 9,\n 10,\n 11,\n 12,\n 13,\n 14,\n 15,\n 16,\n 17,\n 18,\n 19,\n 20,\n 21,\n 22,\n 23,\n 24,\n 25,\n 26,\n 27,\n 28,\n 29,\n 30,\n 31,\n 32,\n 33,\n 34,\n 35,\n 36,\n 37,\n 38,\n 39,\n 40,\n 41,\n 42,\n 43,\n 44,\n 45,\n 46,\n 47,\n 48,\n 49,\n 50,\n 51,\n 52,\n 53,\n 54,\n 55,\n 56,\n 57,\n 58,\n 59,\n 60,\n 61,\n 62,\n 63,\n 64,\n 65,\n 66,\n 67,\n 68,\n 69,\n 70,\n 71,\n 72,\n 73,\n 74,\n 75,\n 76,\n 77,\n 78,\n 79,\n 80,\n 81,\n 82,\n 83,\n 84,\n 85,\n 86,\n 87,\n 88,\n 89,\n 90,\n 91,\n 92,\n 93,\n 94,\n 95,\n 96,\n 97,\n 98,\n 99,\n 100,\n 101,\n 102,\n 103,\n 104,\n 105,\n 106,\n 107,\n 108,\n 109,\n 110,\n 111,\n 112,\n 113,\n 114,\n 115,\n 116,\n 117,\n 118,\n 119,\n 120,\n 121,\n 122,\n 123,\n 124,\n 125,\n 126,\n 127,\n 128,\n 129,\n 130,\n 131,\n 132,\n 133,\n 134,\n 135,\n 136,\n 137,\n 138,\n 139,\n 140,\n 141,\n 142,\n 143,\n 144,\n 145,\n 146,\n 147,\n 148,\n 149,\n 150,\n 151]"
     },
     "execution_count": 146,
     "metadata": {},
     "output_type": "execute_result"
    }
   ],
   "source": [
    "final.columns.values.tolist()"
   ],
   "metadata": {
    "collapsed": false
   }
  },
  {
   "cell_type": "code",
   "execution_count": 147,
   "outputs": [
    {
     "data": {
      "text/plain": "                id  price  availability_30  number_of_reviews  first_review  \\\n0     4.407700e+04   70.0                2                258          4255   \n1     8.515600e+04   67.0                3                210          4190   \n2     1.598890e+05   45.0                1                355          3889   \n3     1.628090e+05   80.0                2                326          2721   \n4     1.658280e+05  251.0                1                 64          4036   \n...            ...    ...              ...                ...           ...   \n6204  7.076854e+17  100.0                0                  1            63   \n6205  7.078251e+17   37.0                9                  1            66   \n6206  7.086799e+17  800.0               29                  1            62   \n6207  7.094515e+17  200.0                4                  1            62   \n6208  7.100541e+17  131.0                5                  1            63   \n\n      reviews_per_month  review_scores_rating  review_scores_value  \\\n0                  1.85                  4.78                 4.82   \n1                  1.53                  4.79                 4.78   \n2                  2.78                  4.74                 4.74   \n3                  3.68                  4.84                 4.85   \n4                  0.48                  4.63                 4.55   \n...                 ...                   ...                  ...   \n6204               1.00                  5.00                 4.00   \n6205               1.00                  5.00                 5.00   \n6206               1.00                  5.00                 5.00   \n6207               1.00                  5.00                 5.00   \n6208               1.00                  5.00                 5.00   \n\n      review_scores_checkin  review_scores_accuracy  ...       142       143  \\\n0                      4.93                    4.83  ...  1.054264  0.131783   \n1                      4.90                    4.86  ...  0.919048  0.176190   \n2                      4.86                    4.77  ...  0.864789  0.104225   \n3                      4.95                    4.88  ...  1.098160  0.052147   \n4                      4.81                    4.89  ...  1.062500  0.218750   \n...                     ...                     ...  ...       ...       ...   \n6204                   5.00                    5.00  ...       NaN       NaN   \n6205                   5.00                    5.00  ...       NaN       NaN   \n6206                   5.00                    5.00  ...  0.000000  0.000000   \n6207                   5.00                    5.00  ...  0.000000  0.000000   \n6208                   5.00                    5.00  ...  1.000000  0.000000   \n\n           144       145       146       147       148       149       150  \\\n0     0.050388  0.135659  0.313953  0.158915  0.031008  0.197674  0.034884   \n1     0.080952  0.114286  0.252381  0.128571  0.033333  0.176190  0.014286   \n2     0.050704  0.073239  0.185915  0.092958  0.025352  0.092958  0.022535   \n3     0.052147  0.082822  0.236196  0.147239  0.006135  0.073620  0.015337   \n4     0.031250  0.062500  0.046875  0.406250  0.031250  0.156250  0.093750   \n...        ...       ...       ...       ...       ...       ...       ...   \n6204       NaN       NaN       NaN       NaN       NaN       NaN       NaN   \n6205       NaN       NaN       NaN       NaN       NaN       NaN       NaN   \n6206  0.000000  0.000000  0.000000  0.000000  0.000000  0.000000  0.000000   \n6207  0.000000  0.000000  0.000000  0.000000  0.000000  0.000000  0.000000   \n6208  0.000000  0.000000  0.000000  0.000000  0.000000  0.000000  0.000000   \n\n           151  \n0     0.286822  \n1     0.228571  \n2     0.171831  \n3     0.162577  \n4     0.328125  \n...        ...  \n6204       NaN  \n6205       NaN  \n6206  0.000000  \n6207  0.000000  \n6208  0.000000  \n\n[6209 rows x 319 columns]",
      "text/html": "<div>\n<style scoped>\n    .dataframe tbody tr th:only-of-type {\n        vertical-align: middle;\n    }\n\n    .dataframe tbody tr th {\n        vertical-align: top;\n    }\n\n    .dataframe thead th {\n        text-align: right;\n    }\n</style>\n<table border=\"1\" class=\"dataframe\">\n  <thead>\n    <tr style=\"text-align: right;\">\n      <th></th>\n      <th>id</th>\n      <th>price</th>\n      <th>availability_30</th>\n      <th>number_of_reviews</th>\n      <th>first_review</th>\n      <th>reviews_per_month</th>\n      <th>review_scores_rating</th>\n      <th>review_scores_value</th>\n      <th>review_scores_checkin</th>\n      <th>review_scores_accuracy</th>\n      <th>...</th>\n      <th>142</th>\n      <th>143</th>\n      <th>144</th>\n      <th>145</th>\n      <th>146</th>\n      <th>147</th>\n      <th>148</th>\n      <th>149</th>\n      <th>150</th>\n      <th>151</th>\n    </tr>\n  </thead>\n  <tbody>\n    <tr>\n      <th>0</th>\n      <td>4.407700e+04</td>\n      <td>70.0</td>\n      <td>2</td>\n      <td>258</td>\n      <td>4255</td>\n      <td>1.85</td>\n      <td>4.78</td>\n      <td>4.82</td>\n      <td>4.93</td>\n      <td>4.83</td>\n      <td>...</td>\n      <td>1.054264</td>\n      <td>0.131783</td>\n      <td>0.050388</td>\n      <td>0.135659</td>\n      <td>0.313953</td>\n      <td>0.158915</td>\n      <td>0.031008</td>\n      <td>0.197674</td>\n      <td>0.034884</td>\n      <td>0.286822</td>\n    </tr>\n    <tr>\n      <th>1</th>\n      <td>8.515600e+04</td>\n      <td>67.0</td>\n      <td>3</td>\n      <td>210</td>\n      <td>4190</td>\n      <td>1.53</td>\n      <td>4.79</td>\n      <td>4.78</td>\n      <td>4.90</td>\n      <td>4.86</td>\n      <td>...</td>\n      <td>0.919048</td>\n      <td>0.176190</td>\n      <td>0.080952</td>\n      <td>0.114286</td>\n      <td>0.252381</td>\n      <td>0.128571</td>\n      <td>0.033333</td>\n      <td>0.176190</td>\n      <td>0.014286</td>\n      <td>0.228571</td>\n    </tr>\n    <tr>\n      <th>2</th>\n      <td>1.598890e+05</td>\n      <td>45.0</td>\n      <td>1</td>\n      <td>355</td>\n      <td>3889</td>\n      <td>2.78</td>\n      <td>4.74</td>\n      <td>4.74</td>\n      <td>4.86</td>\n      <td>4.77</td>\n      <td>...</td>\n      <td>0.864789</td>\n      <td>0.104225</td>\n      <td>0.050704</td>\n      <td>0.073239</td>\n      <td>0.185915</td>\n      <td>0.092958</td>\n      <td>0.025352</td>\n      <td>0.092958</td>\n      <td>0.022535</td>\n      <td>0.171831</td>\n    </tr>\n    <tr>\n      <th>3</th>\n      <td>1.628090e+05</td>\n      <td>80.0</td>\n      <td>2</td>\n      <td>326</td>\n      <td>2721</td>\n      <td>3.68</td>\n      <td>4.84</td>\n      <td>4.85</td>\n      <td>4.95</td>\n      <td>4.88</td>\n      <td>...</td>\n      <td>1.098160</td>\n      <td>0.052147</td>\n      <td>0.052147</td>\n      <td>0.082822</td>\n      <td>0.236196</td>\n      <td>0.147239</td>\n      <td>0.006135</td>\n      <td>0.073620</td>\n      <td>0.015337</td>\n      <td>0.162577</td>\n    </tr>\n    <tr>\n      <th>4</th>\n      <td>1.658280e+05</td>\n      <td>251.0</td>\n      <td>1</td>\n      <td>64</td>\n      <td>4036</td>\n      <td>0.48</td>\n      <td>4.63</td>\n      <td>4.55</td>\n      <td>4.81</td>\n      <td>4.89</td>\n      <td>...</td>\n      <td>1.062500</td>\n      <td>0.218750</td>\n      <td>0.031250</td>\n      <td>0.062500</td>\n      <td>0.046875</td>\n      <td>0.406250</td>\n      <td>0.031250</td>\n      <td>0.156250</td>\n      <td>0.093750</td>\n      <td>0.328125</td>\n    </tr>\n    <tr>\n      <th>...</th>\n      <td>...</td>\n      <td>...</td>\n      <td>...</td>\n      <td>...</td>\n      <td>...</td>\n      <td>...</td>\n      <td>...</td>\n      <td>...</td>\n      <td>...</td>\n      <td>...</td>\n      <td>...</td>\n      <td>...</td>\n      <td>...</td>\n      <td>...</td>\n      <td>...</td>\n      <td>...</td>\n      <td>...</td>\n      <td>...</td>\n      <td>...</td>\n      <td>...</td>\n      <td>...</td>\n    </tr>\n    <tr>\n      <th>6204</th>\n      <td>7.076854e+17</td>\n      <td>100.0</td>\n      <td>0</td>\n      <td>1</td>\n      <td>63</td>\n      <td>1.00</td>\n      <td>5.00</td>\n      <td>4.00</td>\n      <td>5.00</td>\n      <td>5.00</td>\n      <td>...</td>\n      <td>NaN</td>\n      <td>NaN</td>\n      <td>NaN</td>\n      <td>NaN</td>\n      <td>NaN</td>\n      <td>NaN</td>\n      <td>NaN</td>\n      <td>NaN</td>\n      <td>NaN</td>\n      <td>NaN</td>\n    </tr>\n    <tr>\n      <th>6205</th>\n      <td>7.078251e+17</td>\n      <td>37.0</td>\n      <td>9</td>\n      <td>1</td>\n      <td>66</td>\n      <td>1.00</td>\n      <td>5.00</td>\n      <td>5.00</td>\n      <td>5.00</td>\n      <td>5.00</td>\n      <td>...</td>\n      <td>NaN</td>\n      <td>NaN</td>\n      <td>NaN</td>\n      <td>NaN</td>\n      <td>NaN</td>\n      <td>NaN</td>\n      <td>NaN</td>\n      <td>NaN</td>\n      <td>NaN</td>\n      <td>NaN</td>\n    </tr>\n    <tr>\n      <th>6206</th>\n      <td>7.086799e+17</td>\n      <td>800.0</td>\n      <td>29</td>\n      <td>1</td>\n      <td>62</td>\n      <td>1.00</td>\n      <td>5.00</td>\n      <td>5.00</td>\n      <td>5.00</td>\n      <td>5.00</td>\n      <td>...</td>\n      <td>0.000000</td>\n      <td>0.000000</td>\n      <td>0.000000</td>\n      <td>0.000000</td>\n      <td>0.000000</td>\n      <td>0.000000</td>\n      <td>0.000000</td>\n      <td>0.000000</td>\n      <td>0.000000</td>\n      <td>0.000000</td>\n    </tr>\n    <tr>\n      <th>6207</th>\n      <td>7.094515e+17</td>\n      <td>200.0</td>\n      <td>4</td>\n      <td>1</td>\n      <td>62</td>\n      <td>1.00</td>\n      <td>5.00</td>\n      <td>5.00</td>\n      <td>5.00</td>\n      <td>5.00</td>\n      <td>...</td>\n      <td>0.000000</td>\n      <td>0.000000</td>\n      <td>0.000000</td>\n      <td>0.000000</td>\n      <td>0.000000</td>\n      <td>0.000000</td>\n      <td>0.000000</td>\n      <td>0.000000</td>\n      <td>0.000000</td>\n      <td>0.000000</td>\n    </tr>\n    <tr>\n      <th>6208</th>\n      <td>7.100541e+17</td>\n      <td>131.0</td>\n      <td>5</td>\n      <td>1</td>\n      <td>63</td>\n      <td>1.00</td>\n      <td>5.00</td>\n      <td>5.00</td>\n      <td>5.00</td>\n      <td>5.00</td>\n      <td>...</td>\n      <td>1.000000</td>\n      <td>0.000000</td>\n      <td>0.000000</td>\n      <td>0.000000</td>\n      <td>0.000000</td>\n      <td>0.000000</td>\n      <td>0.000000</td>\n      <td>0.000000</td>\n      <td>0.000000</td>\n      <td>0.000000</td>\n    </tr>\n  </tbody>\n</table>\n<p>6209 rows × 319 columns</p>\n</div>"
     },
     "execution_count": 147,
     "metadata": {},
     "output_type": "execute_result"
    }
   ],
   "source": [
    "final = final.drop(['Unnamed: 0'], axis=1)\n",
    "final"
   ],
   "metadata": {
    "collapsed": false
   }
  },
  {
   "cell_type": "code",
   "execution_count": 148,
   "outputs": [
    {
     "data": {
      "text/plain": "['review_scores_rating',\n 'review_scores_value',\n 'review_scores_checkin',\n 'review_scores_accuracy',\n 'review_scores_location',\n 'review_scores_cleanliness',\n 'review_scores_communication',\n 'price',\n 'availability_30',\n 'number_of_reviews',\n 'first_review',\n 'reviews_per_month',\n 'host_response_time_a few days or more',\n 'host_response_time_unknown',\n 'host_response_time_within a day',\n 'host_response_time_within a few hours',\n 'host_response_time_within an hour',\n 'host_response_rate_0%-69%',\n 'host_response_rate_70%-79%',\n 'host_response_rate_80%-89%',\n 'host_response_rate_90%-97%',\n 'host_response_rate_98%-100%',\n 'host_response_rate_unknown',\n 'host_acceptance_rate_0%-69%',\n 'host_acceptance_rate_70%-79%',\n 'host_acceptance_rate_80%-89%',\n 'host_acceptance_rate_90%-96%',\n 'host_acceptance_rate_97%-100%',\n 'host_acceptance_rate_unknown',\n 'host_is_superhost_f',\n 'host_is_superhost_t',\n 'calculated_host_listings_count_1',\n 'calculated_host_listings_count_10-29',\n 'calculated_host_listings_count_2-4',\n 'calculated_host_listings_count_5-9',\n 'calculated_host_listings_count_>29',\n 'host_identity_verified_f',\n 'host_identity_verified_t',\n 'neighbourhood_cleansed_Dn Laoghaire-Rathdown',\n 'neighbourhood_cleansed_Dublin City',\n 'neighbourhood_cleansed_Fingal',\n 'neighbourhood_cleansed_South Dublin',\n 'property_type_Entire condo',\n 'property_type_Entire cottage',\n 'property_type_Entire guest suite',\n 'property_type_Entire guesthouse',\n 'property_type_Entire home',\n 'property_type_Entire rental unit',\n 'property_type_Entire serviced apartment',\n 'property_type_Entire townhouse',\n 'property_type_Private room in bed and breakfast',\n 'property_type_Private room in condo',\n 'property_type_Private room in home',\n 'property_type_Private room in rental unit',\n 'property_type_Private room in townhouse',\n 'property_type_Shared room in home',\n 'property_type_Shared room in rental unit',\n 'property_type_others',\n 'room_type_Entire home/apt',\n 'room_type_Hotel room',\n 'room_type_Private room',\n 'room_type_Shared room',\n 'accommodates_1',\n 'accommodates_2',\n 'accommodates_3',\n 'accommodates_4',\n 'accommodates_5',\n 'accommodates_>5',\n 'bathrooms_text_1 bath',\n 'bathrooms_text_1 private bath',\n 'bathrooms_text_1 shared bath',\n 'bathrooms_text_1.5 baths',\n 'bathrooms_text_1.5 shared baths',\n 'bathrooms_text_2 baths',\n 'bathrooms_text_2 shared baths',\n 'bathrooms_text_2.5 baths',\n 'bathrooms_text_3 baths',\n 'bathrooms_text_others',\n 'bedrooms_1',\n 'bedrooms_2',\n 'bedrooms_3',\n 'bedrooms_4',\n 'bedrooms_5',\n 'bedrooms_>5',\n 'bedrooms_unknown',\n 'beds_1',\n 'beds_2',\n 'beds_3',\n 'beds_4',\n 'beds_5',\n 'beds_6',\n 'beds_>6',\n 'beds_unknown',\n 'minimum_nights_1',\n 'minimum_nights_2',\n 'minimum_nights_3',\n 'minimum_nights_4',\n 'minimum_nights_5',\n 'minimum_nights_6',\n 'minimum_nights_7-33',\n 'minimum_nights_>33',\n 'has_availability_f',\n 'has_availability_t',\n 'instant_bookable_f',\n 'instant_bookable_t',\n 'amenities_Hot water kettle',\n 'amenities_Fire extinguisher',\n 'amenities_Outdoor furniture',\n 'amenities_Dining table',\n 'amenities_Indoor fireplace',\n 'amenities_Cooking basics',\n 'amenities_Breakfast',\n 'amenities_Microwave',\n 'amenities_Private fenced garden or backyard',\n 'amenities_Central heating',\n 'amenities_Clothing storage: closet',\n 'amenities_Ethernet connection',\n 'amenities_Dishes and silverware',\n 'amenities_First aid kit',\n 'amenities_Cleaning products',\n 'amenities_Shower gel',\n 'amenities_Lock on bedroom door',\n 'amenities_Single level home',\n 'amenities_Dishwasher',\n 'amenities_Freezer',\n 'amenities_Free street parking',\n 'amenities_Bathtub',\n 'amenities_Coffee maker',\n 'amenities_Refrigerator',\n 'amenities_Conditioner',\n 'amenities_Body soap',\n 'amenities_Bed linens',\n 'amenities_Toaster',\n 'amenities_Lockbox',\n 'amenities_Room-darkening shades',\n 'amenities_Outdoor dining area',\n 'amenities_Wine glasses',\n 'amenities_Extra pillows and blankets',\n 'amenities_Oven',\n 'amenities_Dryer',\n 'amenities_Free parking on premises',\n 'amenities_Luggage dropoff allowed',\n 'amenities_TV with standard cable',\n 'amenities_Cable TV',\n 'amenities_Private patio or balcony',\n 'amenities_Stove',\n 'amenities_Laundromat nearby',\n 'amenities_Crib',\n 'amenities_Pack \\\\u2019n play/Travel crib',\n 'amenities_Drying rack for clothing',\n 'amenities_Backyard',\n 'amenities_Host greets you',\n 'amenities_Paid parking off premises',\n 'amenities_Security cameras on property',\n 'amenities_Private entrance',\n 'amenities_High chair',\n 'amenities_Dedicated workspace',\n 'amenities_Children\\\\u2019s books and toys',\n 'amenities_BBQ grill',\n 'amenities_Paid parking on premises',\n 'amenities_Baking sheet',\n 'amenities_Patio or balcony',\n 'amenities_TV',\n 'amenities_Elevator',\n 'amenities_Free washer \\\\u2013 In unit',\n 'amenities_Free dryer \\\\u2013 In unit',\n 0,\n 1,\n 2,\n 3,\n 4,\n 5,\n 6,\n 7,\n 8,\n 9,\n 10,\n 11,\n 12,\n 13,\n 14,\n 15,\n 16,\n 17,\n 18,\n 19,\n 20,\n 21,\n 22,\n 23,\n 24,\n 25,\n 26,\n 27,\n 28,\n 29,\n 30,\n 31,\n 32,\n 33,\n 34,\n 35,\n 36,\n 37,\n 38,\n 39,\n 40,\n 41,\n 42,\n 43,\n 44,\n 45,\n 46,\n 47,\n 48,\n 49,\n 50,\n 51,\n 52,\n 53,\n 54,\n 55,\n 56,\n 57,\n 58,\n 59,\n 60,\n 61,\n 62,\n 63,\n 64,\n 65,\n 66,\n 67,\n 68,\n 69,\n 70,\n 71,\n 72,\n 73,\n 74,\n 75,\n 76,\n 77,\n 78,\n 79,\n 80,\n 81,\n 82,\n 83,\n 84,\n 85,\n 86,\n 87,\n 88,\n 89,\n 90,\n 91,\n 92,\n 93,\n 94,\n 95,\n 96,\n 97,\n 98,\n 99,\n 100,\n 101,\n 102,\n 103,\n 104,\n 105,\n 106,\n 107,\n 108,\n 109,\n 110,\n 111,\n 112,\n 113,\n 114,\n 115,\n 116,\n 117,\n 118,\n 119,\n 120,\n 121,\n 122,\n 123,\n 124,\n 125,\n 126,\n 127,\n 128,\n 129,\n 130,\n 131,\n 132,\n 133,\n 134,\n 135,\n 136,\n 137,\n 138,\n 139,\n 140,\n 141,\n 142,\n 143,\n 144,\n 145,\n 146,\n 147,\n 148,\n 149,\n 150,\n 151]"
     },
     "execution_count": 148,
     "metadata": {},
     "output_type": "execute_result"
    }
   ],
   "source": [
    "order = [\n",
    " 'review_scores_rating',\n",
    " 'review_scores_value',\n",
    " 'review_scores_checkin',\n",
    " 'review_scores_accuracy',\n",
    " 'review_scores_location',\n",
    " 'review_scores_cleanliness',\n",
    " 'review_scores_communication',\n",
    "    'id',\n",
    " 'price',\n",
    " 'availability_30',\n",
    " 'number_of_reviews',\n",
    " 'first_review',\n",
    " 'reviews_per_month',\n",
    " 'host_response_time_a few days or more',\n",
    " 'host_response_time_unknown',\n",
    " 'host_response_time_within a day',\n",
    " 'host_response_time_within a few hours',\n",
    " 'host_response_time_within an hour',\n",
    " 'host_response_rate_0%-69%',\n",
    " 'host_response_rate_70%-79%',\n",
    " 'host_response_rate_80%-89%',\n",
    " 'host_response_rate_90%-97%',\n",
    " 'host_response_rate_98%-100%',\n",
    " 'host_response_rate_unknown',\n",
    " 'host_acceptance_rate_0%-69%',\n",
    " 'host_acceptance_rate_70%-79%',\n",
    " 'host_acceptance_rate_80%-89%',\n",
    " 'host_acceptance_rate_90%-96%',\n",
    " 'host_acceptance_rate_97%-100%',\n",
    " 'host_acceptance_rate_unknown',\n",
    " 'host_is_superhost_f',\n",
    " 'host_is_superhost_t',\n",
    " 'calculated_host_listings_count_1',\n",
    " 'calculated_host_listings_count_10-29',\n",
    " 'calculated_host_listings_count_2-4',\n",
    " 'calculated_host_listings_count_5-9',\n",
    " 'calculated_host_listings_count_>29',\n",
    " 'host_identity_verified_f',\n",
    " 'host_identity_verified_t',\n",
    " 'neighbourhood_cleansed_Dn Laoghaire-Rathdown',\n",
    " 'neighbourhood_cleansed_Dublin City',\n",
    " 'neighbourhood_cleansed_Fingal',\n",
    " 'neighbourhood_cleansed_South Dublin',\n",
    " 'property_type_Entire condo',\n",
    " 'property_type_Entire cottage',\n",
    " 'property_type_Entire guest suite',\n",
    " 'property_type_Entire guesthouse',\n",
    " 'property_type_Entire home',\n",
    " 'property_type_Entire rental unit',\n",
    " 'property_type_Entire serviced apartment',\n",
    " 'property_type_Entire townhouse',\n",
    " 'property_type_Private room in bed and breakfast',\n",
    " 'property_type_Private room in condo',\n",
    " 'property_type_Private room in home',\n",
    " 'property_type_Private room in rental unit',\n",
    " 'property_type_Private room in townhouse',\n",
    " 'property_type_Shared room in home',\n",
    " 'property_type_Shared room in rental unit',\n",
    " 'property_type_others',\n",
    " 'room_type_Entire home/apt',\n",
    " 'room_type_Hotel room',\n",
    " 'room_type_Private room',\n",
    " 'room_type_Shared room',\n",
    " 'accommodates_1',\n",
    " 'accommodates_2',\n",
    " 'accommodates_3',\n",
    " 'accommodates_4',\n",
    " 'accommodates_5',\n",
    " 'accommodates_>5',\n",
    " 'bathrooms_text_1 bath',\n",
    " 'bathrooms_text_1 private bath',\n",
    " 'bathrooms_text_1 shared bath',\n",
    " 'bathrooms_text_1.5 baths',\n",
    " 'bathrooms_text_1.5 shared baths',\n",
    " 'bathrooms_text_2 baths',\n",
    " 'bathrooms_text_2 shared baths',\n",
    " 'bathrooms_text_2.5 baths',\n",
    " 'bathrooms_text_3 baths',\n",
    " 'bathrooms_text_others',\n",
    " 'bedrooms_1',\n",
    " 'bedrooms_2',\n",
    " 'bedrooms_3',\n",
    " 'bedrooms_4',\n",
    " 'bedrooms_5',\n",
    " 'bedrooms_>5',\n",
    " 'bedrooms_unknown',\n",
    " 'beds_1',\n",
    " 'beds_2',\n",
    " 'beds_3',\n",
    " 'beds_4',\n",
    " 'beds_5',\n",
    " 'beds_6',\n",
    " 'beds_>6',\n",
    " 'beds_unknown',\n",
    " 'minimum_nights_1',\n",
    " 'minimum_nights_2',\n",
    " 'minimum_nights_3',\n",
    " 'minimum_nights_4',\n",
    " 'minimum_nights_5',\n",
    " 'minimum_nights_6',\n",
    " 'minimum_nights_7-33',\n",
    " 'minimum_nights_>33',\n",
    " 'has_availability_f',\n",
    " 'has_availability_t',\n",
    " 'instant_bookable_f',\n",
    " 'instant_bookable_t',\n",
    " 'amenities_Hot water kettle',\n",
    " 'amenities_Fire extinguisher',\n",
    " 'amenities_Outdoor furniture',\n",
    " 'amenities_Dining table',\n",
    " 'amenities_Indoor fireplace',\n",
    " 'amenities_Cooking basics',\n",
    " 'amenities_Breakfast',\n",
    " 'amenities_Microwave',\n",
    " 'amenities_Private fenced garden or backyard',\n",
    " 'amenities_Central heating',\n",
    " 'amenities_Clothing storage: closet',\n",
    " 'amenities_Ethernet connection',\n",
    " 'amenities_Dishes and silverware',\n",
    " 'amenities_First aid kit',\n",
    " 'amenities_Cleaning products',\n",
    " 'amenities_Shower gel',\n",
    " 'amenities_Lock on bedroom door',\n",
    " 'amenities_Single level home',\n",
    " 'amenities_Dishwasher',\n",
    " 'amenities_Freezer',\n",
    " 'amenities_Free street parking',\n",
    " 'amenities_Bathtub',\n",
    " 'amenities_Coffee maker',\n",
    " 'amenities_Refrigerator',\n",
    " 'amenities_Conditioner',\n",
    " 'amenities_Body soap',\n",
    " 'amenities_Bed linens',\n",
    " 'amenities_Toaster',\n",
    " 'amenities_Lockbox',\n",
    " 'amenities_Room-darkening shades',\n",
    " 'amenities_Outdoor dining area',\n",
    " 'amenities_Wine glasses',\n",
    " 'amenities_Extra pillows and blankets',\n",
    " 'amenities_Oven',\n",
    " 'amenities_Dryer',\n",
    " 'amenities_Free parking on premises',\n",
    " 'amenities_Luggage dropoff allowed',\n",
    " 'amenities_TV with standard cable',\n",
    " 'amenities_Cable TV',\n",
    " 'amenities_Private patio or balcony',\n",
    " 'amenities_Stove',\n",
    " 'amenities_Laundromat nearby',\n",
    " 'amenities_Crib',\n",
    " 'amenities_Pack \\\\u2019n play/Travel crib',\n",
    " 'amenities_Drying rack for clothing',\n",
    " 'amenities_Backyard',\n",
    " 'amenities_Host greets you',\n",
    " 'amenities_Paid parking off premises',\n",
    " 'amenities_Security cameras on property',\n",
    " 'amenities_Private entrance',\n",
    " 'amenities_High chair',\n",
    " 'amenities_Dedicated workspace',\n",
    " 'amenities_Children\\\\u2019s books and toys',\n",
    " 'amenities_BBQ grill',\n",
    " 'amenities_Paid parking on premises',\n",
    " 'amenities_Baking sheet',\n",
    " 'amenities_Patio or balcony',\n",
    " 'amenities_TV',\n",
    " 'amenities_Elevator',\n",
    " 'amenities_Free washer \\\\u2013 In unit',\n",
    " 'amenities_Free dryer \\\\u2013 In unit',\n",
    " 0,\n",
    " 1,\n",
    " 2,\n",
    " 3,\n",
    " 4,\n",
    " 5,\n",
    " 6,\n",
    " 7,\n",
    " 8,\n",
    " 9,\n",
    " 10,\n",
    " 11,\n",
    " 12,\n",
    " 13,\n",
    " 14,\n",
    " 15,\n",
    " 16,\n",
    " 17,\n",
    " 18,\n",
    " 19,\n",
    " 20,\n",
    " 21,\n",
    " 22,\n",
    " 23,\n",
    " 24,\n",
    " 25,\n",
    " 26,\n",
    " 27,\n",
    " 28,\n",
    " 29,\n",
    " 30,\n",
    " 31,\n",
    " 32,\n",
    " 33,\n",
    " 34,\n",
    " 35,\n",
    " 36,\n",
    " 37,\n",
    " 38,\n",
    " 39,\n",
    " 40,\n",
    " 41,\n",
    " 42,\n",
    " 43,\n",
    " 44,\n",
    " 45,\n",
    " 46,\n",
    " 47,\n",
    " 48,\n",
    " 49,\n",
    " 50,\n",
    " 51,\n",
    " 52,\n",
    " 53,\n",
    " 54,\n",
    " 55,\n",
    " 56,\n",
    " 57,\n",
    " 58,\n",
    " 59,\n",
    " 60,\n",
    " 61,\n",
    " 62,\n",
    " 63,\n",
    " 64,\n",
    " 65,\n",
    " 66,\n",
    " 67,\n",
    " 68,\n",
    " 69,\n",
    " 70,\n",
    " 71,\n",
    " 72,\n",
    " 73,\n",
    " 74,\n",
    " 75,\n",
    " 76,\n",
    " 77,\n",
    " 78,\n",
    " 79,\n",
    " 80,\n",
    " 81,\n",
    " 82,\n",
    " 83,\n",
    " 84,\n",
    " 85,\n",
    " 86,\n",
    " 87,\n",
    " 88,\n",
    " 89,\n",
    " 90,\n",
    " 91,\n",
    " 92,\n",
    " 93,\n",
    " 94,\n",
    " 95,\n",
    " 96,\n",
    " 97,\n",
    " 98,\n",
    " 99,\n",
    " 100,\n",
    " 101,\n",
    " 102,\n",
    " 103,\n",
    " 104,\n",
    " 105,\n",
    " 106,\n",
    " 107,\n",
    " 108,\n",
    " 109,\n",
    " 110,\n",
    " 111,\n",
    " 112,\n",
    " 113,\n",
    " 114,\n",
    " 115,\n",
    " 116,\n",
    " 117,\n",
    " 118,\n",
    " 119,\n",
    " 120,\n",
    " 121,\n",
    " 122,\n",
    " 123,\n",
    " 124,\n",
    " 125,\n",
    " 126,\n",
    " 127,\n",
    " 128,\n",
    " 129,\n",
    " 130,\n",
    " 131,\n",
    " 132,\n",
    " 133,\n",
    " 134,\n",
    " 135,\n",
    " 136,\n",
    " 137,\n",
    " 138,\n",
    " 139,\n",
    " 140,\n",
    " 141,\n",
    " 142,\n",
    " 143,\n",
    " 144,\n",
    " 145,\n",
    " 146,\n",
    " 147,\n",
    " 148,\n",
    " 149,\n",
    " 150,\n",
    " 151]\n",
    "final = final[order]\n",
    "final = final.drop(['id'], axis=1)\n",
    "final.columns.values.tolist()"
   ],
   "metadata": {
    "collapsed": false
   }
  },
  {
   "cell_type": "code",
   "execution_count": 149,
   "outputs": [],
   "source": [
    "final.to_csv('final_features.csv')"
   ],
   "metadata": {
    "collapsed": false
   }
  }
 ],
 "metadata": {
  "kernelspec": {
   "display_name": "Python 3",
   "language": "python",
   "name": "python3"
  },
  "language_info": {
   "codemirror_mode": {
    "name": "ipython",
    "version": 2
   },
   "file_extension": ".py",
   "mimetype": "text/x-python",
   "name": "python",
   "nbconvert_exporter": "python",
   "pygments_lexer": "ipython2",
   "version": "2.7.6"
  }
 },
 "nbformat": 4,
 "nbformat_minor": 0
}
