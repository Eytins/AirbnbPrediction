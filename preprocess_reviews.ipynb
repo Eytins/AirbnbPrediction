{
 "cells": [
  {
   "cell_type": "code",
   "execution_count": null,
   "metadata": {
    "collapsed": true
   },
   "outputs": [],
   "source": [
    "import os\n",
    "\n",
    "import pandas as pd\n",
    "\n",
    "reviews = pd.read_csv('new_reviews.csv')\n",
    "reviews.head()"
   ]
  },
  {
   "cell_type": "code",
   "execution_count": null,
   "outputs": [],
   "source": [
    "reviews = reviews.drop(['Unnamed: 0'], axis=1)\n",
    "reviews['comments'] = reviews['0']\n",
    "reviews = reviews.drop(['0'], axis=1)\n",
    "reviews = reviews.dropna(subset=['comments'])\n",
    "reviews"
   ],
   "metadata": {
    "collapsed": false
   }
  },
  {
   "cell_type": "code",
   "execution_count": null,
   "outputs": [],
   "source": [
    "from sklearn.feature_extraction.text import CountVectorizer\n",
    "from nltk.stem import PorterStemmer\n",
    "import nltk\n",
    "\n",
    "nltk.download('stopwords')"
   ],
   "metadata": {
    "collapsed": false
   }
  },
  {
   "cell_type": "code",
   "execution_count": null,
   "outputs": [],
   "source": [
    "stemmer = PorterStemmer()\n",
    "\n",
    "\n",
    "def list_to_str_include_stem(l):\n",
    "    res = ''\n",
    "    for s in l:\n",
    "        res = res + ' ' + stemmer.stem(s)\n",
    "    return res"
   ],
   "metadata": {
    "collapsed": false
   }
  },
  {
   "cell_type": "code",
   "execution_count": null,
   "outputs": [],
   "source": [
    "# Remove punctuation and stemmerize\n",
    "tokenizer = CountVectorizer().build_tokenizer()\n",
    "reviews['comments'] = reviews['comments'].apply(lambda x: list_to_str_include_stem(tokenizer(x)), 1)\n",
    "reviews"
   ],
   "metadata": {
    "collapsed": false
   }
  },
  {
   "cell_type": "code",
   "execution_count": null,
   "outputs": [],
   "source": [
    "# Vectorize\n",
    "stop_words = nltk.corpus.stopwords.words('english')\n",
    "vectorizer = CountVectorizer(stop_words=stop_words, max_df=0.5, min_df=0.05)\n",
    "X = vectorizer.fit_transform(reviews['comments'])\n",
    "words_list = vectorizer.get_feature_names()\n",
    "print(words_list)\n",
    "words_array = X.toarray()\n",
    "print(words_array)\n",
    "print(len(words_array[0]))"
   ],
   "metadata": {
    "collapsed": false
   }
  },
  {
   "cell_type": "code",
   "execution_count": null,
   "outputs": [],
   "source": [
    "from pandas import DataFrame\n",
    "\n",
    "words_df = DataFrame(words_array)\n",
    "words_df.columns = words_list\n",
    "words_df"
   ],
   "metadata": {
    "collapsed": false
   }
  },
  {
   "cell_type": "code",
   "execution_count": null,
   "outputs": [],
   "source": [
    "result = pd.concat([reviews['listing_id'], words_df], axis=1)\n",
    "result.dropna()"
   ],
   "metadata": {
    "collapsed": false
   }
  },
  {
   "cell_type": "code",
   "execution_count": null,
   "outputs": [],
   "source": [
    "result = result.groupby(by='listing_id')\n",
    "result = result.agg('mean')\n",
    "result"
   ],
   "metadata": {
    "collapsed": false
   }
  },
  {
   "cell_type": "code",
   "execution_count": null,
   "outputs": [],
   "source": [
    "result = result.reset_index()\n",
    "result"
   ],
   "metadata": {
    "collapsed": false
   }
  },
  {
   "cell_type": "code",
   "execution_count": null,
   "outputs": [],
   "source": [
    "result.fillna(0)"
   ],
   "metadata": {
    "collapsed": false
   }
  },
  {
   "cell_type": "code",
   "execution_count": null,
   "outputs": [],
   "source": [
    "result.rename(columns={'listing_id': 'id'}, inplace=True)\n",
    "result"
   ],
   "metadata": {
    "collapsed": false
   }
  },
  {
   "cell_type": "code",
   "execution_count": null,
   "outputs": [],
   "source": [
    "listings = pd.read_csv('new_listings1.csv')\n",
    "listings.__len__()"
   ],
   "metadata": {
    "collapsed": false
   }
  },
  {
   "cell_type": "code",
   "execution_count": null,
   "outputs": [],
   "source": [
    "listings['id'] = listings['id'].astype('float64')\n",
    "final = pd.merge(listings, result, on=['id'])\n",
    "final"
   ],
   "metadata": {
    "collapsed": false
   }
  },
  {
   "cell_type": "code",
   "execution_count": null,
   "outputs": [],
   "source": [
    "final.columns.values.tolist()"
   ],
   "metadata": {
    "collapsed": false
   }
  },
  {
   "cell_type": "code",
   "execution_count": null,
   "outputs": [],
   "source": [
    "final = final.drop(['Unnamed: 0'], axis=1)\n",
    "final"
   ],
   "metadata": {
    "collapsed": false
   }
  },
  {
   "cell_type": "code",
   "execution_count": null,
   "outputs": [],
   "source": [
    "order = ['review_scores_rating',\n",
    " 'review_scores_value',\n",
    " 'review_scores_checkin',\n",
    " 'review_scores_accuracy',\n",
    " 'review_scores_location',\n",
    " 'review_scores_cleanliness',\n",
    " 'review_scores_communication',\n",
    " 'id',\n",
    " 'price',\n",
    " 'availability_30',\n",
    " 'number_of_reviews',\n",
    " 'first_review',\n",
    " 'reviews_per_month',\n",
    " 'host_response_time_a few days or more',\n",
    " 'host_response_time_unknown',\n",
    " 'host_response_time_within a day',\n",
    " 'host_response_time_within a few hours',\n",
    " 'host_response_time_within an hour',\n",
    " 'host_response_rate_0%-69%',\n",
    " 'host_response_rate_70%-79%',\n",
    " 'host_response_rate_80%-89%',\n",
    " 'host_response_rate_90%-98%',\n",
    " 'host_response_rate_99%-100%',\n",
    " 'host_response_rate_unknown',\n",
    " 'host_acceptance_rate_0%-69%',\n",
    " 'host_acceptance_rate_70%-79%',\n",
    " 'host_acceptance_rate_80%-89%',\n",
    " 'host_acceptance_rate_90%-96%',\n",
    " 'host_acceptance_rate_97%-98%',\n",
    " 'host_acceptance_rate_99%-100%',\n",
    " 'host_acceptance_rate_unknown',\n",
    " 'host_is_superhost_f',\n",
    " 'host_is_superhost_t',\n",
    " 'calculated_host_listings_count_1',\n",
    " 'calculated_host_listings_count_10-29',\n",
    " 'calculated_host_listings_count_2-4',\n",
    " 'calculated_host_listings_count_5-9',\n",
    " 'calculated_host_listings_count_>29',\n",
    " 'host_identity_verified_f',\n",
    " 'host_identity_verified_t',\n",
    " 'neighbourhood_cleansed_Dn Laoghaire-Rathdown',\n",
    " 'neighbourhood_cleansed_Dublin City',\n",
    " 'neighbourhood_cleansed_Fingal',\n",
    " 'neighbourhood_cleansed_South Dublin',\n",
    " 'property_type_Entire condo',\n",
    " 'property_type_Entire cottage',\n",
    " 'property_type_Entire guest suite',\n",
    " 'property_type_Entire guesthouse',\n",
    " 'property_type_Entire home',\n",
    " 'property_type_Entire rental unit',\n",
    " 'property_type_Entire serviced apartment',\n",
    " 'property_type_Entire townhouse',\n",
    " 'property_type_Private room in bed and breakfast',\n",
    " 'property_type_Private room in condo',\n",
    " 'property_type_Private room in home',\n",
    " 'property_type_Private room in rental unit',\n",
    " 'property_type_Private room in townhouse',\n",
    " 'property_type_Shared room in home',\n",
    " 'property_type_Shared room in rental unit',\n",
    " 'property_type_others',\n",
    " 'room_type_Entire home/apt',\n",
    " 'room_type_Hotel room',\n",
    " 'room_type_Private room',\n",
    " 'room_type_Shared room',\n",
    " 'accommodates_1',\n",
    " 'accommodates_2',\n",
    " 'accommodates_3',\n",
    " 'accommodates_4',\n",
    " 'accommodates_5',\n",
    " 'accommodates_>5',\n",
    " 'bathrooms_text_1 bath',\n",
    " 'bathrooms_text_1 private bath',\n",
    " 'bathrooms_text_1 shared bath',\n",
    " 'bathrooms_text_1.5 baths',\n",
    " 'bathrooms_text_1.5 shared baths',\n",
    " 'bathrooms_text_2 baths',\n",
    " 'bathrooms_text_2 shared baths',\n",
    " 'bathrooms_text_2.5 baths',\n",
    " 'bathrooms_text_3 baths',\n",
    " 'bathrooms_text_others',\n",
    " 'bedrooms_1',\n",
    " 'bedrooms_2',\n",
    " 'bedrooms_3',\n",
    " 'bedrooms_4',\n",
    " 'bedrooms_5',\n",
    " 'bedrooms_>5',\n",
    " 'bedrooms_unknown',\n",
    " 'beds_1',\n",
    " 'beds_2',\n",
    " 'beds_3',\n",
    " 'beds_4',\n",
    " 'beds_5',\n",
    " 'beds_6',\n",
    " 'beds_>6',\n",
    " 'beds_unknown',\n",
    " 'minimum_nights_1',\n",
    " 'minimum_nights_2',\n",
    " 'minimum_nights_3',\n",
    " 'minimum_nights_4',\n",
    " 'minimum_nights_5',\n",
    " 'minimum_nights_6',\n",
    " 'minimum_nights_7-33',\n",
    " 'minimum_nights_>33',\n",
    " 'instant_bookable_f',\n",
    " 'instant_bookable_t',\n",
    " 'amenities_Hot water kettle',\n",
    " 'amenities_Outdoor furniture',\n",
    " 'amenities_Dining table',\n",
    " 'amenities_Indoor fireplace',\n",
    " 'amenities_Breakfast',\n",
    " 'amenities_Central heating',\n",
    " 'amenities_Cleaning products',\n",
    " 'amenities_Shower gel',\n",
    " 'amenities_Lock on bedroom door',\n",
    " 'amenities_Dishwasher',\n",
    " 'amenities_Freezer',\n",
    " 'amenities_Free street parking',\n",
    " 'amenities_Bathtub',\n",
    " 'amenities_Coffee maker',\n",
    " 'amenities_Conditioner',\n",
    " 'amenities_Body soap',\n",
    " 'amenities_Toaster',\n",
    " 'amenities_Lockbox',\n",
    " 'amenities_Room-darkening shades',\n",
    " 'amenities_Outdoor dining area',\n",
    " 'amenities_Wine glasses',\n",
    " 'amenities_Extra pillows and blankets',\n",
    " 'amenities_Luggage dropoff allowed',\n",
    " 'amenities_TV with standard cable',\n",
    " 'amenities_Cable TV',\n",
    " 'amenities_Private patio or balcony',\n",
    " 'amenities_Stove',\n",
    " 'amenities_Laundromat nearby',\n",
    " 'amenities_Drying rack for clothing',\n",
    " 'amenities_Backyard',\n",
    " 'amenities_Host greets you',\n",
    " 'amenities_Paid parking off premises',\n",
    " 'amenities_Security cameras on property',\n",
    " 'amenities_Private entrance',\n",
    " 'amenities_Dedicated workspace',\n",
    " 'amenities_Patio or balcony',\n",
    " 'amenities_Elevator'] + words_list\n",
    "final = final[order]\n",
    "final = final.drop(['id'], axis=1)\n",
    "final.columns.values.tolist()"
   ],
   "metadata": {
    "collapsed": false
   }
  },
  {
   "cell_type": "code",
   "execution_count": null,
   "outputs": [],
   "source": [
    "os.remove('final_features.csv')\n",
    "final.to_csv('final_features.csv')"
   ],
   "metadata": {
    "collapsed": false
   }
  }
 ],
 "metadata": {
  "kernelspec": {
   "display_name": "Python 3",
   "language": "python",
   "name": "python3"
  },
  "language_info": {
   "codemirror_mode": {
    "name": "ipython",
    "version": 2
   },
   "file_extension": ".py",
   "mimetype": "text/x-python",
   "name": "python",
   "nbconvert_exporter": "python",
   "pygments_lexer": "ipython2",
   "version": "2.7.6"
  }
 },
 "nbformat": 4,
 "nbformat_minor": 0
}
