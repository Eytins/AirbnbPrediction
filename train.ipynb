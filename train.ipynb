{
 "cells": [
  {
   "cell_type": "code",
   "execution_count": 7,
   "metadata": {
    "collapsed": true
   },
   "outputs": [],
   "source": [
    "import pandas as pd\n",
    "\n",
    "features = pd.read_csv('final_features.csv')"
   ]
  },
  {
   "cell_type": "code",
   "execution_count": 8,
   "outputs": [
    {
     "data": {
      "text/plain": "      review_scores_rating  review_scores_value  review_scores_checkin  \\\n0                     4.78                 4.82                   4.93   \n1                     4.79                 4.78                   4.90   \n2                     4.74                 4.74                   4.86   \n3                     4.84                 4.85                   4.95   \n4                     4.63                 4.55                   4.81   \n...                    ...                  ...                    ...   \n6204                  5.00                 4.00                   5.00   \n6205                  5.00                 5.00                   5.00   \n6206                  5.00                 5.00                   5.00   \n6207                  5.00                 5.00                   5.00   \n6208                  5.00                 5.00                   5.00   \n\n      review_scores_accuracy  review_scores_location  \\\n0                       4.83                    4.66   \n1                       4.86                    4.64   \n2                       4.77                    4.63   \n3                       4.88                    4.77   \n4                       4.89                    4.34   \n...                      ...                     ...   \n6204                    5.00                    5.00   \n6205                    5.00                    5.00   \n6206                    5.00                    5.00   \n6207                    5.00                    5.00   \n6208                    5.00                    5.00   \n\n      review_scores_cleanliness  review_scores_communication  price  \\\n0                          4.74                         4.93   70.0   \n1                          4.74                         4.88   67.0   \n2                          4.71                         4.90   45.0   \n3                          4.85                         4.97   80.0   \n4                          4.69                         4.75  251.0   \n...                         ...                          ...    ...   \n6204                       5.00                         5.00  100.0   \n6205                       5.00                         5.00   37.0   \n6206                       5.00                         5.00  800.0   \n6207                       5.00                         5.00  200.0   \n6208                       5.00                         5.00  131.0   \n\n      availability_30  number_of_reviews  ...       142       143       144  \\\n0                   2                258  ...  1.054264  0.131783  0.050388   \n1                   3                210  ...  0.919048  0.176190  0.080952   \n2                   1                355  ...  0.864789  0.104225  0.050704   \n3                   2                326  ...  1.098160  0.052147  0.052147   \n4                   1                 64  ...  1.062500  0.218750  0.031250   \n...               ...                ...  ...       ...       ...       ...   \n6204                0                  1  ...       NaN       NaN       NaN   \n6205                9                  1  ...       NaN       NaN       NaN   \n6206               29                  1  ...  0.000000  0.000000  0.000000   \n6207                4                  1  ...  0.000000  0.000000  0.000000   \n6208                5                  1  ...  1.000000  0.000000  0.000000   \n\n           145       146       147       148       149       150       151  \n0     0.135659  0.313953  0.158915  0.031008  0.197674  0.034884  0.286822  \n1     0.114286  0.252381  0.128571  0.033333  0.176190  0.014286  0.228571  \n2     0.073239  0.185915  0.092958  0.025352  0.092958  0.022535  0.171831  \n3     0.082822  0.236196  0.147239  0.006135  0.073620  0.015337  0.162577  \n4     0.062500  0.046875  0.406250  0.031250  0.156250  0.093750  0.328125  \n...        ...       ...       ...       ...       ...       ...       ...  \n6204       NaN       NaN       NaN       NaN       NaN       NaN       NaN  \n6205       NaN       NaN       NaN       NaN       NaN       NaN       NaN  \n6206  0.000000  0.000000  0.000000  0.000000  0.000000  0.000000  0.000000  \n6207  0.000000  0.000000  0.000000  0.000000  0.000000  0.000000  0.000000  \n6208  0.000000  0.000000  0.000000  0.000000  0.000000  0.000000  0.000000  \n\n[6209 rows x 318 columns]",
      "text/html": "<div>\n<style scoped>\n    .dataframe tbody tr th:only-of-type {\n        vertical-align: middle;\n    }\n\n    .dataframe tbody tr th {\n        vertical-align: top;\n    }\n\n    .dataframe thead th {\n        text-align: right;\n    }\n</style>\n<table border=\"1\" class=\"dataframe\">\n  <thead>\n    <tr style=\"text-align: right;\">\n      <th></th>\n      <th>review_scores_rating</th>\n      <th>review_scores_value</th>\n      <th>review_scores_checkin</th>\n      <th>review_scores_accuracy</th>\n      <th>review_scores_location</th>\n      <th>review_scores_cleanliness</th>\n      <th>review_scores_communication</th>\n      <th>price</th>\n      <th>availability_30</th>\n      <th>number_of_reviews</th>\n      <th>...</th>\n      <th>142</th>\n      <th>143</th>\n      <th>144</th>\n      <th>145</th>\n      <th>146</th>\n      <th>147</th>\n      <th>148</th>\n      <th>149</th>\n      <th>150</th>\n      <th>151</th>\n    </tr>\n  </thead>\n  <tbody>\n    <tr>\n      <th>0</th>\n      <td>4.78</td>\n      <td>4.82</td>\n      <td>4.93</td>\n      <td>4.83</td>\n      <td>4.66</td>\n      <td>4.74</td>\n      <td>4.93</td>\n      <td>70.0</td>\n      <td>2</td>\n      <td>258</td>\n      <td>...</td>\n      <td>1.054264</td>\n      <td>0.131783</td>\n      <td>0.050388</td>\n      <td>0.135659</td>\n      <td>0.313953</td>\n      <td>0.158915</td>\n      <td>0.031008</td>\n      <td>0.197674</td>\n      <td>0.034884</td>\n      <td>0.286822</td>\n    </tr>\n    <tr>\n      <th>1</th>\n      <td>4.79</td>\n      <td>4.78</td>\n      <td>4.90</td>\n      <td>4.86</td>\n      <td>4.64</td>\n      <td>4.74</td>\n      <td>4.88</td>\n      <td>67.0</td>\n      <td>3</td>\n      <td>210</td>\n      <td>...</td>\n      <td>0.919048</td>\n      <td>0.176190</td>\n      <td>0.080952</td>\n      <td>0.114286</td>\n      <td>0.252381</td>\n      <td>0.128571</td>\n      <td>0.033333</td>\n      <td>0.176190</td>\n      <td>0.014286</td>\n      <td>0.228571</td>\n    </tr>\n    <tr>\n      <th>2</th>\n      <td>4.74</td>\n      <td>4.74</td>\n      <td>4.86</td>\n      <td>4.77</td>\n      <td>4.63</td>\n      <td>4.71</td>\n      <td>4.90</td>\n      <td>45.0</td>\n      <td>1</td>\n      <td>355</td>\n      <td>...</td>\n      <td>0.864789</td>\n      <td>0.104225</td>\n      <td>0.050704</td>\n      <td>0.073239</td>\n      <td>0.185915</td>\n      <td>0.092958</td>\n      <td>0.025352</td>\n      <td>0.092958</td>\n      <td>0.022535</td>\n      <td>0.171831</td>\n    </tr>\n    <tr>\n      <th>3</th>\n      <td>4.84</td>\n      <td>4.85</td>\n      <td>4.95</td>\n      <td>4.88</td>\n      <td>4.77</td>\n      <td>4.85</td>\n      <td>4.97</td>\n      <td>80.0</td>\n      <td>2</td>\n      <td>326</td>\n      <td>...</td>\n      <td>1.098160</td>\n      <td>0.052147</td>\n      <td>0.052147</td>\n      <td>0.082822</td>\n      <td>0.236196</td>\n      <td>0.147239</td>\n      <td>0.006135</td>\n      <td>0.073620</td>\n      <td>0.015337</td>\n      <td>0.162577</td>\n    </tr>\n    <tr>\n      <th>4</th>\n      <td>4.63</td>\n      <td>4.55</td>\n      <td>4.81</td>\n      <td>4.89</td>\n      <td>4.34</td>\n      <td>4.69</td>\n      <td>4.75</td>\n      <td>251.0</td>\n      <td>1</td>\n      <td>64</td>\n      <td>...</td>\n      <td>1.062500</td>\n      <td>0.218750</td>\n      <td>0.031250</td>\n      <td>0.062500</td>\n      <td>0.046875</td>\n      <td>0.406250</td>\n      <td>0.031250</td>\n      <td>0.156250</td>\n      <td>0.093750</td>\n      <td>0.328125</td>\n    </tr>\n    <tr>\n      <th>...</th>\n      <td>...</td>\n      <td>...</td>\n      <td>...</td>\n      <td>...</td>\n      <td>...</td>\n      <td>...</td>\n      <td>...</td>\n      <td>...</td>\n      <td>...</td>\n      <td>...</td>\n      <td>...</td>\n      <td>...</td>\n      <td>...</td>\n      <td>...</td>\n      <td>...</td>\n      <td>...</td>\n      <td>...</td>\n      <td>...</td>\n      <td>...</td>\n      <td>...</td>\n      <td>...</td>\n    </tr>\n    <tr>\n      <th>6204</th>\n      <td>5.00</td>\n      <td>4.00</td>\n      <td>5.00</td>\n      <td>5.00</td>\n      <td>5.00</td>\n      <td>5.00</td>\n      <td>5.00</td>\n      <td>100.0</td>\n      <td>0</td>\n      <td>1</td>\n      <td>...</td>\n      <td>NaN</td>\n      <td>NaN</td>\n      <td>NaN</td>\n      <td>NaN</td>\n      <td>NaN</td>\n      <td>NaN</td>\n      <td>NaN</td>\n      <td>NaN</td>\n      <td>NaN</td>\n      <td>NaN</td>\n    </tr>\n    <tr>\n      <th>6205</th>\n      <td>5.00</td>\n      <td>5.00</td>\n      <td>5.00</td>\n      <td>5.00</td>\n      <td>5.00</td>\n      <td>5.00</td>\n      <td>5.00</td>\n      <td>37.0</td>\n      <td>9</td>\n      <td>1</td>\n      <td>...</td>\n      <td>NaN</td>\n      <td>NaN</td>\n      <td>NaN</td>\n      <td>NaN</td>\n      <td>NaN</td>\n      <td>NaN</td>\n      <td>NaN</td>\n      <td>NaN</td>\n      <td>NaN</td>\n      <td>NaN</td>\n    </tr>\n    <tr>\n      <th>6206</th>\n      <td>5.00</td>\n      <td>5.00</td>\n      <td>5.00</td>\n      <td>5.00</td>\n      <td>5.00</td>\n      <td>5.00</td>\n      <td>5.00</td>\n      <td>800.0</td>\n      <td>29</td>\n      <td>1</td>\n      <td>...</td>\n      <td>0.000000</td>\n      <td>0.000000</td>\n      <td>0.000000</td>\n      <td>0.000000</td>\n      <td>0.000000</td>\n      <td>0.000000</td>\n      <td>0.000000</td>\n      <td>0.000000</td>\n      <td>0.000000</td>\n      <td>0.000000</td>\n    </tr>\n    <tr>\n      <th>6207</th>\n      <td>5.00</td>\n      <td>5.00</td>\n      <td>5.00</td>\n      <td>5.00</td>\n      <td>5.00</td>\n      <td>5.00</td>\n      <td>5.00</td>\n      <td>200.0</td>\n      <td>4</td>\n      <td>1</td>\n      <td>...</td>\n      <td>0.000000</td>\n      <td>0.000000</td>\n      <td>0.000000</td>\n      <td>0.000000</td>\n      <td>0.000000</td>\n      <td>0.000000</td>\n      <td>0.000000</td>\n      <td>0.000000</td>\n      <td>0.000000</td>\n      <td>0.000000</td>\n    </tr>\n    <tr>\n      <th>6208</th>\n      <td>5.00</td>\n      <td>5.00</td>\n      <td>5.00</td>\n      <td>5.00</td>\n      <td>5.00</td>\n      <td>5.00</td>\n      <td>5.00</td>\n      <td>131.0</td>\n      <td>5</td>\n      <td>1</td>\n      <td>...</td>\n      <td>1.000000</td>\n      <td>0.000000</td>\n      <td>0.000000</td>\n      <td>0.000000</td>\n      <td>0.000000</td>\n      <td>0.000000</td>\n      <td>0.000000</td>\n      <td>0.000000</td>\n      <td>0.000000</td>\n      <td>0.000000</td>\n    </tr>\n  </tbody>\n</table>\n<p>6209 rows × 318 columns</p>\n</div>"
     },
     "execution_count": 8,
     "metadata": {},
     "output_type": "execute_result"
    }
   ],
   "source": [
    "features = features.drop(['Unnamed: 0'], axis=1)\n",
    "features"
   ],
   "metadata": {
    "collapsed": false
   }
  },
  {
   "cell_type": "code",
   "execution_count": null,
   "outputs": [],
   "source": [],
   "metadata": {
    "collapsed": false
   }
  }
 ],
 "metadata": {
  "kernelspec": {
   "display_name": "Python 3",
   "language": "python",
   "name": "python3"
  },
  "language_info": {
   "codemirror_mode": {
    "name": "ipython",
    "version": 2
   },
   "file_extension": ".py",
   "mimetype": "text/x-python",
   "name": "python",
   "nbconvert_exporter": "python",
   "pygments_lexer": "ipython2",
   "version": "2.7.6"
  }
 },
 "nbformat": 4,
 "nbformat_minor": 0
}
