{
 "cells": [
  {
   "cell_type": "code",
   "execution_count": 92,
   "metadata": {
    "collapsed": true
   },
   "outputs": [],
   "source": [
    "import pandas as pd\n",
    "\n",
    "params = pd.read_csv('final_features.csv')\n",
    "params = params.drop(['Unnamed: 0'], axis=1)\n",
    "params = pd.concat([params, params, params, params])"
   ]
  },
  {
   "cell_type": "code",
   "execution_count": 93,
   "outputs": [
    {
     "data": {
      "text/plain": "['review_scores_rating',\n 'review_scores_value',\n 'review_scores_checkin',\n 'review_scores_accuracy',\n 'review_scores_location',\n 'review_scores_cleanliness',\n 'review_scores_communication',\n 'price',\n 'availability_30',\n 'number_of_reviews',\n 'first_review',\n 'reviews_per_month',\n 'host_response_time_a few days or more',\n 'host_response_time_unknown',\n 'host_response_time_within a day',\n 'host_response_time_within a few hours',\n 'host_response_time_within an hour',\n 'host_response_rate_0%-69%',\n 'host_response_rate_70%-79%',\n 'host_response_rate_80%-89%',\n 'host_response_rate_90%-98%',\n 'host_response_rate_99%-100%',\n 'host_response_rate_unknown',\n 'host_acceptance_rate_0%-69%',\n 'host_acceptance_rate_70%-79%',\n 'host_acceptance_rate_80%-89%',\n 'host_acceptance_rate_90%-96%',\n 'host_acceptance_rate_97%-98%',\n 'host_acceptance_rate_99%-100%',\n 'host_acceptance_rate_unknown',\n 'host_is_superhost_f',\n 'host_is_superhost_t',\n 'calculated_host_listings_count_1',\n 'calculated_host_listings_count_10-29',\n 'calculated_host_listings_count_2-4',\n 'calculated_host_listings_count_5-9',\n 'calculated_host_listings_count_>29',\n 'host_identity_verified_f',\n 'host_identity_verified_t',\n 'neighbourhood_cleansed_Dn Laoghaire-Rathdown',\n 'neighbourhood_cleansed_Dublin City',\n 'neighbourhood_cleansed_Fingal',\n 'neighbourhood_cleansed_South Dublin',\n 'property_type_Entire condo',\n 'property_type_Entire cottage',\n 'property_type_Entire guest suite',\n 'property_type_Entire guesthouse',\n 'property_type_Entire home',\n 'property_type_Entire rental unit',\n 'property_type_Entire serviced apartment',\n 'property_type_Entire townhouse',\n 'property_type_Private room in bed and breakfast',\n 'property_type_Private room in condo',\n 'property_type_Private room in home',\n 'property_type_Private room in rental unit',\n 'property_type_Private room in townhouse',\n 'property_type_Shared room in home',\n 'property_type_Shared room in rental unit',\n 'property_type_others',\n 'room_type_Entire home/apt',\n 'room_type_Hotel room',\n 'room_type_Private room',\n 'room_type_Shared room',\n 'accommodates_1',\n 'accommodates_2',\n 'accommodates_3',\n 'accommodates_4',\n 'accommodates_5',\n 'accommodates_>5',\n 'bathrooms_text_1 bath',\n 'bathrooms_text_1 private bath',\n 'bathrooms_text_1 shared bath',\n 'bathrooms_text_1.5 baths',\n 'bathrooms_text_1.5 shared baths',\n 'bathrooms_text_2 baths',\n 'bathrooms_text_2 shared baths',\n 'bathrooms_text_2.5 baths',\n 'bathrooms_text_3 baths',\n 'bathrooms_text_others',\n 'bedrooms_1',\n 'bedrooms_2',\n 'bedrooms_3',\n 'bedrooms_4',\n 'bedrooms_5',\n 'bedrooms_>5',\n 'bedrooms_unknown',\n 'beds_1',\n 'beds_2',\n 'beds_3',\n 'beds_4',\n 'beds_5',\n 'beds_6',\n 'beds_>6',\n 'beds_unknown',\n 'minimum_nights_1',\n 'minimum_nights_2',\n 'minimum_nights_3',\n 'minimum_nights_4',\n 'minimum_nights_5',\n 'minimum_nights_6',\n 'minimum_nights_7-33',\n 'minimum_nights_>33',\n 'instant_bookable_f',\n 'instant_bookable_t',\n 'amenities_Hot water kettle',\n 'amenities_Outdoor furniture',\n 'amenities_Dining table',\n 'amenities_Indoor fireplace',\n 'amenities_Breakfast',\n 'amenities_Central heating',\n 'amenities_Cleaning products',\n 'amenities_Shower gel',\n 'amenities_Lock on bedroom door',\n 'amenities_Dishwasher',\n 'amenities_Freezer',\n 'amenities_Free street parking',\n 'amenities_Bathtub',\n 'amenities_Coffee maker',\n 'amenities_Conditioner',\n 'amenities_Body soap',\n 'amenities_Toaster',\n 'amenities_Lockbox',\n 'amenities_Room-darkening shades',\n 'amenities_Outdoor dining area',\n 'amenities_Wine glasses',\n 'amenities_Extra pillows and blankets',\n 'amenities_Luggage dropoff allowed',\n 'amenities_TV with standard cable',\n 'amenities_Cable TV',\n 'amenities_Private patio or balcony',\n 'amenities_Stove',\n 'amenities_Laundromat nearby',\n 'amenities_Drying rack for clothing',\n 'amenities_Backyard',\n 'amenities_Host greets you',\n 'amenities_Paid parking off premises',\n 'amenities_Security cameras on property',\n 'amenities_Private entrance',\n 'amenities_Dedicated workspace',\n 'amenities_Patio or balcony',\n 'amenities_Elevator',\n 'accommod',\n 'airport',\n 'also',\n 'amaz',\n 'apart',\n 'area',\n 'around',\n 'arriv',\n 'away',\n 'back',\n 'bar',\n 'bathroom',\n 'beauti',\n 'bed',\n 'breakfast',\n 'bu',\n 'center',\n 'centr',\n 'check',\n 'citi',\n 'clean',\n 'close',\n 'comfort',\n 'commun',\n 'could',\n 'day',\n 'definit',\n 'distanc',\n 'dublin',\n 'easi',\n 'enjoy',\n 'even',\n 'everyth',\n 'excel',\n 'friendli',\n 'get',\n 'go',\n 'good',\n 'great',\n 'ha',\n 'help',\n 'highli',\n 'home',\n 'host',\n 'hous',\n 'kind',\n 'kitchen',\n 'like',\n 'littl',\n 'locat',\n 'lot',\n 'love',\n 'made',\n 'make',\n 'minut',\n 'need',\n 'nice',\n 'night',\n 'one',\n 'onli',\n 'perfect',\n 'place',\n 'quiet',\n 'realli',\n 'recommend',\n 'restaur',\n 'right',\n 'room',\n 'space',\n 'stay',\n 'super',\n 'thank',\n 'thi',\n 'time',\n 'us',\n 'veri',\n 'visit',\n 'wa',\n 'walk',\n 'welcom',\n 'well',\n 'wonder',\n 'would']"
     },
     "execution_count": 93,
     "metadata": {},
     "output_type": "execute_result"
    }
   ],
   "source": [
    "params.columns.values.tolist()"
   ],
   "metadata": {
    "collapsed": false
   }
  },
  {
   "cell_type": "code",
   "execution_count": 94,
   "outputs": [
    {
     "data": {
      "text/plain": "      review_scores_rating  review_scores_value  review_scores_checkin  \\\n0                     4.78                 4.82                   4.93   \n1                     4.79                 4.78                   4.90   \n2                     4.74                 4.74                   4.86   \n3                     4.84                 4.85                   4.95   \n4                     4.63                 4.55                   4.81   \n...                    ...                  ...                    ...   \n6204                  5.00                 4.00                   5.00   \n6205                  5.00                 5.00                   5.00   \n6206                  5.00                 5.00                   5.00   \n6207                  5.00                 5.00                   5.00   \n6208                  5.00                 5.00                   5.00   \n\n      review_scores_accuracy  review_scores_location  \\\n0                       4.83                    4.66   \n1                       4.86                    4.64   \n2                       4.77                    4.63   \n3                       4.88                    4.77   \n4                       4.89                    4.34   \n...                      ...                     ...   \n6204                    5.00                    5.00   \n6205                    5.00                    5.00   \n6206                    5.00                    5.00   \n6207                    5.00                    5.00   \n6208                    5.00                    5.00   \n\n      review_scores_cleanliness  review_scores_communication  price  \\\n0                          4.74                         4.93   70.0   \n1                          4.74                         4.88   67.0   \n2                          4.71                         4.90   45.0   \n3                          4.85                         4.97   80.0   \n4                          4.69                         4.75  251.0   \n...                         ...                          ...    ...   \n6204                       5.00                         5.00  100.0   \n6205                       5.00                         5.00   37.0   \n6206                       5.00                         5.00  800.0   \n6207                       5.00                         5.00  200.0   \n6208                       5.00                         5.00  131.0   \n\n      availability_30  number_of_reviews  ...      time        us      veri  \\\n0                   2                258  ...  0.201550  0.585271  0.930233   \n1                   3                210  ...  0.166667  0.457143  1.052381   \n2                   1                355  ...  0.157746  0.019718  0.822535   \n3                   2                326  ...  0.177914  0.527607  0.941718   \n4                   1                 64  ...  0.218750  0.218750  1.187500   \n...               ...                ...  ...       ...       ...       ...   \n6204                0                  1  ...       NaN       NaN       NaN   \n6205                9                  1  ...       NaN       NaN       NaN   \n6206               29                  1  ...  0.000000  0.000000  1.000000   \n6207                4                  1  ...  0.000000  0.000000  0.000000   \n6208                5                  1  ...  0.000000  1.000000  0.000000   \n\n         visit        wa      walk    welcom      well    wonder     would  \n0     0.112403  1.054264  0.131783  0.313953  0.158915  0.197674  0.286822  \n1     0.152381  0.919048  0.176190  0.252381  0.128571  0.176190  0.228571  \n2     0.078873  0.864789  0.104225  0.185915  0.092958  0.092958  0.171831  \n3     0.104294  1.098160  0.052147  0.236196  0.147239  0.073620  0.162577  \n4     0.078125  1.062500  0.218750  0.046875  0.406250  0.156250  0.328125  \n...        ...       ...       ...       ...       ...       ...       ...  \n6204       NaN       NaN       NaN       NaN       NaN       NaN       NaN  \n6205       NaN       NaN       NaN       NaN       NaN       NaN       NaN  \n6206  0.000000  0.000000  0.000000  0.000000  0.000000  0.000000  0.000000  \n6207  0.000000  0.000000  0.000000  0.000000  0.000000  0.000000  0.000000  \n6208  0.000000  1.000000  0.000000  0.000000  0.000000  0.000000  0.000000  \n\n[24836 rows x 224 columns]",
      "text/html": "<div>\n<style scoped>\n    .dataframe tbody tr th:only-of-type {\n        vertical-align: middle;\n    }\n\n    .dataframe tbody tr th {\n        vertical-align: top;\n    }\n\n    .dataframe thead th {\n        text-align: right;\n    }\n</style>\n<table border=\"1\" class=\"dataframe\">\n  <thead>\n    <tr style=\"text-align: right;\">\n      <th></th>\n      <th>review_scores_rating</th>\n      <th>review_scores_value</th>\n      <th>review_scores_checkin</th>\n      <th>review_scores_accuracy</th>\n      <th>review_scores_location</th>\n      <th>review_scores_cleanliness</th>\n      <th>review_scores_communication</th>\n      <th>price</th>\n      <th>availability_30</th>\n      <th>number_of_reviews</th>\n      <th>...</th>\n      <th>time</th>\n      <th>us</th>\n      <th>veri</th>\n      <th>visit</th>\n      <th>wa</th>\n      <th>walk</th>\n      <th>welcom</th>\n      <th>well</th>\n      <th>wonder</th>\n      <th>would</th>\n    </tr>\n  </thead>\n  <tbody>\n    <tr>\n      <th>0</th>\n      <td>4.78</td>\n      <td>4.82</td>\n      <td>4.93</td>\n      <td>4.83</td>\n      <td>4.66</td>\n      <td>4.74</td>\n      <td>4.93</td>\n      <td>70.0</td>\n      <td>2</td>\n      <td>258</td>\n      <td>...</td>\n      <td>0.201550</td>\n      <td>0.585271</td>\n      <td>0.930233</td>\n      <td>0.112403</td>\n      <td>1.054264</td>\n      <td>0.131783</td>\n      <td>0.313953</td>\n      <td>0.158915</td>\n      <td>0.197674</td>\n      <td>0.286822</td>\n    </tr>\n    <tr>\n      <th>1</th>\n      <td>4.79</td>\n      <td>4.78</td>\n      <td>4.90</td>\n      <td>4.86</td>\n      <td>4.64</td>\n      <td>4.74</td>\n      <td>4.88</td>\n      <td>67.0</td>\n      <td>3</td>\n      <td>210</td>\n      <td>...</td>\n      <td>0.166667</td>\n      <td>0.457143</td>\n      <td>1.052381</td>\n      <td>0.152381</td>\n      <td>0.919048</td>\n      <td>0.176190</td>\n      <td>0.252381</td>\n      <td>0.128571</td>\n      <td>0.176190</td>\n      <td>0.228571</td>\n    </tr>\n    <tr>\n      <th>2</th>\n      <td>4.74</td>\n      <td>4.74</td>\n      <td>4.86</td>\n      <td>4.77</td>\n      <td>4.63</td>\n      <td>4.71</td>\n      <td>4.90</td>\n      <td>45.0</td>\n      <td>1</td>\n      <td>355</td>\n      <td>...</td>\n      <td>0.157746</td>\n      <td>0.019718</td>\n      <td>0.822535</td>\n      <td>0.078873</td>\n      <td>0.864789</td>\n      <td>0.104225</td>\n      <td>0.185915</td>\n      <td>0.092958</td>\n      <td>0.092958</td>\n      <td>0.171831</td>\n    </tr>\n    <tr>\n      <th>3</th>\n      <td>4.84</td>\n      <td>4.85</td>\n      <td>4.95</td>\n      <td>4.88</td>\n      <td>4.77</td>\n      <td>4.85</td>\n      <td>4.97</td>\n      <td>80.0</td>\n      <td>2</td>\n      <td>326</td>\n      <td>...</td>\n      <td>0.177914</td>\n      <td>0.527607</td>\n      <td>0.941718</td>\n      <td>0.104294</td>\n      <td>1.098160</td>\n      <td>0.052147</td>\n      <td>0.236196</td>\n      <td>0.147239</td>\n      <td>0.073620</td>\n      <td>0.162577</td>\n    </tr>\n    <tr>\n      <th>4</th>\n      <td>4.63</td>\n      <td>4.55</td>\n      <td>4.81</td>\n      <td>4.89</td>\n      <td>4.34</td>\n      <td>4.69</td>\n      <td>4.75</td>\n      <td>251.0</td>\n      <td>1</td>\n      <td>64</td>\n      <td>...</td>\n      <td>0.218750</td>\n      <td>0.218750</td>\n      <td>1.187500</td>\n      <td>0.078125</td>\n      <td>1.062500</td>\n      <td>0.218750</td>\n      <td>0.046875</td>\n      <td>0.406250</td>\n      <td>0.156250</td>\n      <td>0.328125</td>\n    </tr>\n    <tr>\n      <th>...</th>\n      <td>...</td>\n      <td>...</td>\n      <td>...</td>\n      <td>...</td>\n      <td>...</td>\n      <td>...</td>\n      <td>...</td>\n      <td>...</td>\n      <td>...</td>\n      <td>...</td>\n      <td>...</td>\n      <td>...</td>\n      <td>...</td>\n      <td>...</td>\n      <td>...</td>\n      <td>...</td>\n      <td>...</td>\n      <td>...</td>\n      <td>...</td>\n      <td>...</td>\n      <td>...</td>\n    </tr>\n    <tr>\n      <th>6204</th>\n      <td>5.00</td>\n      <td>4.00</td>\n      <td>5.00</td>\n      <td>5.00</td>\n      <td>5.00</td>\n      <td>5.00</td>\n      <td>5.00</td>\n      <td>100.0</td>\n      <td>0</td>\n      <td>1</td>\n      <td>...</td>\n      <td>NaN</td>\n      <td>NaN</td>\n      <td>NaN</td>\n      <td>NaN</td>\n      <td>NaN</td>\n      <td>NaN</td>\n      <td>NaN</td>\n      <td>NaN</td>\n      <td>NaN</td>\n      <td>NaN</td>\n    </tr>\n    <tr>\n      <th>6205</th>\n      <td>5.00</td>\n      <td>5.00</td>\n      <td>5.00</td>\n      <td>5.00</td>\n      <td>5.00</td>\n      <td>5.00</td>\n      <td>5.00</td>\n      <td>37.0</td>\n      <td>9</td>\n      <td>1</td>\n      <td>...</td>\n      <td>NaN</td>\n      <td>NaN</td>\n      <td>NaN</td>\n      <td>NaN</td>\n      <td>NaN</td>\n      <td>NaN</td>\n      <td>NaN</td>\n      <td>NaN</td>\n      <td>NaN</td>\n      <td>NaN</td>\n    </tr>\n    <tr>\n      <th>6206</th>\n      <td>5.00</td>\n      <td>5.00</td>\n      <td>5.00</td>\n      <td>5.00</td>\n      <td>5.00</td>\n      <td>5.00</td>\n      <td>5.00</td>\n      <td>800.0</td>\n      <td>29</td>\n      <td>1</td>\n      <td>...</td>\n      <td>0.000000</td>\n      <td>0.000000</td>\n      <td>1.000000</td>\n      <td>0.000000</td>\n      <td>0.000000</td>\n      <td>0.000000</td>\n      <td>0.000000</td>\n      <td>0.000000</td>\n      <td>0.000000</td>\n      <td>0.000000</td>\n    </tr>\n    <tr>\n      <th>6207</th>\n      <td>5.00</td>\n      <td>5.00</td>\n      <td>5.00</td>\n      <td>5.00</td>\n      <td>5.00</td>\n      <td>5.00</td>\n      <td>5.00</td>\n      <td>200.0</td>\n      <td>4</td>\n      <td>1</td>\n      <td>...</td>\n      <td>0.000000</td>\n      <td>0.000000</td>\n      <td>0.000000</td>\n      <td>0.000000</td>\n      <td>0.000000</td>\n      <td>0.000000</td>\n      <td>0.000000</td>\n      <td>0.000000</td>\n      <td>0.000000</td>\n      <td>0.000000</td>\n    </tr>\n    <tr>\n      <th>6208</th>\n      <td>5.00</td>\n      <td>5.00</td>\n      <td>5.00</td>\n      <td>5.00</td>\n      <td>5.00</td>\n      <td>5.00</td>\n      <td>5.00</td>\n      <td>131.0</td>\n      <td>5</td>\n      <td>1</td>\n      <td>...</td>\n      <td>0.000000</td>\n      <td>1.000000</td>\n      <td>0.000000</td>\n      <td>0.000000</td>\n      <td>1.000000</td>\n      <td>0.000000</td>\n      <td>0.000000</td>\n      <td>0.000000</td>\n      <td>0.000000</td>\n      <td>0.000000</td>\n    </tr>\n  </tbody>\n</table>\n<p>24836 rows × 224 columns</p>\n</div>"
     },
     "execution_count": 94,
     "metadata": {},
     "output_type": "execute_result"
    }
   ],
   "source": [
    "# features = ['review_scores_rating',\n",
    "#  'review_scores_value',\n",
    "#  'review_scores_checkin',\n",
    "#  'review_scores_accuracy',\n",
    "#  'review_scores_location',\n",
    "#  'review_scores_cleanliness',\n",
    "#  'review_scores_communication',\n",
    "#  'price',\n",
    "#  'availability_30',\n",
    "#  'number_of_reviews',\n",
    "#  'first_review',\n",
    "#  'reviews_per_month',\n",
    "#  'host_response_time_a few days or more',\n",
    "#  'host_response_time_unknown',\n",
    "#  'host_response_time_within a day',\n",
    "#  'host_response_time_within a few hours',\n",
    "#  'host_response_time_within an hour',\n",
    "#  'host_response_rate_0%-69%',\n",
    "#  'host_response_rate_70%-79%',\n",
    "#  'host_response_rate_80%-89%',\n",
    "#  'host_response_rate_90%-98%',\n",
    "#  'host_response_rate_99%-100%',\n",
    "#  'host_response_rate_unknown',\n",
    "#  'host_acceptance_rate_0%-69%',\n",
    "#  'host_acceptance_rate_70%-79%',\n",
    "#  'host_acceptance_rate_80%-89%',\n",
    "#  'host_acceptance_rate_90%-96%',\n",
    "#  'host_acceptance_rate_97%-98%',\n",
    "#  'host_acceptance_rate_99%-100%',\n",
    "#  'host_acceptance_rate_unknown',\n",
    "#  'host_is_superhost_t',\n",
    "#  'calculated_host_listings_count_1',\n",
    "#  'calculated_host_listings_count_10-29',\n",
    "#  'calculated_host_listings_count_2-4',\n",
    "#  'calculated_host_listings_count_5-9',\n",
    "#  'calculated_host_listings_count_>29',\n",
    "#  'host_identity_verified_t',\n",
    "#  'neighbourhood_cleansed_Dn Laoghaire-Rathdown',\n",
    "#  'neighbourhood_cleansed_Dublin City',\n",
    "#  'neighbourhood_cleansed_Fingal',\n",
    "#  'neighbourhood_cleansed_South Dublin',\n",
    "#  'property_type_Entire condo',\n",
    "#  'property_type_Entire cottage',\n",
    "#  'property_type_Entire guest suite',\n",
    "#  'property_type_Entire guesthouse',\n",
    "#  'property_type_Entire home',\n",
    "#  'property_type_Entire rental unit',\n",
    "#  'property_type_Entire serviced apartment',\n",
    "#  'property_type_Entire townhouse',\n",
    "#  'property_type_Private room in bed and breakfast',\n",
    "#  'property_type_Private room in condo',\n",
    "#  'property_type_Private room in home',\n",
    "#  'property_type_Private room in rental unit',\n",
    "#  'property_type_Private room in townhouse',\n",
    "#  'property_type_Shared room in home',\n",
    "#  'property_type_Shared room in rental unit',\n",
    "#  'property_type_others',\n",
    "#  'room_type_Entire home/apt',\n",
    "#  'room_type_Hotel room',\n",
    "#  'room_type_Private room',\n",
    "#  'room_type_Shared room',\n",
    "#  'accommodates_1',\n",
    "#  'accommodates_2',\n",
    "#  'accommodates_3',\n",
    "#  'accommodates_4',\n",
    "#  'accommodates_5',\n",
    "#  'accommodates_>5',\n",
    "#  'bathrooms_text_1 bath',\n",
    "#  'bathrooms_text_1 private bath',\n",
    "#  'bathrooms_text_1 shared bath',\n",
    "#  'bathrooms_text_1.5 baths',\n",
    "#  'bathrooms_text_1.5 shared baths',\n",
    "#  'bathrooms_text_2 baths',\n",
    "#  'bathrooms_text_2 shared baths',\n",
    "#  'bathrooms_text_2.5 baths',\n",
    "#  'bathrooms_text_3 baths',\n",
    "#  'bathrooms_text_others',\n",
    "#  'bedrooms_1',\n",
    "#  'bedrooms_2',\n",
    "#  'bedrooms_3',\n",
    "#  'bedrooms_4',\n",
    "#  'bedrooms_5',\n",
    "#  'bedrooms_>5',\n",
    "#  'bedrooms_unknown',\n",
    "#  'beds_1',\n",
    "#  'beds_2',\n",
    "#  'beds_3',\n",
    "#  'beds_4',\n",
    "#  'beds_5',\n",
    "#  'beds_6',\n",
    "#  'beds_>6',\n",
    "#  'beds_unknown',\n",
    "#  'minimum_nights_1',\n",
    "#  'minimum_nights_2',\n",
    "#  'minimum_nights_3',\n",
    "#  'minimum_nights_4',\n",
    "#  'minimum_nights_5',\n",
    "#  'minimum_nights_6',\n",
    "#  'minimum_nights_7-33',\n",
    "#  'minimum_nights_>33',\n",
    "#  'instant_bookable_t',\n",
    "#  'amenities_Hot water kettle',\n",
    "#  'amenities_Outdoor furniture',\n",
    "#  'amenities_Dining table',\n",
    "#  'amenities_Indoor fireplace',\n",
    "#  'amenities_Breakfast',\n",
    "#  'amenities_Central heating',\n",
    "#  'amenities_Cleaning products',\n",
    "#  'amenities_Shower gel',\n",
    "#  'amenities_Lock on bedroom door',\n",
    "#  'amenities_Dishwasher',\n",
    "#  'amenities_Freezer',\n",
    "#  'amenities_Free street parking',\n",
    "#  'amenities_Bathtub',\n",
    "#  'amenities_Coffee maker',\n",
    "#  'amenities_Conditioner',\n",
    "#  'amenities_Body soap',\n",
    "#  'amenities_Toaster',\n",
    "#  'amenities_Lockbox',\n",
    "#  'amenities_Room-darkening shades',\n",
    "#  'amenities_Outdoor dining area',\n",
    "#  'amenities_Wine glasses',\n",
    "#  'amenities_Extra pillows and blankets',\n",
    "#  'amenities_Luggage dropoff allowed',\n",
    "#  'amenities_TV with standard cable',\n",
    "#  'amenities_Cable TV',\n",
    "#  'amenities_Private patio or balcony',\n",
    "#  'amenities_Stove',\n",
    "#  'amenities_Laundromat nearby',\n",
    "#  'amenities_Drying rack for clothing',\n",
    "#  'amenities_Backyard',\n",
    "#  'amenities_Host greets you',\n",
    "#  'amenities_Paid parking off premises',\n",
    "#  'amenities_Security cameras on property',\n",
    "#  'amenities_Private entrance',\n",
    "#  'amenities_Dedicated workspace',\n",
    "#  'amenities_Patio or balcony',\n",
    "#  'amenities_Elevator',\n",
    "#  'accommod',\n",
    "#  'airport',\n",
    "#  'also',\n",
    "#  'amaz',\n",
    "#  'apart',\n",
    "#  'area',\n",
    "#  'around',\n",
    "#  'arriv',\n",
    "#  'away',\n",
    "#  'back',\n",
    "#  'bar',\n",
    "#  'bathroom',\n",
    "#  'beauti',\n",
    "#  'bed',\n",
    "#  'breakfast',\n",
    "#  'bu',\n",
    "#  'center',\n",
    "#  'centr',\n",
    "#  'check',\n",
    "#  'citi',\n",
    "#  'clean',\n",
    "#  'close',\n",
    "#  'comfort',\n",
    "#  'commun',\n",
    "#  'could',\n",
    "#  'day',\n",
    "#  'definit',\n",
    "#  'distanc',\n",
    "#  'dublin',\n",
    "#  'easi',\n",
    "#  'enjoy',\n",
    "#  'even',\n",
    "#  'everyth',\n",
    "#  'excel',\n",
    "#  'friendli',\n",
    "#  'get',\n",
    "#  'go',\n",
    "#  'good',\n",
    "#  'great',\n",
    "#  'ha',\n",
    "#  'help',\n",
    "#  'highli',\n",
    "#  'home',\n",
    "#  'host',\n",
    "#  'hous',\n",
    "#  'kind',\n",
    "#  'kitchen',\n",
    "#  'like',\n",
    "#  'littl',\n",
    "#  'locat',\n",
    "#  'lot',\n",
    "#  'love',\n",
    "#  'made',\n",
    "#  'make',\n",
    "#  'minut',\n",
    "#  'need',\n",
    "#  'nice',\n",
    "#  'night',\n",
    "#  'one',\n",
    "#  'onli',\n",
    "#  'perfect',\n",
    "#  'place',\n",
    "#  'quiet',\n",
    "#  'realli',\n",
    "#  'recommend',\n",
    "#  'restaur',\n",
    "#  'right',\n",
    "#  'room',\n",
    "#  'space',\n",
    "#  'stay',\n",
    "#  'super',\n",
    "#  'thank',\n",
    "#  'thi',\n",
    "#  'time',\n",
    "#  'us',\n",
    "#  'veri',\n",
    "#  'visit',\n",
    "#  'wa',\n",
    "#  'walk',\n",
    "#  'welcom',\n",
    "#  'well',\n",
    "#  'wonder',\n",
    "#  'would']\n",
    "target = 'review_scores_rating'\n",
    "targets = params[:7]\n",
    "params"
   ],
   "metadata": {
    "collapsed": false
   }
  },
  {
   "cell_type": "code",
   "execution_count": 95,
   "outputs": [
    {
     "data": {
      "text/plain": "<Figure size 640x480 with 1 Axes>",
      "image/png": "[encoded data removed]"
     },
     "metadata": {},
     "output_type": "display_data"
    }
   ],
   "source": [
    "from matplotlib import pyplot as plt\n",
    "\n",
    "outlier_plot = params.boxplot(column=target, return_type='dict')"
   ],
   "metadata": {
    "collapsed": false
   }
  },
  {
   "cell_type": "code",
   "execution_count": 96,
   "outputs": [
    {
     "data": {
      "text/plain": "<AxesSubplot:>"
     },
     "execution_count": 96,
     "metadata": {},
     "output_type": "execute_result"
    },
    {
     "data": {
      "text/plain": "<Figure size 640x480 with 1 Axes>",
      "image/png": "[encoded data removed]"
     },
     "metadata": {},
     "output_type": "display_data"
    }
   ],
   "source": [
    "def boxplot_fill(col):\n",
    "    iqr = col.quantile(0.75) - col.quantile(0.25)\n",
    "    u_th = col.quantile(0.75) + 1.5 * iqr\n",
    "    l_th = col.quantile(0.25) - 1.5 * iqr\n",
    "    def box_trans(x_inside):\n",
    "        if x_inside > u_th:\n",
    "            return u_th\n",
    "        elif x_inside < l_th:\n",
    "            return l_th\n",
    "        else:\n",
    "            return x_inside\n",
    "    return col.map(box_trans)\n",
    "boxplot_fill(params[target]).hist()"
   ],
   "metadata": {
    "collapsed": false
   }
  },
  {
   "cell_type": "code",
   "execution_count": 97,
   "outputs": [],
   "source": [
    "params[target] = boxplot_fill(params[target])"
   ],
   "metadata": {
    "collapsed": false
   }
  },
  {
   "cell_type": "code",
   "execution_count": 98,
   "outputs": [
    {
     "data": {
      "text/plain": "      review_scores_rating  review_scores_value  review_scores_checkin  \\\n0                     4.78                 4.82                   4.93   \n1                     4.79                 4.78                   4.90   \n2                     4.74                 4.74                   4.86   \n3                     4.84                 4.85                   4.95   \n4                     4.63                 4.55                   4.81   \n...                    ...                  ...                    ...   \n6192                  5.00                 5.00                   5.00   \n6193                  5.00                 4.75                   5.00   \n6206                  5.00                 5.00                   5.00   \n6207                  5.00                 5.00                   5.00   \n6208                  5.00                 5.00                   5.00   \n\n      review_scores_accuracy  review_scores_location  \\\n0                       4.83                    4.66   \n1                       4.86                    4.64   \n2                       4.77                    4.63   \n3                       4.88                    4.77   \n4                       4.89                    4.34   \n...                      ...                     ...   \n6192                    5.00                    5.00   \n6193                    5.00                    5.00   \n6206                    5.00                    5.00   \n6207                    5.00                    5.00   \n6208                    5.00                    5.00   \n\n      review_scores_cleanliness  review_scores_communication  price  \\\n0                          4.74                         4.93   70.0   \n1                          4.74                         4.88   67.0   \n2                          4.71                         4.90   45.0   \n3                          4.85                         4.97   80.0   \n4                          4.69                         4.75  251.0   \n...                         ...                          ...    ...   \n6192                       5.00                         5.00  176.0   \n6193                       5.00                         5.00   75.0   \n6206                       5.00                         5.00  800.0   \n6207                       5.00                         5.00  200.0   \n6208                       5.00                         5.00  131.0   \n\n      availability_30  number_of_reviews  ...      time        us      veri  \\\n0                   2                258  ...  0.201550  0.585271  0.930233   \n1                   3                210  ...  0.166667  0.457143  1.052381   \n2                   1                355  ...  0.157746  0.019718  0.822535   \n3                   2                326  ...  0.177914  0.527607  0.941718   \n4                   1                 64  ...  0.218750  0.218750  1.187500   \n...               ...                ...  ...       ...       ...       ...   \n6192                3                  1  ...  0.000000  0.000000  2.000000   \n6193                2                  4  ...  0.000000  0.000000  1.000000   \n6206               29                  1  ...  0.000000  0.000000  1.000000   \n6207                4                  1  ...  0.000000  0.000000  0.000000   \n6208                5                  1  ...  0.000000  1.000000  0.000000   \n\n         visit        wa      walk    welcom      well    wonder     would  \n0     0.112403  1.054264  0.131783  0.313953  0.158915  0.197674  0.286822  \n1     0.152381  0.919048  0.176190  0.252381  0.128571  0.176190  0.228571  \n2     0.078873  0.864789  0.104225  0.185915  0.092958  0.092958  0.171831  \n3     0.104294  1.098160  0.052147  0.236196  0.147239  0.073620  0.162577  \n4     0.078125  1.062500  0.218750  0.046875  0.406250  0.156250  0.328125  \n...        ...       ...       ...       ...       ...       ...       ...  \n6192  0.000000  1.000000  1.000000  1.000000  0.000000  0.000000  0.000000  \n6193  0.000000  0.750000  0.000000  0.250000  0.000000  0.000000  0.500000  \n6206  0.000000  0.000000  0.000000  0.000000  0.000000  0.000000  0.000000  \n6207  0.000000  0.000000  0.000000  0.000000  0.000000  0.000000  0.000000  \n6208  0.000000  1.000000  0.000000  0.000000  0.000000  0.000000  0.000000  \n\n[24248 rows x 224 columns]",
      "text/html": "<div>\n<style scoped>\n    .dataframe tbody tr th:only-of-type {\n        vertical-align: middle;\n    }\n\n    .dataframe tbody tr th {\n        vertical-align: top;\n    }\n\n    .dataframe thead th {\n        text-align: right;\n    }\n</style>\n<table border=\"1\" class=\"dataframe\">\n  <thead>\n    <tr style=\"text-align: right;\">\n      <th></th>\n      <th>review_scores_rating</th>\n      <th>review_scores_value</th>\n      <th>review_scores_checkin</th>\n      <th>review_scores_accuracy</th>\n      <th>review_scores_location</th>\n      <th>review_scores_cleanliness</th>\n      <th>review_scores_communication</th>\n      <th>price</th>\n      <th>availability_30</th>\n      <th>number_of_reviews</th>\n      <th>...</th>\n      <th>time</th>\n      <th>us</th>\n      <th>veri</th>\n      <th>visit</th>\n      <th>wa</th>\n      <th>walk</th>\n      <th>welcom</th>\n      <th>well</th>\n      <th>wonder</th>\n      <th>would</th>\n    </tr>\n  </thead>\n  <tbody>\n    <tr>\n      <th>0</th>\n      <td>4.78</td>\n      <td>4.82</td>\n      <td>4.93</td>\n      <td>4.83</td>\n      <td>4.66</td>\n      <td>4.74</td>\n      <td>4.93</td>\n      <td>70.0</td>\n      <td>2</td>\n      <td>258</td>\n      <td>...</td>\n      <td>0.201550</td>\n      <td>0.585271</td>\n      <td>0.930233</td>\n      <td>0.112403</td>\n      <td>1.054264</td>\n      <td>0.131783</td>\n      <td>0.313953</td>\n      <td>0.158915</td>\n      <td>0.197674</td>\n      <td>0.286822</td>\n    </tr>\n    <tr>\n      <th>1</th>\n      <td>4.79</td>\n      <td>4.78</td>\n      <td>4.90</td>\n      <td>4.86</td>\n      <td>4.64</td>\n      <td>4.74</td>\n      <td>4.88</td>\n      <td>67.0</td>\n      <td>3</td>\n      <td>210</td>\n      <td>...</td>\n      <td>0.166667</td>\n      <td>0.457143</td>\n      <td>1.052381</td>\n      <td>0.152381</td>\n      <td>0.919048</td>\n      <td>0.176190</td>\n      <td>0.252381</td>\n      <td>0.128571</td>\n      <td>0.176190</td>\n      <td>0.228571</td>\n    </tr>\n    <tr>\n      <th>2</th>\n      <td>4.74</td>\n      <td>4.74</td>\n      <td>4.86</td>\n      <td>4.77</td>\n      <td>4.63</td>\n      <td>4.71</td>\n      <td>4.90</td>\n      <td>45.0</td>\n      <td>1</td>\n      <td>355</td>\n      <td>...</td>\n      <td>0.157746</td>\n      <td>0.019718</td>\n      <td>0.822535</td>\n      <td>0.078873</td>\n      <td>0.864789</td>\n      <td>0.104225</td>\n      <td>0.185915</td>\n      <td>0.092958</td>\n      <td>0.092958</td>\n      <td>0.171831</td>\n    </tr>\n    <tr>\n      <th>3</th>\n      <td>4.84</td>\n      <td>4.85</td>\n      <td>4.95</td>\n      <td>4.88</td>\n      <td>4.77</td>\n      <td>4.85</td>\n      <td>4.97</td>\n      <td>80.0</td>\n      <td>2</td>\n      <td>326</td>\n      <td>...</td>\n      <td>0.177914</td>\n      <td>0.527607</td>\n      <td>0.941718</td>\n      <td>0.104294</td>\n      <td>1.098160</td>\n      <td>0.052147</td>\n      <td>0.236196</td>\n      <td>0.147239</td>\n      <td>0.073620</td>\n      <td>0.162577</td>\n    </tr>\n    <tr>\n      <th>4</th>\n      <td>4.63</td>\n      <td>4.55</td>\n      <td>4.81</td>\n      <td>4.89</td>\n      <td>4.34</td>\n      <td>4.69</td>\n      <td>4.75</td>\n      <td>251.0</td>\n      <td>1</td>\n      <td>64</td>\n      <td>...</td>\n      <td>0.218750</td>\n      <td>0.218750</td>\n      <td>1.187500</td>\n      <td>0.078125</td>\n      <td>1.062500</td>\n      <td>0.218750</td>\n      <td>0.046875</td>\n      <td>0.406250</td>\n      <td>0.156250</td>\n      <td>0.328125</td>\n    </tr>\n    <tr>\n      <th>...</th>\n      <td>...</td>\n      <td>...</td>\n      <td>...</td>\n      <td>...</td>\n      <td>...</td>\n      <td>...</td>\n      <td>...</td>\n      <td>...</td>\n      <td>...</td>\n      <td>...</td>\n      <td>...</td>\n      <td>...</td>\n      <td>...</td>\n      <td>...</td>\n      <td>...</td>\n      <td>...</td>\n      <td>...</td>\n      <td>...</td>\n      <td>...</td>\n      <td>...</td>\n      <td>...</td>\n    </tr>\n    <tr>\n      <th>6192</th>\n      <td>5.00</td>\n      <td>5.00</td>\n      <td>5.00</td>\n      <td>5.00</td>\n      <td>5.00</td>\n      <td>5.00</td>\n      <td>5.00</td>\n      <td>176.0</td>\n      <td>3</td>\n      <td>1</td>\n      <td>...</td>\n      <td>0.000000</td>\n      <td>0.000000</td>\n      <td>2.000000</td>\n      <td>0.000000</td>\n      <td>1.000000</td>\n      <td>1.000000</td>\n      <td>1.000000</td>\n      <td>0.000000</td>\n      <td>0.000000</td>\n      <td>0.000000</td>\n    </tr>\n    <tr>\n      <th>6193</th>\n      <td>5.00</td>\n      <td>4.75</td>\n      <td>5.00</td>\n      <td>5.00</td>\n      <td>5.00</td>\n      <td>5.00</td>\n      <td>5.00</td>\n      <td>75.0</td>\n      <td>2</td>\n      <td>4</td>\n      <td>...</td>\n      <td>0.000000</td>\n      <td>0.000000</td>\n      <td>1.000000</td>\n      <td>0.000000</td>\n      <td>0.750000</td>\n      <td>0.000000</td>\n      <td>0.250000</td>\n      <td>0.000000</td>\n      <td>0.000000</td>\n      <td>0.500000</td>\n    </tr>\n    <tr>\n      <th>6206</th>\n      <td>5.00</td>\n      <td>5.00</td>\n      <td>5.00</td>\n      <td>5.00</td>\n      <td>5.00</td>\n      <td>5.00</td>\n      <td>5.00</td>\n      <td>800.0</td>\n      <td>29</td>\n      <td>1</td>\n      <td>...</td>\n      <td>0.000000</td>\n      <td>0.000000</td>\n      <td>1.000000</td>\n      <td>0.000000</td>\n      <td>0.000000</td>\n      <td>0.000000</td>\n      <td>0.000000</td>\n      <td>0.000000</td>\n      <td>0.000000</td>\n      <td>0.000000</td>\n    </tr>\n    <tr>\n      <th>6207</th>\n      <td>5.00</td>\n      <td>5.00</td>\n      <td>5.00</td>\n      <td>5.00</td>\n      <td>5.00</td>\n      <td>5.00</td>\n      <td>5.00</td>\n      <td>200.0</td>\n      <td>4</td>\n      <td>1</td>\n      <td>...</td>\n      <td>0.000000</td>\n      <td>0.000000</td>\n      <td>0.000000</td>\n      <td>0.000000</td>\n      <td>0.000000</td>\n      <td>0.000000</td>\n      <td>0.000000</td>\n      <td>0.000000</td>\n      <td>0.000000</td>\n      <td>0.000000</td>\n    </tr>\n    <tr>\n      <th>6208</th>\n      <td>5.00</td>\n      <td>5.00</td>\n      <td>5.00</td>\n      <td>5.00</td>\n      <td>5.00</td>\n      <td>5.00</td>\n      <td>5.00</td>\n      <td>131.0</td>\n      <td>5</td>\n      <td>1</td>\n      <td>...</td>\n      <td>0.000000</td>\n      <td>1.000000</td>\n      <td>0.000000</td>\n      <td>0.000000</td>\n      <td>1.000000</td>\n      <td>0.000000</td>\n      <td>0.000000</td>\n      <td>0.000000</td>\n      <td>0.000000</td>\n      <td>0.000000</td>\n    </tr>\n  </tbody>\n</table>\n<p>24248 rows × 224 columns</p>\n</div>"
     },
     "execution_count": 98,
     "metadata": {},
     "output_type": "execute_result"
    }
   ],
   "source": [
    "params.dropna(inplace=True)\n",
    "params"
   ],
   "metadata": {
    "collapsed": false
   }
  },
  {
   "cell_type": "code",
   "execution_count": 121,
   "outputs": [
    {
     "name": "stdout",
     "output_type": "stream",
     "text": [
      "Accuracy:\n",
      "Lasso train: 0.199\n",
      "Lasso test: 0.184\n",
      "Baseline: -0.0\n",
      "MSE\n",
      "Lasso: 0.078\n",
      "Baseline: 0.095\n"
     ]
    }
   ],
   "source": [
    "from sklearn.metrics import mean_squared_error, r2_score\n",
    "from sklearn.model_selection import train_test_split\n",
    "from sklearn.linear_model import Lasso, Ridge, LogisticRegression\n",
    "from sklearn.dummy import DummyRegressor\n",
    "\n",
    "# x = params.iloc[:, 7:]\n",
    "# y = params.loc[:, target]\n",
    "#\n",
    "# x_train, x_test, y_train, y_test = train_test_split(x, y, test_size=0.1)\n",
    "#\n",
    "# baseline = DummyRegressor()\n",
    "# baseline.fit(x_train, y_train)\n",
    "#\n",
    "# model = Ridge(alpha=1 / (2 * 10))\n",
    "# model.fit(x_train, y_train)\n",
    "# y_pred = model.predict(x_test)\n",
    "# y_train_pred = model.predict(x_train)\n",
    "# y_base = baseline.predict(x_test)\n",
    "# print('Accuracy:')\n",
    "# print('Lasso train:', round(r2_score(y_train, y_train_pred), 3))\n",
    "# print('Lasso test:', round(r2_score(y_test, y_pred), 3))\n",
    "# print('Baseline:', round(r2_score(y_test, y_base), 3))\n",
    "# print('MSE')\n",
    "# print('Lasso:', round(mean_squared_error(y_test, y_pred), 3))\n",
    "# print('Baseline:', round(mean_squared_error(y_test, y_base), 3))"
   ],
   "metadata": {
    "collapsed": false
   }
  },
  {
   "cell_type": "code",
   "execution_count": 100,
   "outputs": [],
   "source": [
    "import numpy as np\n",
    "from sklearn.model_selection import KFold\n",
    "\n",
    "x = params.iloc[:, 7:]\n",
    "y = params.loc[:, target]\n",
    "\n",
    "mean_error = []\n",
    "std_error = []\n",
    "accuracy = []\n",
    "c_range = [0.1, 0.2, 0.3, 0.4, 0.5, 0.6]\n",
    "for c in c_range:\n",
    "    model_c = Ridge(alpha=1 / (2 * c))\n",
    "    temp = []\n",
    "    kf = KFold(n_splits=5, shuffle=True)\n",
    "    for train, test in kf.split(x):\n",
    "        model_c.fit(x.iloc[train], y.iloc[train])\n",
    "        y_pred = model_c.predict(x.iloc[test])\n",
    "        temp.append(mean_squared_error(y.iloc[test], y_pred))\n",
    "    mean_error.append(np.array(temp).mean())\n",
    "    std_error.append(np.array(temp).std())\n",
    "plt.figure()\n",
    "plt.errorbar(c_range, mean_error, yerr=std_error)\n",
    "plt.xlabel('Ci')\n",
    "plt.ylabel('Mean square error')\n",
    "plt.show()"
   ],
   "metadata": {
    "collapsed": false
   }
  }
 ],
 "metadata": {
  "kernelspec": {
   "display_name": "Python 3",
   "language": "python",
   "name": "python3"
  },
  "language_info": {
   "codemirror_mode": {
    "name": "ipython",
    "version": 2
   },
   "file_extension": ".py",
   "mimetype": "text/x-python",
   "name": "python",
   "nbconvert_exporter": "python",
   "pygments_lexer": "ipython2",
   "version": "2.7.6"
  }
 },
 "nbformat": 4,
 "nbformat_minor": 0
}
