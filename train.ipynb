{
 "cells": [
  {
   "cell_type": "code",
   "execution_count": null,
   "metadata": {
    "collapsed": true
   },
   "outputs": [],
   "source": [
    "import pandas as pd\n",
    "\n",
    "params = pd.read_csv('final_features.csv')\n",
    "params = params.drop(['Unnamed: 0'], axis=1)\n",
    "params = pd.concat([params, params, params, params])"
   ]
  },
  {
   "cell_type": "code",
   "execution_count": null,
   "outputs": [],
   "source": [
    "params.columns.values.tolist()"
   ],
   "metadata": {
    "collapsed": false
   }
  },
  {
   "cell_type": "code",
   "execution_count": null,
   "outputs": [],
   "source": [
    "features = ['price','availability_30', 'number_of_reviews', 'first_review']\n",
    "target = 'review_scores_value'\n",
    "targets = ['review_scores_rating',\n",
    "           'review_scores_value',\n",
    "           'review_scores_checkin',\n",
    "           'review_scores_accuracy',\n",
    "           'review_scores_location',\n",
    "           'review_scores_cleanliness',\n",
    "           'review_scores_communication']\n",
    "params"
   ],
   "metadata": {
    "collapsed": false
   }
  },
  {
   "cell_type": "code",
   "execution_count": null,
   "outputs": [],
   "source": [
    "from matplotlib import pyplot as plt\n",
    "\n",
    "outlier_plot = params.boxplot(column=target, return_type='dict')"
   ],
   "metadata": {
    "collapsed": false
   }
  },
  {
   "cell_type": "code",
   "execution_count": null,
   "outputs": [],
   "source": [
    "def boxplot_fill(col):\n",
    "    iqr = col.quantile(0.75) - col.quantile(0.25)\n",
    "    u_th = col.quantile(0.75) + 1.5 * iqr\n",
    "    l_th = col.quantile(0.25) - 1.5 * iqr\n",
    "\n",
    "    def box_trans(x_inside):\n",
    "        if x_inside > u_th:\n",
    "            return None\n",
    "        elif x_inside < l_th:\n",
    "            return None\n",
    "        else:\n",
    "            return x_inside\n",
    "\n",
    "    return col.map(box_trans)\n",
    "\n",
    "\n",
    "boxplot_fill(params[target]).hist()"
   ],
   "metadata": {
    "collapsed": false
   }
  },
  {
   "cell_type": "code",
   "execution_count": null,
   "outputs": [],
   "source": [
    "params[target] = boxplot_fill(params[target])"
   ],
   "metadata": {
    "collapsed": false
   }
  },
  {
   "cell_type": "code",
   "execution_count": null,
   "outputs": [],
   "source": [
    "params.dropna(inplace=True)\n",
    "params"
   ],
   "metadata": {
    "collapsed": false
   }
  },
  {
   "cell_type": "code",
   "execution_count": null,
   "outputs": [],
   "source": [
    "from sklearn.metrics import mean_squared_error, r2_score\n",
    "from sklearn.linear_model import Ridge\n",
    "from sklearn.dummy import DummyRegressor\n",
    "import numpy as np\n",
    "from sklearn.model_selection import KFold\n",
    "\n",
    "# x = params[features]\n",
    "x = params.iloc[:,7:]\n",
    "y = params.loc[:, target]\n",
    "\n",
    "mean_error = []\n",
    "std_error = []\n",
    "min_mean_error = 2\n",
    "min_std_error = 2\n",
    "base_min_mean_error = 2\n",
    "base_min_std_error = 2\n",
    "\n",
    "r2_scores = []\n",
    "max_r2_score = -100\n",
    "base_max_r2_score = -100\n",
    "\n",
    "accuracy = []\n",
    "c_range = [0.1, 0.2, 0.3, 0.4, 0.5, 0.6]\n",
    "# c_range = [50, 100, 1000, 10000]\n",
    "\n",
    "for c in c_range:\n",
    "    model_c = Ridge(alpha=1 / (2 * c))\n",
    "    temp = []\n",
    "    temp_base = []\n",
    "    temp_r2 = []\n",
    "    temp_base_r2 = []\n",
    "    kf = KFold(n_splits=5, shuffle=True)\n",
    "    for train, test in kf.split(x):\n",
    "        model_c.fit(x.iloc[train], y.iloc[train])\n",
    "        y_pred = model_c.predict(x.iloc[test])\n",
    "        temp.append(mean_squared_error(y.iloc[test], y_pred))\n",
    "        temp_r2.append(r2_score(y.iloc[test], y_pred))\n",
    "\n",
    "        baseline = DummyRegressor()\n",
    "        baseline.fit(x.iloc[train], y.iloc[train])\n",
    "        y_base = baseline.predict(x.iloc[test])\n",
    "        temp_base.append(mean_squared_error(y.iloc[test], y_base))\n",
    "        temp_base_r2.append(r2_score(y.iloc[test], y_base))\n",
    "\n",
    "    mean_r2 = np.array(temp_r2).mean()\n",
    "    if mean_r2 > max_r2_score:\n",
    "        max_r2_score = mean_r2\n",
    "    r2_scores.append(mean_r2)\n",
    "    mean = np.array(temp).mean()\n",
    "    std = np.array(temp).std()\n",
    "    if mean < min_mean_error:\n",
    "        min_mean_error = mean\n",
    "    if std < min_std_error:\n",
    "        min_std_error = std\n",
    "    mean_error.append(mean)\n",
    "    std_error.append(std)\n",
    "\n",
    "\n",
    "    base_mean_r2 = np.array(temp_base_r2).mean()\n",
    "    if base_mean_r2 > base_max_r2_score:\n",
    "        base_max_r2_score = base_mean_r2\n",
    "    base_mean = np.array(temp_base).mean()\n",
    "    base_std = np.array(temp_base).std()\n",
    "    if base_mean < base_min_mean_error:\n",
    "        base_min_mean_error = base_mean\n",
    "    if base_std < base_min_std_error:\n",
    "        base_min_std_error = base_std\n",
    "\n",
    "print('Max R2 score:', max_r2_score)\n",
    "print('Max baseline R2 score:', base_max_r2_score)\n",
    "print('Min mean error: ', min_mean_error)\n",
    "print('Min baseline mean error: ', base_min_mean_error)\n",
    "print('Min std error: ', min_std_error)\n",
    "print('Min baseline std error: ', base_min_std_error)\n",
    "\n",
    "plt.figure()\n",
    "plt.plot(c_range, r2_scores)\n",
    "plt.xlabel('Ci')\n",
    "plt.ylabel('R2 score')\n",
    "\n",
    "plt.figure()\n",
    "plt.errorbar(c_range, mean_error, yerr=std_error)\n",
    "plt.xlabel('Ci')\n",
    "plt.ylabel('Mean square error')\n",
    "plt.show()"
   ],
   "metadata": {
    "collapsed": false
   }
  }
 ],
 "metadata": {
  "kernelspec": {
   "display_name": "Python 3",
   "language": "python",
   "name": "python3"
  },
  "language_info": {
   "codemirror_mode": {
    "name": "ipython",
    "version": 2
   },
   "file_extension": ".py",
   "mimetype": "text/x-python",
   "name": "python",
   "nbconvert_exporter": "python",
   "pygments_lexer": "ipython2",
   "version": "2.7.6"
  }
 },
 "nbformat": 4,
 "nbformat_minor": 0
}
