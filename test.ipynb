{
 "cells": [
  {
   "cell_type": "code",
   "execution_count": 5,
   "outputs": [
    {
     "name": "stdout",
     "output_type": "stream",
     "text": [
      "['Here', 'example', 'text', 'isn', 'it']\n",
      "[\"Here's\", 'example', 'text,', \"isn't\", 'it?']\n",
      "['Here', \"'s\", 'example', 'text', ',', 'is', \"n't\", 'it', '?']\n",
      "['likes', 'liking', 'liked']\n",
      "['likes', 'liking', 'liked']\n",
      "['likes', 'liking', 'liked']\n",
      "['here', \"'s\", 'exampl', 'text', ',', 'is', \"n't\", 'it', '?']\n",
      "['the', 'like', ',', 'like', 'like']\n"
     ]
    },
    {
     "name": "stderr",
     "output_type": "stream",
     "text": [
      "[nltk_data] Downloading package punkt to /Users/eytins/nltk_data...\n",
      "[nltk_data]   Package punkt is already up-to-date!\n"
     ]
    }
   ],
   "source": [
    "import nltk\n",
    "from nltk.stem import PorterStemmer\n",
    "from sklearn.feature_extraction.text import CountVectorizer\n",
    "from nltk.tokenize import WhitespaceTokenizer\n",
    "from nltk.tokenize import word_tokenize\n",
    "\n",
    "nltk.download('punkt')\n",
    "\n",
    "tokenizer = CountVectorizer().build_tokenizer()\n",
    "print(tokenizer(\"Here's example text, isn't it?\")) # !!!!!!!\n",
    "\n",
    "print(WhitespaceTokenizer().tokenize(\"Here's example text, isn't it?\"))\n",
    "print(word_tokenize(\"Here's example text, isn't it?\"))\n",
    "print(tokenizer(\"likes liking liked\"))\n",
    "print(WhitespaceTokenizer().tokenize(\"likes liking liked\"))\n",
    "print(word_tokenize(\"likes liking liked\"))\n",
    "\n",
    "stemmer = PorterStemmer()\n",
    "tokens = word_tokenize(\"Here's example text, isn't it?\")\n",
    "stems = [stemmer.stem(token) for token in tokens]\n",
    "print(stems)\n",
    "tokens = word_tokenize(\"the likes, liking liked\") # !!!!!\n",
    "stems = [stemmer.stem(token) for token in tokens]\n",
    "print(stems)"
   ],
   "metadata": {
    "collapsed": false
   }
  },
  {
   "cell_type": "code",
   "execution_count": 6,
   "outputs": [
    {
     "name": "stdout",
     "output_type": "stream",
     "text": [
      "['and', 'document', 'first', 'is', 'one', 'second', 'the', 'third', 'this']\n",
      "[[0 1 1 1 0 0 1 0 1]\n",
      " [0 1 0 1 0 2 1 0 1]\n",
      " [1 0 0 0 1 0 1 1 0]\n",
      " [0 1 1 1 0 0 1 0 1]]\n"
     ]
    },
    {
     "name": "stderr",
     "output_type": "stream",
     "text": [
      "/Users/eytins/.conda/envs/ml/lib/python3.10/site-packages/sklearn/utils/deprecation.py:87: FutureWarning: Function get_feature_names is deprecated; get_feature_names is deprecated in 1.0 and will be removed in 1.2. Please use get_feature_names_out instead.\n",
      "  warnings.warn(msg, category=FutureWarning)\n"
     ]
    }
   ],
   "source": [
    "docs = ['This is the first document.',\n",
    "'This is the second second document.', 'And the third one.',\n",
    "'Is this the first document?']\n",
    "from sklearn.feature_extraction.text import CountVectorizer\n",
    "vectorizer = CountVectorizer()\n",
    "X = vectorizer.fit_transform(docs)\n",
    "print(vectorizer.get_feature_names())\n",
    "print(X.toarray())"
   ],
   "metadata": {
    "collapsed": false
   }
  },
  {
   "cell_type": "code",
   "execution_count": 7,
   "outputs": [
    {
     "name": "stdout",
     "output_type": "stream",
     "text": [
      "['and the', 'first document', 'is the', 'is this', 'second document', 'second second', 'the first', 'the second', 'the third', 'third one', 'this is', 'this the']\n",
      "[[0 1 1 0 0 0 1 0 0 0 1 0]\n",
      " [0 0 1 0 1 1 0 1 0 0 1 0]\n",
      " [1 0 0 0 0 0 0 0 1 1 0 0]\n",
      " [0 1 0 1 0 0 1 0 0 0 0 1]]\n"
     ]
    }
   ],
   "source": [
    "vectorizer = CountVectorizer(ngram_range=(2, 2))\n",
    "X = vectorizer.fit_transform(docs)\n",
    "print(vectorizer.get_feature_names())\n",
    "print(X.toarray())"
   ],
   "metadata": {
    "collapsed": false
   }
  },
  {
   "cell_type": "code",
   "execution_count": 8,
   "outputs": [
    {
     "name": "stderr",
     "output_type": "stream",
     "text": [
      "[nltk_data] Downloading package stopwords to\n",
      "[nltk_data]     /Users/eytins/nltk_data...\n",
      "[nltk_data]   Package stopwords is already up-to-date!\n"
     ]
    }
   ],
   "source": [
    "import nltk\n",
    "nltk.download('stopwords')\n",
    "vectorizer = CountVectorizer(stop_words=nltk.corpus.stopwords.words('english'))"
   ],
   "metadata": {
    "collapsed": false
   }
  },
  {
   "cell_type": "code",
   "execution_count": 1,
   "outputs": [],
   "source": [
    "import pandas as pd\n",
    "\n",
    "params = pd.read_csv('final_features.csv')\n",
    "\n",
    "ys = params.iloc[:, :7]"
   ],
   "metadata": {
    "collapsed": false
   }
  },
  {
   "cell_type": "code",
   "execution_count": null,
   "outputs": [],
   "source": [
    "for y in ys.columns:"
   ],
   "metadata": {
    "collapsed": false
   }
  }
 ],
 "metadata": {
  "kernelspec": {
   "display_name": "Python 3",
   "language": "python",
   "name": "python3"
  },
  "language_info": {
   "codemirror_mode": {
    "name": "ipython",
    "version": 2
   },
   "file_extension": ".py",
   "mimetype": "text/x-python",
   "name": "python",
   "nbconvert_exporter": "python",
   "pygments_lexer": "ipython2",
   "version": "2.7.6"
  }
 },
 "nbformat": 4,
 "nbformat_minor": 0
}
