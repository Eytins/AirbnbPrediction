{
 "cells": [
  {
   "cell_type": "code",
   "execution_count": 32,
   "outputs": [],
   "source": [
    "import pandas as pd\n",
    "\n",
    "listings = pd.read_csv('listings.csv')\n",
    "reviews = pd.read_csv('reviews.csv')"
   ],
   "metadata": {
    "collapsed": false
   }
  },
  {
   "cell_type": "markdown",
   "source": [
    "## All possible useful features:\n",
    "\n",
    "[0:id, 7:neighborhood_overview, 9:host_id, 15:host_response_time, 16:host_response_rate, 17:host_acceptance_rate(Survivorship bias?), 18:host_is_superhost, 22:host_listings_count, 24:host_verifications, 26:host_identity_verified, 28:neighbourhood_cleansed, 30:latitude, 31:longitude, 32:property_type, 33:room_type, 34:accommodates, 36:bathrooms_text, 37:bedrooms, 38:beds, 39:amenities, 40:price, 41:minimum_nights, 50:has_availability, 51:availability_30, 52:availability_60, 53:availability_90, 54:availability_365, 56:number_of_reviews, 57:number_of_reviews_ltm, 58:number_of_reviews_l30d, 59:first_review, 69:instant_bookable, 70:calculated_host_listings_count, 74:reviews_per_month]"
   ],
   "metadata": {
    "collapsed": false
   }
  },
  {
   "cell_type": "code",
   "execution_count": 33,
   "outputs": [
    {
     "name": "stdout",
     "output_type": "stream",
     "text": [
      "                                                        listing_url  \\\n",
      "id                                                                    \n",
      "44077                            https://www.airbnb.com/rooms/44077   \n",
      "85156                            https://www.airbnb.com/rooms/85156   \n",
      "159889                          https://www.airbnb.com/rooms/159889   \n",
      "162809                          https://www.airbnb.com/rooms/162809   \n",
      "165828                          https://www.airbnb.com/rooms/165828   \n",
      "...                                                             ...   \n",
      "712909401324393615  https://www.airbnb.com/rooms/712909401324393615   \n",
      "712914322433199115  https://www.airbnb.com/rooms/712914322433199115   \n",
      "712914393022526732  https://www.airbnb.com/rooms/712914393022526732   \n",
      "712966369602352444  https://www.airbnb.com/rooms/712966369602352444   \n",
      "713034176403340330  https://www.airbnb.com/rooms/713034176403340330   \n",
      "\n",
      "                         scrape_id last_scraped       source  \\\n",
      "id                                                             \n",
      "44077               20220911231053   2022-09-12  city scrape   \n",
      "85156               20220911231053   2022-09-12  city scrape   \n",
      "159889              20220911231053   2022-09-12  city scrape   \n",
      "162809              20220911231053   2022-09-11  city scrape   \n",
      "165828              20220911231053   2022-09-11  city scrape   \n",
      "...                            ...          ...          ...   \n",
      "712909401324393615  20220911231053   2022-09-12  city scrape   \n",
      "712914322433199115  20220911231053   2022-09-12  city scrape   \n",
      "712914393022526732  20220911231053   2022-09-11  city scrape   \n",
      "712966369602352444  20220911231053   2022-09-12  city scrape   \n",
      "713034176403340330  20220911231053   2022-09-12  city scrape   \n",
      "\n",
      "                                                                 name  \\\n",
      "id                                                                      \n",
      "44077                             cosy comfortable Irish cottage twin   \n",
      "85156                    Cosy Comfortable Irish Cottage  1 Double Bed   \n",
      "159889                                           Friendly Single Room   \n",
      "162809                             5.5 miles south of Dublin City :^)   \n",
      "165828                                 Pádraig Pearse apt. Kilmainham   \n",
      "...                                                               ...   \n",
      "712909401324393615      Comfortable double room with private bathroom   \n",
      "712914322433199115  Welcome 1-bedroom available. Free parking & Wi-Fi   \n",
      "712914393022526732     Cheerful 5-bedroom Home Friendly Irish Welcome   \n",
      "712966369602352444                     Double Bedroom in Private Home   \n",
      "713034176403340330                               Cozy Basement studio   \n",
      "\n",
      "                                                          description  \\\n",
      "id                                                                      \n",
      "44077               Our house was built in 1937 when there was ple...   \n",
      "85156               Our Cottage is a charming light filled cottage...   \n",
      "159889              Washing can be done at a cost of €5  per load....   \n",
      "162809              A nice place to relax after the bustle of the ...   \n",
      "165828              Don't just visit Dublin, experience Dublin in ...   \n",
      "...                                                               ...   \n",
      "712909401324393615  Comfortable double room with private bathroom ...   \n",
      "712914322433199115  Single room available in family home. Bus rout...   \n",
      "712914393022526732  Forget your worries in this spacious and seren...   \n",
      "712966369602352444  Large double room with panoramic views of Fr. ...   \n",
      "713034176403340330  Keep it simple at this peaceful and centrally-...   \n",
      "\n",
      "                                                neighborhood_overview  \\\n",
      "id                                                                      \n",
      "44077               I like our neighbourhood as there is no shorta...   \n",
      "85156               I love Dundrum and its surrounding areas ,<br ...   \n",
      "159889              Plenty of buses into the city and the area is ...   \n",
      "162809              Close to the sea, hill walks and the city - vi...   \n",
      "165828              Enjoy a walk along the grand canal, or just ob...   \n",
      "...                                                               ...   \n",
      "712909401324393615                                                NaN   \n",
      "712914322433199115                                                NaN   \n",
      "712914393022526732  Fantastic transport routes, 5 mins from luas g...   \n",
      "712966369602352444  Clongriffin dart station and 15 bus close by. ...   \n",
      "713034176403340330                                                NaN   \n",
      "\n",
      "                                                          picture_url  \\\n",
      "id                                                                      \n",
      "44077               https://a0.muscache.com/pictures/525706/050a3a...   \n",
      "85156               https://a0.muscache.com/pictures/1749253/9ed2a...   \n",
      "159889              https://a0.muscache.com/pictures/3031697/a8259...   \n",
      "162809              https://a0.muscache.com/pictures/86694529/c07b...   \n",
      "165828              https://a0.muscache.com/pictures/34311419/b3f6...   \n",
      "...                                                               ...   \n",
      "712909401324393615  https://a0.muscache.com/pictures/miso/Hosting-...   \n",
      "712914322433199115  https://a0.muscache.com/pictures/4c044921-f6fd...   \n",
      "712914393022526732  https://a0.muscache.com/pictures/53ed618c-3c14...   \n",
      "712966369602352444  https://a0.muscache.com/pictures/miso/Hosting-...   \n",
      "713034176403340330  https://a0.muscache.com/pictures/miso/Hosting-...   \n",
      "\n",
      "                      host_id                                     host_url  \\\n",
      "id                                                                           \n",
      "44077                  193005     https://www.airbnb.com/users/show/193005   \n",
      "85156                  193005     https://www.airbnb.com/users/show/193005   \n",
      "159889                 766611     https://www.airbnb.com/users/show/766611   \n",
      "162809                 777681     https://www.airbnb.com/users/show/777681   \n",
      "165828                 790601     https://www.airbnb.com/users/show/790601   \n",
      "...                       ...                                          ...   \n",
      "712909401324393615   38652370   https://www.airbnb.com/users/show/38652370   \n",
      "712914322433199115   89156390   https://www.airbnb.com/users/show/89156390   \n",
      "712914393022526732  128213034  https://www.airbnb.com/users/show/128213034   \n",
      "712966369602352444  256847071  https://www.airbnb.com/users/show/256847071   \n",
      "713034176403340330  403801975  https://www.airbnb.com/users/show/403801975   \n",
      "\n",
      "                    ... review_scores_location review_scores_value license  \\\n",
      "id                  ...                                                      \n",
      "44077               ...                   4.66                4.82     NaN   \n",
      "85156               ...                   4.64                4.78     NaN   \n",
      "159889              ...                   4.63                4.74     NaN   \n",
      "162809              ...                   4.77                4.85     NaN   \n",
      "165828              ...                   4.34                4.55     NaN   \n",
      "...                 ...                    ...                 ...     ...   \n",
      "712909401324393615  ...                    NaN                 NaN     NaN   \n",
      "712914322433199115  ...                    NaN                 NaN     NaN   \n",
      "712914393022526732  ...                    NaN                 NaN     NaN   \n",
      "712966369602352444  ...                    NaN                 NaN     NaN   \n",
      "713034176403340330  ...                    NaN                 NaN     NaN   \n",
      "\n",
      "                   instant_bookable calculated_host_listings_count  \\\n",
      "id                                                                   \n",
      "44077                             f                              2   \n",
      "85156                             f                              2   \n",
      "159889                            f                              3   \n",
      "162809                            f                              2   \n",
      "165828                            t                              5   \n",
      "...                             ...                            ...   \n",
      "712909401324393615                f                              1   \n",
      "712914322433199115                f                              2   \n",
      "712914393022526732                t                              2   \n",
      "712966369602352444                t                              1   \n",
      "713034176403340330                f                              3   \n",
      "\n",
      "                   calculated_host_listings_count_entire_homes  \\\n",
      "id                                                               \n",
      "44077                                                        0   \n",
      "85156                                                        0   \n",
      "159889                                                       0   \n",
      "162809                                                       0   \n",
      "165828                                                       5   \n",
      "...                                                        ...   \n",
      "712909401324393615                                           0   \n",
      "712914322433199115                                           0   \n",
      "712914393022526732                                           0   \n",
      "712966369602352444                                           0   \n",
      "713034176403340330                                           1   \n",
      "\n",
      "                   calculated_host_listings_count_private_rooms  \\\n",
      "id                                                                \n",
      "44077                                                         2   \n",
      "85156                                                         2   \n",
      "159889                                                        3   \n",
      "162809                                                        2   \n",
      "165828                                                        0   \n",
      "...                                                         ...   \n",
      "712909401324393615                                            1   \n",
      "712914322433199115                                            2   \n",
      "712914393022526732                                            2   \n",
      "712966369602352444                                            1   \n",
      "713034176403340330                                            2   \n",
      "\n",
      "                   calculated_host_listings_count_shared_rooms  \\\n",
      "id                                                               \n",
      "44077                                                        0   \n",
      "85156                                                        0   \n",
      "159889                                                       0   \n",
      "162809                                                       0   \n",
      "165828                                                       0   \n",
      "...                                                        ...   \n",
      "712909401324393615                                           0   \n",
      "712914322433199115                                           0   \n",
      "712914393022526732                                           0   \n",
      "712966369602352444                                           0   \n",
      "713034176403340330                                           0   \n",
      "\n",
      "                   reviews_per_month review_text_score  \n",
      "id                                                      \n",
      "44077                           1.85              None  \n",
      "85156                           1.53              None  \n",
      "159889                          2.78              None  \n",
      "162809                          3.68              None  \n",
      "165828                          0.48              None  \n",
      "...                              ...               ...  \n",
      "712909401324393615               NaN              None  \n",
      "712914322433199115               NaN              None  \n",
      "712914393022526732               NaN              None  \n",
      "712966369602352444               NaN              None  \n",
      "713034176403340330               NaN              None  \n",
      "\n",
      "[7566 rows x 75 columns]\n"
     ]
    }
   ],
   "source": [
    "listings = listings.set_index('id')\n",
    "listings['review_text_score'] = None"
   ],
   "metadata": {
    "collapsed": false
   }
  },
  {
   "cell_type": "code",
   "execution_count": 37,
   "outputs": [
    {
     "name": "stdout",
     "output_type": "stream",
     "text": [
      "Hi\n"
     ]
    }
   ],
   "source": [
    "idi = 44077\n",
    "listings.loc[idi, 'review_text_score'] = 'Hi'"
   ],
   "metadata": {
    "collapsed": false
   }
  },
  {
   "cell_type": "code",
   "execution_count": 39,
   "outputs": [
    {
     "data": {
      "text/plain": "     listing_id                  id        date  reviewer_id  \\\n0         44077              203703  2011-03-20       393348   \n1         44077              211369  2011-03-28       444004   \n2         44077              234215  2011-04-21       465058   \n3         44077              261843  2011-05-13       490005   \n4         44077              268148  2011-05-17       520460   \n..          ...                 ...         ...          ...   \n732       44077  699882454849902312  2022-08-23    414867232   \n733       44077  703399914093479832  2022-08-28    313455460   \n734       44077  706305988262252315  2022-09-01    179954658   \n735       44077  708578042971641645  2022-09-04    332315711   \n736       44077  712101036687397788  2022-09-09    134598589   \n\n            reviewer_name                                           comments  \n0               Christian  We enjoyed our stay very much. The room was co...  \n1                 Solidea  We have been here 4 nights. Stay in a home is ...  \n2    Michael And Isabelle  Teresa and Hughie were great hosts. They were ...  \n3                  Weston  No surprises, was as described.  Very gracious...  \n4                 Barbara  Teresa was a lovely hostess, and we had a deli...  \n..                    ...                                                ...  \n732              Marthina  Teresa’s home is great and they were very acco...  \n733                 Karen  Lovely area, good tips from Teresa, easy acces...  \n734                  Noah     Amazing stay and location with hospitable host  \n735              Nathalie  Je recommande vivement ce logement - Très bien...  \n736                Marion                                         Good value  \n\n[258 rows x 6 columns]",
      "text/html": "<div>\n<style scoped>\n    .dataframe tbody tr th:only-of-type {\n        vertical-align: middle;\n    }\n\n    .dataframe tbody tr th {\n        vertical-align: top;\n    }\n\n    .dataframe thead th {\n        text-align: right;\n    }\n</style>\n<table border=\"1\" class=\"dataframe\">\n  <thead>\n    <tr style=\"text-align: right;\">\n      <th></th>\n      <th>listing_id</th>\n      <th>id</th>\n      <th>date</th>\n      <th>reviewer_id</th>\n      <th>reviewer_name</th>\n      <th>comments</th>\n    </tr>\n  </thead>\n  <tbody>\n    <tr>\n      <th>0</th>\n      <td>44077</td>\n      <td>203703</td>\n      <td>2011-03-20</td>\n      <td>393348</td>\n      <td>Christian</td>\n      <td>We enjoyed our stay very much. The room was co...</td>\n    </tr>\n    <tr>\n      <th>1</th>\n      <td>44077</td>\n      <td>211369</td>\n      <td>2011-03-28</td>\n      <td>444004</td>\n      <td>Solidea</td>\n      <td>We have been here 4 nights. Stay in a home is ...</td>\n    </tr>\n    <tr>\n      <th>2</th>\n      <td>44077</td>\n      <td>234215</td>\n      <td>2011-04-21</td>\n      <td>465058</td>\n      <td>Michael And Isabelle</td>\n      <td>Teresa and Hughie were great hosts. They were ...</td>\n    </tr>\n    <tr>\n      <th>3</th>\n      <td>44077</td>\n      <td>261843</td>\n      <td>2011-05-13</td>\n      <td>490005</td>\n      <td>Weston</td>\n      <td>No surprises, was as described.  Very gracious...</td>\n    </tr>\n    <tr>\n      <th>4</th>\n      <td>44077</td>\n      <td>268148</td>\n      <td>2011-05-17</td>\n      <td>520460</td>\n      <td>Barbara</td>\n      <td>Teresa was a lovely hostess, and we had a deli...</td>\n    </tr>\n    <tr>\n      <th>...</th>\n      <td>...</td>\n      <td>...</td>\n      <td>...</td>\n      <td>...</td>\n      <td>...</td>\n      <td>...</td>\n    </tr>\n    <tr>\n      <th>732</th>\n      <td>44077</td>\n      <td>699882454849902312</td>\n      <td>2022-08-23</td>\n      <td>414867232</td>\n      <td>Marthina</td>\n      <td>Teresa’s home is great and they were very acco...</td>\n    </tr>\n    <tr>\n      <th>733</th>\n      <td>44077</td>\n      <td>703399914093479832</td>\n      <td>2022-08-28</td>\n      <td>313455460</td>\n      <td>Karen</td>\n      <td>Lovely area, good tips from Teresa, easy acces...</td>\n    </tr>\n    <tr>\n      <th>734</th>\n      <td>44077</td>\n      <td>706305988262252315</td>\n      <td>2022-09-01</td>\n      <td>179954658</td>\n      <td>Noah</td>\n      <td>Amazing stay and location with hospitable host</td>\n    </tr>\n    <tr>\n      <th>735</th>\n      <td>44077</td>\n      <td>708578042971641645</td>\n      <td>2022-09-04</td>\n      <td>332315711</td>\n      <td>Nathalie</td>\n      <td>Je recommande vivement ce logement - Très bien...</td>\n    </tr>\n    <tr>\n      <th>736</th>\n      <td>44077</td>\n      <td>712101036687397788</td>\n      <td>2022-09-09</td>\n      <td>134598589</td>\n      <td>Marion</td>\n      <td>Good value</td>\n    </tr>\n  </tbody>\n</table>\n<p>258 rows × 6 columns</p>\n</div>"
     },
     "execution_count": 39,
     "metadata": {},
     "output_type": "execute_result"
    }
   ],
   "source": [
    "# 算出来一个或者一些啥啥分然后加到listing里\n",
    "reviews.query('listing_id == ' + str(44077))\n"
   ],
   "metadata": {
    "collapsed": false
   }
  },
  {
   "cell_type": "code",
   "execution_count": null,
   "outputs": [],
   "source": [
    "# reviews参数化然后添加到列\n"
   ],
   "metadata": {
    "collapsed": false
   }
  }
 ],
 "metadata": {
  "kernelspec": {
   "display_name": "Python 3",
   "language": "python",
   "name": "python3"
  },
  "language_info": {
   "codemirror_mode": {
    "name": "ipython",
    "version": 2
   },
   "file_extension": ".py",
   "mimetype": "text/x-python",
   "name": "python",
   "nbconvert_exporter": "python",
   "pygments_lexer": "ipython2",
   "version": "2.7.6"
  }
 },
 "nbformat": 4,
 "nbformat_minor": 0
}
