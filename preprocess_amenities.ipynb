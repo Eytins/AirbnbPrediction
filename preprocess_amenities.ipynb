{
 "cells": [
  {
   "cell_type": "code",
   "execution_count": null,
   "metadata": {
    "collapsed": true
   },
   "outputs": [],
   "source": [
    "import os\n",
    "\n",
    "import pandas as pd\n",
    "\n",
    "listings = pd.read_csv('new_listings.csv')\n",
    "listings"
   ]
  },
  {
   "cell_type": "code",
   "execution_count": null,
   "outputs": [],
   "source": [
    "amenities = listings['amenities']\n",
    "amenities"
   ],
   "metadata": {
    "collapsed": false
   }
  },
  {
   "cell_type": "code",
   "execution_count": null,
   "outputs": [],
   "source": [
    "amenities_list = list(amenities)\n",
    "amenities_list_str = ''.join(amenities_list)\n",
    "amenities_list_str = amenities_list_str.replace('][', ', ')\n",
    "amenities_list_str = amenities_list_str[1:-1]\n",
    "amenities_list_str"
   ],
   "metadata": {
    "collapsed": false
   }
  },
  {
   "cell_type": "code",
   "execution_count": null,
   "outputs": [],
   "source": [
    "words_list = amenities_list_str.split('\", \"')\n",
    "words_list.__len__()"
   ],
   "metadata": {
    "collapsed": false
   }
  },
  {
   "cell_type": "code",
   "execution_count": null,
   "outputs": [],
   "source": [
    "word_counter = {}\n",
    "for word in words_list:\n",
    "    word_counter[word] = word_counter.get(word, 0) + 1\n",
    "word_counter.__len__()"
   ],
   "metadata": {
    "collapsed": false
   }
  },
  {
   "cell_type": "code",
   "execution_count": null,
   "outputs": [],
   "source": [
    "sorted(word_counter.items(), key=lambda x: x[1], reverse=True)[:100]"
   ],
   "metadata": {
    "collapsed": false
   }
  },
  {
   "cell_type": "code",
   "execution_count": null,
   "outputs": [],
   "source": [
    "final_words = []\n",
    "for k, v in word_counter.items():\n",
    "    if 500 < v < 2000:\n",
    "        final_words.append(k)\n",
    "final_words.__len__()"
   ],
   "metadata": {
    "collapsed": false
   }
  },
  {
   "cell_type": "code",
   "execution_count": null,
   "outputs": [],
   "source": [
    "final_words"
   ],
   "metadata": {
    "collapsed": false
   }
  },
  {
   "cell_type": "code",
   "execution_count": null,
   "outputs": [],
   "source": [
    "listings = listings.drop(['amenities'], axis=1)\n",
    "listings"
   ],
   "metadata": {
    "collapsed": false
   }
  },
  {
   "cell_type": "code",
   "execution_count": null,
   "outputs": [],
   "source": [
    "listings = pd.get_dummies(listings)\n",
    "listings.columns.values.tolist()"
   ],
   "metadata": {
    "collapsed": false
   }
  },
  {
   "cell_type": "code",
   "execution_count": null,
   "outputs": [],
   "source": [
    "for each in final_words:\n",
    "    listings['amenities_' + each] = ''\n",
    "    for k, v in amenities.items():\n",
    "        temp_set = set(v[2:-2].split('\", \"'))\n",
    "        if each in temp_set:\n",
    "            listings.loc[k, 'amenities_' + each] = 1\n",
    "        else:\n",
    "            listings.loc[k, 'amenities_' + each] = 0\n",
    "listings"
   ],
   "metadata": {
    "collapsed": false
   }
  },
  {
   "cell_type": "code",
   "execution_count": null,
   "outputs": [],
   "source": [
    "os.remove('new_listings1.csv')\n",
    "listings.to_csv('new_listings1.csv')"
   ],
   "metadata": {
    "collapsed": false
   }
  }
 ],
 "metadata": {
  "kernelspec": {
   "display_name": "Python 3",
   "language": "python",
   "name": "python3"
  },
  "language_info": {
   "codemirror_mode": {
    "name": "ipython",
    "version": 2
   },
   "file_extension": ".py",
   "mimetype": "text/x-python",
   "name": "python",
   "nbconvert_exporter": "python",
   "pygments_lexer": "ipython2",
   "version": "2.7.6"
  }
 },
 "nbformat": 4,
 "nbformat_minor": 0
}
