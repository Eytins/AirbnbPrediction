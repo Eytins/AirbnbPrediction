{
 "cells": [
  {
   "cell_type": "code",
   "execution_count": null,
   "metadata": {
    "collapsed": true
   },
   "outputs": [],
   "source": [
    "import matplotlib.pyplot as plt\n",
    "import pandas as pd\n",
    "import seaborn as sns\n",
    "\n",
    "target_list = ['review_scores_rating',\n",
    "               'review_scores_value',\n",
    "               'review_scores_checkin',\n",
    "               'review_scores_accuracy',\n",
    "               'review_scores_location',\n",
    "               'review_scores_cleanliness',\n",
    "               'review_scores_communication']\n",
    "\n",
    "params = pd.read_csv('final_features.csv')\n",
    "params = params.drop(['Unnamed: 0'], axis=1)\n",
    "params"
   ]
  },
  {
   "cell_type": "code",
   "execution_count": null,
   "outputs": [],
   "source": [
    "params[target_list]"
   ],
   "metadata": {
    "collapsed": false
   }
  },
  {
   "cell_type": "code",
   "execution_count": null,
   "outputs": [],
   "source": [
    "plt.figure()\n",
    "## for score in scores_to_plot:\n",
    "sns.set(font_scale=1.5)\n",
    "sns.displot(params[target_list], label=target_list, kind=\"kde\")\n",
    "\n",
    "plt.show()"
   ],
   "metadata": {
    "collapsed": false
   }
  },
  {
   "cell_type": "code",
   "execution_count": null,
   "outputs": [],
   "source": [
    "box_list = []\n",
    "for each in params[target_list]:\n",
    "    box_list.append(each)\n",
    "len(box_list)"
   ],
   "metadata": {
    "collapsed": false
   }
  },
  {
   "cell_type": "code",
   "execution_count": null,
   "outputs": [],
   "source": [
    "params.boxplot(column=target_list)"
   ],
   "metadata": {
    "collapsed": false
   }
  },
  {
   "cell_type": "code",
   "execution_count": null,
   "outputs": [],
   "source": [
    "import matplotlib\n",
    "import pandas as pd\n",
    "\n",
    "params = {'axes.titlesize': '30',\n",
    "          'xtick.labelsize': '30',\n",
    "          'ytick.labelsize': '30'}\n",
    "matplotlib.rcParams.update(params)\n",
    "\n",
    "listings = pd.read_csv('new_listings.csv')\n",
    "listings.hist(column=['host_response_time', 'host_response_rate', 'host_acceptance_rate', 'host_is_superhost',\n",
    "                      'calculated_host_listings_count', 'host_identity_verified', 'neighbourhood_cleansed',\n",
    "                      'property_type', 'room_type', 'accommodates', 'bathrooms_text', 'bedrooms', 'beds', 'amenities',\n",
    "                      'price', 'minimum_nights', 'availability_30', 'number_of_reviews', 'first_review',\n",
    "                      'instant_bookable'], figsize=(20, 20), layout=(4, 1))"
   ],
   "metadata": {
    "collapsed": false
   }
  },
  {
   "cell_type": "code",
   "execution_count": null,
   "outputs": [],
   "source": [
    "matplotlib.rcParams.keys()"
   ],
   "metadata": {
    "collapsed": false
   }
  },
  {
   "cell_type": "code",
   "execution_count": null,
   "outputs": [],
   "source": [
    "import matplotlib.pyplot as plt\n",
    "\n",
    "params = {'axes.titlesize': '35',\n",
    "          'xtick.labelsize': '35',\n",
    "          'ytick.labelsize': '35'}\n",
    "plt.rcParams.update(params)\n",
    "\n",
    "targets = ['rating',\n",
    "           'value',\n",
    "           'checkin',\n",
    "           'accuracy',\n",
    "           'location',\n",
    "           'clean',\n",
    "           'communication']\n",
    "\n",
    "lasso_r2 = [0.17385288340419705, 0.138068878720167, 0.1716119326394156, 0.1535031576296509, 0.13628514684319087,\n",
    "            0.13276867328953118, 0.1789071221673114]\n",
    "\n",
    "ridge_r2 = [0.17328280775221677, 0.1395970779758196, 0.1719860551278623, 0.15575074725193253, 0.13794232249311075,\n",
    "            0.1316629204116716, 0.17958705762062413]\n",
    "\n",
    "lasso_mse = [0.06037185392647728, 0.06680987851258605, 0.010373113660663404, 0.019814826588498924, 0.03668230218034619,\n",
    "             0.07304127413689597, 0.009513758109744306]\n",
    "\n",
    "ridge_mse = [0.0604127869824593, 0.06670383245771526, 0.010366118718476976, 0.019763861584065935, 0.036629717974842775,\n",
    "             0.07311447495723908, 0.009507546487331112]\n",
    "\n",
    "lasso_std = [0.000772673354738842, 0.0010571338893140896, 0.0001528068764043821, 0.00032057873265831213,\n",
    "             0.0003499783822514276, 0.0008283354843510363, 0.00016190318751263018]\n",
    "\n",
    "ridge_std = [0.0005674883118818867, 0.0002670085063871083, 0.00016227467562801907, 0.0003304830022569137,\n",
    "             0.0001376458964096397, 0.000978560814085526, 0.0001630409180999816]\n",
    "\n",
    "plt.figure(figsize=(20,30))\n",
    "# plt.subplots_adjust(hspace=3)\n",
    "plt.subplot(3, 1, 1)\n",
    "# plt.title('R2 Score')\n",
    "# plt.xlabel('targets',fontsize=)\n",
    "plt.ylabel('R2 score', fontsize=35)\n",
    "plt.plot(targets, ridge_r2, color = 'r', label='ridge')\n",
    "plt.plot(targets, lasso_r2, color = 'g', label='lasso')\n",
    "plt.legend(fontsize=30)\n",
    "plt.subplot(3, 1, 2)\n",
    "# plt.title('MSE')\n",
    "# plt.xlabel('targets')\n",
    "plt.ylabel('MSE', fontsize=35)\n",
    "plt.plot(targets, ridge_mse, color = 'r', label='ridge')\n",
    "plt.plot(targets, lasso_mse, color = 'g', label='lasso')\n",
    "plt.legend(fontsize=30)\n",
    "plt.subplot(3, 1, 3)\n",
    "# plt.title('std')\n",
    "# plt.xlabel('targets')\n",
    "plt.ylabel('std', fontsize=35)\n",
    "plt.plot(targets, ridge_std, color = 'r', label='ridge')\n",
    "plt.plot(targets, lasso_std, color = 'g', label='lasso')\n",
    "plt.legend(fontsize=30)\n",
    "plt.show()"
   ],
   "metadata": {
    "collapsed": false
   }
  }
 ],
 "metadata": {
  "kernelspec": {
   "display_name": "Python 3",
   "language": "python",
   "name": "python3"
  },
  "language_info": {
   "codemirror_mode": {
    "name": "ipython",
    "version": 2
   },
   "file_extension": ".py",
   "mimetype": "text/x-python",
   "name": "python",
   "nbconvert_exporter": "python",
   "pygments_lexer": "ipython2",
   "version": "2.7.6"
  }
 },
 "nbformat": 4,
 "nbformat_minor": 0
}
