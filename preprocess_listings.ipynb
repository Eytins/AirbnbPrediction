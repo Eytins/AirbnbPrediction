{
 "cells": [
  {
   "cell_type": "code",
   "execution_count": 1345,
   "metadata": {
    "collapsed": true
   },
   "outputs": [
    {
     "data": {
      "text/plain": "id                                                                         44077   \\\nlisting_url                                    https://www.airbnb.com/rooms/44077   \nscrape_id                                                          20220911231053   \nlast_scraped                                                           2022-09-12   \nsource                                                                city scrape   \nname                                          cosy comfortable Irish cottage twin   \n...                                                                           ...   \ncalculated_host_listings_count                                                  2   \ncalculated_host_listings_count_entire_homes                                     0   \ncalculated_host_listings_count_private_rooms                                    2   \ncalculated_host_listings_count_shared_rooms                                     0   \nreviews_per_month                                                            1.85   \n\nid                                                                                  85156   \\\nlisting_url                                             https://www.airbnb.com/rooms/85156   \nscrape_id                                                                   20220911231053   \nlast_scraped                                                                    2022-09-12   \nsource                                                                         city scrape   \nname                                          Cosy Comfortable Irish Cottage  1 Double Bed   \n...                                                                                    ...   \ncalculated_host_listings_count                                                           2   \ncalculated_host_listings_count_entire_homes                                              0   \ncalculated_host_listings_count_private_rooms                                             2   \ncalculated_host_listings_count_shared_rooms                                              0   \nreviews_per_month                                                                     1.53   \n\nid                                                                         159889  \\\nlisting_url                                   https://www.airbnb.com/rooms/159889   \nscrape_id                                                          20220911231053   \nlast_scraped                                                           2022-09-12   \nsource                                                                city scrape   \nname                                                         Friendly Single Room   \n...                                                                           ...   \ncalculated_host_listings_count                                                  3   \ncalculated_host_listings_count_entire_homes                                     0   \ncalculated_host_listings_count_private_rooms                                    3   \ncalculated_host_listings_count_shared_rooms                                     0   \nreviews_per_month                                                            2.78   \n\nid                                                                         162809  \\\nlisting_url                                   https://www.airbnb.com/rooms/162809   \nscrape_id                                                          20220911231053   \nlast_scraped                                                           2022-09-11   \nsource                                                                city scrape   \nname                                           5.5 miles south of Dublin City :^)   \n...                                                                           ...   \ncalculated_host_listings_count                                                  2   \ncalculated_host_listings_count_entire_homes                                     0   \ncalculated_host_listings_count_private_rooms                                    2   \ncalculated_host_listings_count_shared_rooms                                     0   \nreviews_per_month                                                            3.68   \n\nid                                                                         165828  \nlisting_url                                   https://www.airbnb.com/rooms/165828  \nscrape_id                                                          20220911231053  \nlast_scraped                                                           2022-09-11  \nsource                                                                city scrape  \nname                                               Pádraig Pearse apt. Kilmainham  \n...                                                                           ...  \ncalculated_host_listings_count                                                  5  \ncalculated_host_listings_count_entire_homes                                     5  \ncalculated_host_listings_count_private_rooms                                    0  \ncalculated_host_listings_count_shared_rooms                                     0  \nreviews_per_month                                                            0.48  \n\n[74 rows x 5 columns]",
      "text/html": "<div>\n<style scoped>\n    .dataframe tbody tr th:only-of-type {\n        vertical-align: middle;\n    }\n\n    .dataframe tbody tr th {\n        vertical-align: top;\n    }\n\n    .dataframe thead th {\n        text-align: right;\n    }\n</style>\n<table border=\"1\" class=\"dataframe\">\n  <thead>\n    <tr style=\"text-align: right;\">\n      <th>id</th>\n      <th>44077</th>\n      <th>85156</th>\n      <th>159889</th>\n      <th>162809</th>\n      <th>165828</th>\n    </tr>\n  </thead>\n  <tbody>\n    <tr>\n      <th>listing_url</th>\n      <td>https://www.airbnb.com/rooms/44077</td>\n      <td>https://www.airbnb.com/rooms/85156</td>\n      <td>https://www.airbnb.com/rooms/159889</td>\n      <td>https://www.airbnb.com/rooms/162809</td>\n      <td>https://www.airbnb.com/rooms/165828</td>\n    </tr>\n    <tr>\n      <th>scrape_id</th>\n      <td>20220911231053</td>\n      <td>20220911231053</td>\n      <td>20220911231053</td>\n      <td>20220911231053</td>\n      <td>20220911231053</td>\n    </tr>\n    <tr>\n      <th>last_scraped</th>\n      <td>2022-09-12</td>\n      <td>2022-09-12</td>\n      <td>2022-09-12</td>\n      <td>2022-09-11</td>\n      <td>2022-09-11</td>\n    </tr>\n    <tr>\n      <th>source</th>\n      <td>city scrape</td>\n      <td>city scrape</td>\n      <td>city scrape</td>\n      <td>city scrape</td>\n      <td>city scrape</td>\n    </tr>\n    <tr>\n      <th>name</th>\n      <td>cosy comfortable Irish cottage twin</td>\n      <td>Cosy Comfortable Irish Cottage  1 Double Bed</td>\n      <td>Friendly Single Room</td>\n      <td>5.5 miles south of Dublin City :^)</td>\n      <td>Pádraig Pearse apt. Kilmainham</td>\n    </tr>\n    <tr>\n      <th>...</th>\n      <td>...</td>\n      <td>...</td>\n      <td>...</td>\n      <td>...</td>\n      <td>...</td>\n    </tr>\n    <tr>\n      <th>calculated_host_listings_count</th>\n      <td>2</td>\n      <td>2</td>\n      <td>3</td>\n      <td>2</td>\n      <td>5</td>\n    </tr>\n    <tr>\n      <th>calculated_host_listings_count_entire_homes</th>\n      <td>0</td>\n      <td>0</td>\n      <td>0</td>\n      <td>0</td>\n      <td>5</td>\n    </tr>\n    <tr>\n      <th>calculated_host_listings_count_private_rooms</th>\n      <td>2</td>\n      <td>2</td>\n      <td>3</td>\n      <td>2</td>\n      <td>0</td>\n    </tr>\n    <tr>\n      <th>calculated_host_listings_count_shared_rooms</th>\n      <td>0</td>\n      <td>0</td>\n      <td>0</td>\n      <td>0</td>\n      <td>0</td>\n    </tr>\n    <tr>\n      <th>reviews_per_month</th>\n      <td>1.85</td>\n      <td>1.53</td>\n      <td>2.78</td>\n      <td>3.68</td>\n      <td>0.48</td>\n    </tr>\n  </tbody>\n</table>\n<p>74 rows × 5 columns</p>\n</div>"
     },
     "execution_count": 1345,
     "metadata": {},
     "output_type": "execute_result"
    }
   ],
   "source": [
    "import os\n",
    "\n",
    "# Read data\n",
    "\n",
    "import pandas as pd\n",
    "\n",
    "# Possible useful features:\n",
    "# [0:id, 7:neighborhood_overview, 9:host_id, 15:host_response_time, 16:host_response_rate, 17:host_acceptance_rate(Survivorship bias?), 18:host_is_superhost, 22:host_listings_count, 24:host_verifications, 26:host_identity_verified, 28:neighbourhood_cleansed, 30:latitude, 31:longitude, 32:property_type, 33:room_type, 34:accommodates, 36:bathrooms_text, 37:bedrooms, 38:beds, 39:amenities, 40:price, 41:minimum_nights, 50:has_availability, 51:availability_30, 52:availability_60, 53:availability_90, 54:availability_365, 56:number_of_reviews, 57:number_of_reviews_ltm, 58:number_of_reviews_l30d, 59:first_review, 69:instant_bookable, 70:calculated_host_listings_count, 74:reviews_per_month]\n",
    "\n",
    "listings = pd.read_csv('listings.csv')\n",
    "listings = listings.set_index('id')\n",
    "\n",
    "result = pd.DataFrame()\n",
    "\n",
    "listings.head().T"
   ]
  },
  {
   "cell_type": "code",
   "execution_count": 1346,
   "outputs": [
    {
     "data": {
      "text/plain": "listing_url                                      object\nscrape_id                                         int64\nlast_scraped                                     object\nsource                                           object\nname                                             object\n                                                 ...   \ncalculated_host_listings_count                    int64\ncalculated_host_listings_count_entire_homes       int64\ncalculated_host_listings_count_private_rooms      int64\ncalculated_host_listings_count_shared_rooms       int64\nreviews_per_month                               float64\nLength: 74, dtype: object"
     },
     "execution_count": 1346,
     "metadata": {},
     "output_type": "execute_result"
    }
   ],
   "source": [
    "listings.dtypes"
   ],
   "metadata": {
    "collapsed": false
   }
  },
  {
   "cell_type": "code",
   "execution_count": 1347,
   "outputs": [
    {
     "data": {
      "text/plain": "listing_url                                        0\nscrape_id                                          0\nlast_scraped                                       0\nsource                                             0\nname                                               0\n                                                ... \ncalculated_host_listings_count                     0\ncalculated_host_listings_count_entire_homes        0\ncalculated_host_listings_count_private_rooms       0\ncalculated_host_listings_count_shared_rooms        0\nreviews_per_month                               1357\nLength: 74, dtype: int64"
     },
     "execution_count": 1347,
     "metadata": {},
     "output_type": "execute_result"
    }
   ],
   "source": [
    "# Check NULL\n",
    "listings.isna().sum()"
   ],
   "metadata": {
    "collapsed": false
   }
  },
  {
   "cell_type": "code",
   "execution_count": 1348,
   "outputs": [],
   "source": [
    "# Process host_id?\n"
   ],
   "metadata": {
    "collapsed": false
   }
  },
  {
   "cell_type": "code",
   "execution_count": 1349,
   "outputs": [
    {
     "data": {
      "text/plain": "within an hour        2628\nwithin a few hours     748\nwithin a day           465\na few days or more      91\nName: host_response_time, dtype: int64"
     },
     "execution_count": 1349,
     "metadata": {},
     "output_type": "execute_result"
    }
   ],
   "source": [
    "# Process host_response_time\n",
    "listings['host_response_time'].value_counts()"
   ],
   "metadata": {
    "collapsed": false
   }
  },
  {
   "cell_type": "code",
   "execution_count": 1350,
   "outputs": [
    {
     "data": {
      "text/plain": "unknown               3634\nwithin an hour        2628\nwithin a few hours     748\nwithin a day           465\na few days or more      91\nName: host_response_time, dtype: int64"
     },
     "execution_count": 1350,
     "metadata": {},
     "output_type": "execute_result"
    }
   ],
   "source": [
    "listings['host_response_time'].fillna('unknown', inplace=True)\n",
    "result['host_response_time'] = listings['host_response_time']\n",
    "listings['host_response_time'].value_counts()"
   ],
   "metadata": {
    "collapsed": false
   }
  },
  {
   "cell_type": "code",
   "execution_count": 1351,
   "outputs": [
    {
     "data": {
      "text/plain": "100%    2769\n90%      134\n99%      102\n98%       86\n85%       75\n86%       53\n80%       50\n92%       48\n93%       46\n82%       46\n96%       45\n0%        41\n75%       39\n50%       38\n97%       35\n91%       31\n70%       30\n95%       28\n79%       26\n83%       24\n89%       21\n94%       21\n67%       19\n33%       15\n88%       15\n60%       15\n20%       11\n84%        6\n43%        6\n40%        6\n73%        5\n57%        5\n78%        4\n71%        4\n63%        4\n87%        4\n64%        3\n58%        3\n14%        2\n74%        2\n10%        2\n55%        2\n25%        2\n38%        1\n47%        1\n81%        1\n44%        1\n17%        1\n76%        1\n11%        1\n42%        1\n65%        1\nName: host_response_rate, dtype: int64"
     },
     "execution_count": 1351,
     "metadata": {},
     "output_type": "execute_result"
    }
   ],
   "source": [
    "# Process host_response_rate\n",
    "listings['host_response_rate'].value_counts()"
   ],
   "metadata": {
    "collapsed": false
   }
  },
  {
   "cell_type": "code",
   "execution_count": 1352,
   "outputs": [
    {
     "data": {
      "text/plain": "100.0    2769\n90.0      134\n99.0      102\n98.0       86\n85.0       75\n86.0       53\n80.0       50\n92.0       48\n93.0       46\n82.0       46\n96.0       45\n0.0        41\n75.0       39\n50.0       38\n97.0       35\n91.0       31\n70.0       30\n95.0       28\n79.0       26\n83.0       24\n89.0       21\n94.0       21\n67.0       19\n33.0       15\n88.0       15\n60.0       15\n20.0       11\n84.0        6\n43.0        6\n40.0        6\n73.0        5\n57.0        5\n78.0        4\n71.0        4\n63.0        4\n87.0        4\n64.0        3\n58.0        3\n14.0        2\n74.0        2\n10.0        2\n55.0        2\n25.0        2\n38.0        1\n47.0        1\n81.0        1\n44.0        1\n17.0        1\n76.0        1\n11.0        1\n42.0        1\n65.0        1\nName: host_response_rate, dtype: int64"
     },
     "execution_count": 1352,
     "metadata": {},
     "output_type": "execute_result"
    }
   ],
   "source": [
    "listings['host_response_rate'] = listings['host_response_rate'].str[:-1].astype('float64')\n",
    "listings['host_response_rate'].value_counts()"
   ],
   "metadata": {
    "collapsed": false
   }
  },
  {
   "cell_type": "code",
   "execution_count": 1353,
   "outputs": [
    {
     "data": {
      "text/plain": "<Figure size 640x480 with 1 Axes>",
      "image/png": "[encoded data removed]"
     },
     "metadata": {},
     "output_type": "display_data"
    }
   ],
   "source": [
    "from matplotlib import pyplot as plt\n",
    "\n",
    "plt.hist(listings['host_response_rate'], bins=100)\n",
    "plt.show()"
   ],
   "metadata": {
    "collapsed": false
   }
  },
  {
   "cell_type": "code",
   "execution_count": 1354,
   "outputs": [
    {
     "data": {
      "text/plain": "unknown     3634\n98%-100%    2871\n80%-89%      379\n90%-97%      340\n0%-69%       211\n70%-79%      131\nName: host_response_rate, dtype: int64"
     },
     "execution_count": 1354,
     "metadata": {},
     "output_type": "execute_result"
    }
   ],
   "source": [
    "listings['host_response_rate'] = pd.cut(listings['host_response_rate'],\n",
    "                                        bins=[0, 70, 80, 90, 98, 100],\n",
    "                                        labels=['0%-69%', '70%-79%', '80%-89%', '90%-97%', '98%-100%'],\n",
    "                                        include_lowest=True)\n",
    "listings['host_response_rate'] = listings['host_response_rate'].astype('str')\n",
    "listings['host_response_rate'].replace('nan', 'unknown', inplace=True)\n",
    "result['host_response_rate'] = listings['host_response_rate']\n",
    "listings['host_response_rate'].value_counts()"
   ],
   "metadata": {
    "collapsed": false
   }
  },
  {
   "cell_type": "code",
   "execution_count": 1355,
   "outputs": [
    {
     "data": {
      "text/plain": "100%    1282\n99%      265\n98%      224\n96%      149\n97%      141\n        ... \n8%         1\n1%         1\n10%        1\n6%         1\n7%         1\nName: host_acceptance_rate, Length: 95, dtype: int64"
     },
     "execution_count": 1355,
     "metadata": {},
     "output_type": "execute_result"
    }
   ],
   "source": [
    "# Process host_acceptance_rate\n",
    "listings['host_acceptance_rate'].value_counts()"
   ],
   "metadata": {
    "collapsed": false
   }
  },
  {
   "cell_type": "code",
   "execution_count": 1356,
   "outputs": [
    {
     "data": {
      "text/plain": "<Figure size 640x480 with 1 Axes>",
      "image/png": "[encoded data removed]"
     },
     "metadata": {},
     "output_type": "display_data"
    }
   ],
   "source": [
    "listings['host_acceptance_rate'] = listings['host_acceptance_rate'].str[:-1].astype('float64')\n",
    "plt.hist(listings['host_acceptance_rate'], bins=100)\n",
    "plt.show()"
   ],
   "metadata": {
    "collapsed": false
   }
  },
  {
   "cell_type": "code",
   "execution_count": 1357,
   "outputs": [
    {
     "data": {
      "text/plain": "unknown     3375\n97%-100%    1771\n0%-69%       860\n90%-96%      714\n80%-89%      519\n70%-79%      327\nName: host_acceptance_rate, dtype: int64"
     },
     "execution_count": 1357,
     "metadata": {},
     "output_type": "execute_result"
    }
   ],
   "source": [
    "listings['host_acceptance_rate'] = pd.cut(listings['host_acceptance_rate'],\n",
    "                                          bins=[0, 70, 80, 90, 97, 100],\n",
    "                                          labels=['0%-69%', '70%-79%', '80%-89%', '90%-96%', '97%-100%'],\n",
    "                                          include_lowest=True)\n",
    "listings['host_acceptance_rate'] = listings['host_acceptance_rate'].astype('str')\n",
    "listings['host_acceptance_rate'].replace('nan', 'unknown', inplace=True)\n",
    "result['host_acceptance_rate'] = listings['host_acceptance_rate']\n",
    "listings['host_acceptance_rate'].value_counts()"
   ],
   "metadata": {
    "collapsed": false
   }
  },
  {
   "cell_type": "code",
   "execution_count": 1358,
   "outputs": [
    {
     "data": {
      "text/plain": "f    6589\nt     977\nName: host_is_superhost, dtype: int64"
     },
     "execution_count": 1358,
     "metadata": {},
     "output_type": "execute_result"
    }
   ],
   "source": [
    "# Process host_is_superhost\n",
    "result['host_is_superhost'] = listings['host_is_superhost']\n",
    "listings['host_is_superhost'].value_counts()"
   ],
   "metadata": {
    "collapsed": false
   }
  },
  {
   "cell_type": "code",
   "execution_count": 1359,
   "outputs": [
    {
     "data": {
      "text/plain": "1     4527\n2     1138\n3      480\n5      225\n4      208\n6      108\n8       96\n9       90\n7       77\n10      70\n66      66\n12      60\n55      55\n48      48\n11      44\n42      42\n38      38\n31      31\n15      30\n14      28\n13      26\n23      23\n20      20\n19      19\n17      17\nName: calculated_host_listings_count, dtype: int64"
     },
     "execution_count": 1359,
     "metadata": {},
     "output_type": "execute_result"
    }
   ],
   "source": [
    "# Process host_listings_count, use calculated_host_listings_count because it's more accurate\n",
    "listings['calculated_host_listings_count'].value_counts(dropna=False)"
   ],
   "metadata": {
    "collapsed": false
   }
  },
  {
   "cell_type": "code",
   "execution_count": 1360,
   "outputs": [
    {
     "data": {
      "text/plain": "(array([4527., 1138.,  480.,  208.,  225.,  108.,   77.,   96.,   90.,\n          70.,   44.,   60.,   26.,    0.,   28.,   30.,    0.,   17.,\n           0.,   19.,   20.,    0.,    0.,   23.,    0.,    0.,    0.,\n           0.,    0.,    0.,    0.,    0.,   31.,    0.,    0.,    0.,\n           0.,    0.,    0.,   38.,    0.,    0.,    0.,    0.,   42.,\n           0.,    0.,    0.,    0.,    0.,   48.,    0.,    0.,    0.,\n           0.,    0.,    0.,    0.,   55.,    0.,    0.,    0.,    0.,\n           0.,    0.,    0.,    0.,    0.,    0.,   66.]),\n array([ 1.        ,  1.92857143,  2.85714286,  3.78571429,  4.71428571,\n         5.64285714,  6.57142857,  7.5       ,  8.42857143,  9.35714286,\n        10.28571429, 11.21428571, 12.14285714, 13.07142857, 14.        ,\n        14.92857143, 15.85714286, 16.78571429, 17.71428571, 18.64285714,\n        19.57142857, 20.5       , 21.42857143, 22.35714286, 23.28571429,\n        24.21428571, 25.14285714, 26.07142857, 27.        , 27.92857143,\n        28.85714286, 29.78571429, 30.71428571, 31.64285714, 32.57142857,\n        33.5       , 34.42857143, 35.35714286, 36.28571429, 37.21428571,\n        38.14285714, 39.07142857, 40.        , 40.92857143, 41.85714286,\n        42.78571429, 43.71428571, 44.64285714, 45.57142857, 46.5       ,\n        47.42857143, 48.35714286, 49.28571429, 50.21428571, 51.14285714,\n        52.07142857, 53.        , 53.92857143, 54.85714286, 55.78571429,\n        56.71428571, 57.64285714, 58.57142857, 59.5       , 60.42857143,\n        61.35714286, 62.28571429, 63.21428571, 64.14285714, 65.07142857,\n        66.        ]),\n <BarContainer object of 70 artists>)"
     },
     "execution_count": 1360,
     "metadata": {},
     "output_type": "execute_result"
    },
    {
     "data": {
      "text/plain": "<Figure size 640x480 with 1 Axes>",
      "image/png": "[encoded data removed]"
     },
     "metadata": {},
     "output_type": "display_data"
    }
   ],
   "source": [
    "plt.hist(listings['calculated_host_listings_count'], bins=70)"
   ],
   "metadata": {
    "collapsed": false
   }
  },
  {
   "cell_type": "code",
   "execution_count": 1361,
   "outputs": [
    {
     "data": {
      "text/plain": "1        5665\n2-4       913\n5-9       441\n>29       280\n10-29     267\nName: calculated_host_listings_count, dtype: int64"
     },
     "execution_count": 1361,
     "metadata": {},
     "output_type": "execute_result"
    }
   ],
   "source": [
    "listings['calculated_host_listings_count'] = pd.cut(listings['calculated_host_listings_count'],\n",
    "                                                    bins=[1, 2, 5, 10, 30, 100],\n",
    "                                                    labels=['1', '2-4', '5-9', '10-29', '>29'],\n",
    "                                                    include_lowest=True)\n",
    "listings['calculated_host_listings_count'] = listings['calculated_host_listings_count'].astype('str')\n",
    "result['calculated_host_listings_count'] = listings['calculated_host_listings_count']\n",
    "listings['calculated_host_listings_count'].value_counts(dropna=False)"
   ],
   "metadata": {
    "collapsed": false
   }
  },
  {
   "cell_type": "code",
   "execution_count": 1362,
   "outputs": [
    {
     "data": {
      "text/plain": "t    5629\nf    1937\nName: host_identity_verified, dtype: int64"
     },
     "execution_count": 1362,
     "metadata": {},
     "output_type": "execute_result"
    }
   ],
   "source": [
    "# Process host_identity_verified\n",
    "result['host_identity_verified'] = listings['host_identity_verified']\n",
    "listings['host_identity_verified'].value_counts(dropna=False)"
   ],
   "metadata": {
    "collapsed": false
   }
  },
  {
   "cell_type": "code",
   "execution_count": 1363,
   "outputs": [
    {
     "data": {
      "text/plain": "Dublin City              5566\nDn Laoghaire-Rathdown     905\nFingal                    757\nSouth Dublin              338\nName: neighbourhood_cleansed, dtype: int64"
     },
     "execution_count": 1363,
     "metadata": {},
     "output_type": "execute_result"
    }
   ],
   "source": [
    "# Process neighbourhood_cleansed\n",
    "result['neighbourhood_cleansed'] = listings['neighbourhood_cleansed']\n",
    "listings['neighbourhood_cleansed'].value_counts(dropna=False)"
   ],
   "metadata": {
    "collapsed": false
   }
  },
  {
   "cell_type": "code",
   "execution_count": 1364,
   "outputs": [
    {
     "data": {
      "text/plain": "Entire rental unit                   1518\nPrivate room in home                 1457\nPrivate room in rental unit          1161\nEntire home                          1080\nEntire condo                          551\n                                     ... \nTipi                                    1\nPrivate room in floor                   1\nShared room in loft                     1\nCastle                                  1\nShared room in serviced apartment       1\nName: property_type, Length: 63, dtype: int64"
     },
     "execution_count": 1364,
     "metadata": {},
     "output_type": "execute_result"
    }
   ],
   "source": [
    "# Process property_type\n",
    "listings['property_type'].value_counts(dropna=False)"
   ],
   "metadata": {
    "collapsed": false
   }
  },
  {
   "cell_type": "code",
   "execution_count": 1365,
   "outputs": [
    {
     "data": {
      "text/plain": "Entire rental unit                   1518\nPrivate room in home                 1457\nPrivate room in rental unit          1161\nEntire home                          1080\nEntire condo                          551\nothers                                458\nPrivate room in condo                 341\nPrivate room in townhouse             256\nEntire townhouse                      248\nPrivate room in bed and breakfast     106\nEntire serviced apartment              91\nShared room in rental unit             86\nEntire cottage                         57\nShared room in home                    55\nEntire guest suite                     54\nEntire guesthouse                      47\nName: property_type, dtype: int64"
     },
     "execution_count": 1365,
     "metadata": {},
     "output_type": "execute_result"
    }
   ],
   "source": [
    "for i, v in listings['property_type'].value_counts(dropna=False).items():\n",
    "    if v < 40:\n",
    "        listings['property_type'].replace(i, 'others', inplace=True)\n",
    "result['property_type'] = listings['property_type']\n",
    "listings['property_type'].value_counts(dropna=False)"
   ],
   "metadata": {
    "collapsed": false
   }
  },
  {
   "cell_type": "code",
   "execution_count": 1366,
   "outputs": [
    {
     "name": "stderr",
     "output_type": "stream",
     "text": [
      "/Users/eytins/.conda/envs/ml/lib/python3.10/site-packages/IPython/core/displayhook.py:275: UserWarning: Output cache limit (currently 1000 entries) hit.\n",
      "Flushing oldest 200 entries.\n",
      "  warn('Output cache limit (currently {sz} entries) hit.\\n'\n"
     ]
    },
    {
     "data": {
      "text/plain": "Entire home/apt    3786\nPrivate room       3563\nShared room         175\nHotel room           42\nName: room_type, dtype: int64"
     },
     "execution_count": 1366,
     "metadata": {},
     "output_type": "execute_result"
    }
   ],
   "source": [
    "# Process room_type\n",
    "result['room_type'] = listings['room_type']\n",
    "listings['room_type'].value_counts(dropna=False)"
   ],
   "metadata": {
    "collapsed": false
   }
  },
  {
   "cell_type": "code",
   "execution_count": 1367,
   "outputs": [
    {
     "data": {
      "text/plain": "2     3579\n4     1354\n1      979\n6      517\n3      417\n5      359\n7      134\n8      132\n10      32\n9       25\n12      10\n11       8\n16       7\n15       5\n14       5\n13       3\nName: accommodates, dtype: int64"
     },
     "execution_count": 1367,
     "metadata": {},
     "output_type": "execute_result"
    }
   ],
   "source": [
    "# Process accommodates\n",
    "listings['accommodates'].value_counts(dropna=False)"
   ],
   "metadata": {
    "collapsed": false
   }
  },
  {
   "cell_type": "code",
   "execution_count": 1368,
   "outputs": [
    {
     "data": {
      "text/plain": "(array([9.790e+02, 3.579e+03, 4.170e+02, 1.354e+03, 3.590e+02, 5.170e+02,\n        1.340e+02, 1.320e+02, 2.500e+01, 3.200e+01, 8.000e+00, 1.000e+01,\n        3.000e+00, 5.000e+00, 5.000e+00, 7.000e+00]),\n array([ 1.    ,  1.9375,  2.875 ,  3.8125,  4.75  ,  5.6875,  6.625 ,\n         7.5625,  8.5   ,  9.4375, 10.375 , 11.3125, 12.25  , 13.1875,\n        14.125 , 15.0625, 16.    ]),\n <BarContainer object of 16 artists>)"
     },
     "execution_count": 1368,
     "metadata": {},
     "output_type": "execute_result"
    },
    {
     "data": {
      "text/plain": "<Figure size 640x480 with 1 Axes>",
      "image/png": "[encoded data removed]"
     },
     "metadata": {},
     "output_type": "display_data"
    }
   ],
   "source": [
    "plt.hist(listings['accommodates'], bins=16)"
   ],
   "metadata": {
    "collapsed": false
   }
  },
  {
   "cell_type": "code",
   "execution_count": 1369,
   "outputs": [
    {
     "data": {
      "text/plain": "2     3579\n4     1354\n1      979\n>5     878\n3      417\n5      359\nName: accommodates, dtype: int64"
     },
     "execution_count": 1369,
     "metadata": {},
     "output_type": "execute_result"
    }
   ],
   "source": [
    "listings['accommodates'] = pd.cut(listings['accommodates'],\n",
    "                                  bins=[0, 1, 2, 3, 4, 5, 20],\n",
    "                                  labels=['1', '2', '3', '4', '5', '>5'],\n",
    "                                  include_lowest=True)\n",
    "listings['accommodates'] = listings['accommodates'].astype('str')\n",
    "result['accommodates'] = listings['accommodates']\n",
    "listings['accommodates'].value_counts(dropna=False)"
   ],
   "metadata": {
    "collapsed": false
   }
  },
  {
   "cell_type": "code",
   "execution_count": 1370,
   "outputs": [
    {
     "data": {
      "text/plain": "1 bath               2581\n1 shared bath        1495\n1 private bath        978\n2 baths               851\n1.5 baths             569\n1.5 shared baths      307\n2.5 baths             275\n3 baths               145\n2 shared baths        121\n3.5 baths              58\n4 baths                37\n2.5 shared baths       31\n0 shared baths         19\n0 baths                18\n3 shared baths         16\n4.5 baths              14\nShared half-bath       10\nHalf-bath               8\n5 baths                 7\nNaN                     4\n3.5 shared baths        4\nPrivate half-bath       4\n5.5 baths               3\n4 shared baths          2\n6 baths                 2\n9.5 baths               1\n7.5 baths               1\n8.5 baths               1\n6 shared baths          1\n8 baths                 1\n7 baths                 1\n6.5 baths               1\nName: bathrooms_text, dtype: int64"
     },
     "execution_count": 1370,
     "metadata": {},
     "output_type": "execute_result"
    }
   ],
   "source": [
    "# Process bathrooms_text\n",
    "listings['bathrooms_text'].value_counts(dropna=False)"
   ],
   "metadata": {
    "collapsed": false
   }
  },
  {
   "cell_type": "code",
   "execution_count": 1371,
   "outputs": [
    {
     "data": {
      "text/plain": "1 bath              2581\n1 shared bath       1495\n1 private bath       978\n2 baths              851\n1.5 baths            569\n1.5 shared baths     307\n2.5 baths            275\nothers               244\n3 baths              145\n2 shared baths       121\nName: bathrooms_text, dtype: int64"
     },
     "execution_count": 1371,
     "metadata": {},
     "output_type": "execute_result"
    }
   ],
   "source": [
    "for i, v in listings['bathrooms_text'].value_counts(dropna=False).items():\n",
    "    if v < 100:\n",
    "        listings['bathrooms_text'].replace(i, 'others', inplace=True)\n",
    "result['bathrooms_text'] = listings['bathrooms_text']\n",
    "listings['bathrooms_text'].value_counts(dropna=False)"
   ],
   "metadata": {
    "collapsed": false
   }
  },
  {
   "cell_type": "code",
   "execution_count": 1372,
   "outputs": [
    {
     "data": {
      "text/plain": "1.0     4968\n2.0     1441\n3.0      573\n4.0      285\nNaN      205\n5.0       72\n6.0       14\n7.0        5\n9.0        1\n13.0       1\n8.0        1\nName: bedrooms, dtype: int64"
     },
     "execution_count": 1372,
     "metadata": {},
     "output_type": "execute_result"
    }
   ],
   "source": [
    "# Process bedrooms\n",
    "listings['bedrooms'].value_counts(dropna=False)"
   ],
   "metadata": {
    "collapsed": false
   }
  },
  {
   "cell_type": "code",
   "execution_count": 1373,
   "outputs": [
    {
     "data": {
      "text/plain": "1          4968\n2          1441\n3           573\n4           285\nunknown     205\n5            72\n>5           22\nName: bedrooms, dtype: int64"
     },
     "execution_count": 1373,
     "metadata": {},
     "output_type": "execute_result"
    }
   ],
   "source": [
    "listings['bedrooms'] = pd.cut(listings['bedrooms'],\n",
    "                              bins=[0, 1, 2, 3, 4, 5, 14],\n",
    "                              labels=['1', '2', '3', '4', '5', '>5'],\n",
    "                              include_lowest=True)\n",
    "listings['bedrooms'] = listings['bedrooms'].astype('str')\n",
    "listings['bedrooms'].replace('nan', 'unknown', inplace=True)\n",
    "result['bedrooms'] = listings['bedrooms']\n",
    "listings['bedrooms'].value_counts(dropna=False)"
   ],
   "metadata": {
    "collapsed": false
   }
  },
  {
   "cell_type": "code",
   "execution_count": 1374,
   "outputs": [
    {
     "data": {
      "text/plain": "1.0     4268\n2.0     1669\n3.0      785\n4.0      404\n5.0      184\nNaN       94\n6.0       85\n7.0       35\n8.0       12\n9.0        9\n10.0       7\n12.0       6\n13.0       2\n15.0       2\n18.0       2\n14.0       1\n16.0       1\nName: beds, dtype: int64"
     },
     "execution_count": 1374,
     "metadata": {},
     "output_type": "execute_result"
    }
   ],
   "source": [
    "# Process beds\n",
    "listings['beds'].value_counts(dropna=False)"
   ],
   "metadata": {
    "collapsed": false
   }
  },
  {
   "cell_type": "code",
   "execution_count": 1375,
   "outputs": [
    {
     "data": {
      "text/plain": "1          4268\n2          1669\n3           785\n4           404\n5           184\nunknown      94\n6            85\n>6           77\nName: beds, dtype: int64"
     },
     "execution_count": 1375,
     "metadata": {},
     "output_type": "execute_result"
    }
   ],
   "source": [
    "listings['beds'] = pd.cut(listings['beds'],\n",
    "                          bins=[0, 1, 2, 3, 4, 5, 6, 20],\n",
    "                          labels=['1', '2', '3', '4', '5', '6', '>6'],\n",
    "                          include_lowest=True)\n",
    "listings['beds'] = listings['beds'].astype('str')\n",
    "listings['beds'].replace('nan', 'unknown', inplace=True)\n",
    "result['beds'] = listings['beds']\n",
    "listings['beds'].value_counts(dropna=False)"
   ],
   "metadata": {
    "collapsed": false
   }
  },
  {
   "cell_type": "code",
   "execution_count": 1376,
   "outputs": [
    {
     "data": {
      "text/plain": "array(['[\"Oven\", \"Hot water kettle\", \"Fire extinguisher\", \"Outdoor furniture\", \"Dining table\", \"Hangers\", \"Indoor fireplace\", \"Long term stays allowed\", \"Carbon monoxide alarm\", \"Cooking basics\", \"Breakfast\", \"Microwave\", \"Shared patio or balcony\", \"Paid washer \\\\u2013 In unit\", \"Private fenced garden or backyard\", \"Free driveway parking on premises\", \"Central heating\", \"Mini fridge\", \"Clothing storage: closet\", \"Ethernet connection\", \"Dishes and silverware\", \"First aid kit\", \"Paid dryer \\\\u2013 In unit\", \"Cleaning products\", \"Hot water\", \"Shower gel\", \"Lock on bedroom door\", \"Hair dryer\", \"Single level home\", \"Iron\", \"Dishwasher\", \"Freezer\", \"Air conditioning\", \"Free street parking\", \"Bathtub\", \"Shampoo\", \"Coffee maker\", \"Essentials\", \"Refrigerator\", \"Conditioner\", \"Body soap\", \"Bed linens\", \"Toaster\", \"Wifi\", \"Lockbox\", \"Smoke alarm\", \"Room-darkening shades\", \"Outdoor dining area\", \"Wine glasses\", \"Extra pillows and blankets\"]',\n       '[\"Oven\", \"Fire extinguisher\", \"Dryer\", \"Hangers\", \"Indoor fireplace\", \"Carbon monoxide alarm\", \"Kitchen\", \"Cooking basics\", \"Breakfast\", \"Microwave\", \"Shared patio or balcony\", \"Private fenced garden or backyard\", \"Ethernet connection\", \"Heating\", \"Washer\", \"Dishes and silverware\", \"First aid kit\", \"Hot water\", \"Free parking on premises\", \"Lock on bedroom door\", \"Hair dryer\", \"Single level home\", \"Iron\", \"Dishwasher\", \"Free street parking\", \"Shampoo\", \"Luggage dropoff allowed\", \"Coffee maker\", \"Essentials\", \"Refrigerator\", \"Bed linens\", \"Lockbox\", \"Wifi\", \"Smoke alarm\", \"Extra pillows and blankets\"]'],\n      dtype=object)"
     },
     "execution_count": 1376,
     "metadata": {},
     "output_type": "execute_result"
    }
   ],
   "source": [
    "# Process amenities\n",
    "result['amenities'] = listings['amenities']\n",
    "listings['amenities'].isna().sum()\n",
    "listings['amenities'][:2].values"
   ],
   "metadata": {
    "collapsed": false
   }
  },
  {
   "cell_type": "code",
   "execution_count": 1377,
   "outputs": [
    {
     "data": {
      "text/plain": "{'',\n '\"100\\\\\" HDTV with Amazon Prime Video\"',\n '\"Fast wifi \\\\u2013 93 Mbps\"',\n '\"General conditioner\"',\n '\"Game console: Nintendo Switch and PS4\"',\n '\"Zanussi oven\"',\n '\"Bathroom essentials\"',\n '\"Free washer \\\\u2013 In unit\"',\n '\"Cog\\\\u0113rie Paris  body soap\"',\n '\"TV with premium cable',\n '\"Rangemaster electric stove\"',\n '\"Private hot tub - available all year\"',\n '\"Mini oven oven\"',\n '\"Game console\"',\n '\"Various Brands shampoo\"',\n '\"Fast wifi \\\\u2013 77 Mbps\"',\n '\"Fast wifi \\\\u2013 411 Mbps\"',\n '\"32\\\\\" TV with premium cable',\n '\"Undercounter fridge with small freezer section. refrigerator\"',\n '\"52\\\\\" HDTV with premium cable\"',\n '\"Treseme shampoo\"',\n '\"Fast wifi \\\\u2013 65 Mbps\"',\n '\"Gas stove\"',\n '\"Fast wifi \\\\u2013 518 Mbps\"',\n '\"65\\\\\" HDTV with Chromecast',\n '\"Pantene body soap\"',\n '\"Various Brands conditioner\"',\n '\"Wifi \\\\u2013 23 Mbps\"',\n '\"Soapy body soap\"',\n '\"43\\\\\" HDTV with standard cable\"',\n '\"Electric stove\"',\n '\"64\\\\\" HDTV with Amazon Prime Video',\n '\"42\\\\\" TV with standard cable\"',\n '\"Lacanche  oven\"',\n '\"Candy refrigerator\"',\n '\"Built in wall sound system sound system with aux\"',\n '\"Rice maker\"',\n '\"Philips  sound system with Bluetooth and aux\"',\n '\"Fast wifi \\\\u2013 52 Mbps\"',\n '\"Fridge freezer refrigerator\"',\n '\"Nivea  body soap\"',\n '\"Head and shoulders  shampoo\"',\n '\"24\\\\\" HDTV with premium cable\"',\n '\"Game console: PS4\"',\n '\"TV with Netflix\"',\n '\"42\\\\\" HDTV with Roku',\n '\"Fast wifi \\\\u2013 251 Mbps\"',\n '\"Neff stove\"',\n '\"Sonas Bluetooth sound system\"',\n '\"Free driveway parking on premises \\\\u2013 20 spaces\"',\n '\"Unknown body soap\"',\n '\"Zannusi refrigerator\"',\n '\"Faith in Nature/ Dr PawPaw conditioner\"',\n '\"Siemens stainless steel stove\"',\n '\"TV with Amazon Prime Video',\n '\"Fast wifi \\\\u2013 447 Mbps\"',\n '\"Whirlpool  stainless steel oven\"',\n '\"Private hot tub - available all year',\n '\"Bathtub\"',\n '\"HDTV with premium cable',\n '\"26\\\\\" TV\"',\n '\"Fast wifi \\\\u2013 469 Mbps\"',\n '\"Wifi \\\\u2013 48 Mbps\"',\n '\"Refrigerator\"',\n '\"Pantene shampoo\"',\n '\"Wifi \\\\u2013 5 Mbps\"',\n '\"Panten conditioner\"',\n 'closet',\n '\"Free carport on premises \\\\u2013 1 space\"',\n '\"Google Bluetooth sound system\"',\n '\"Paid washer \\\\u2013 In unit\"',\n '\"Boat slip\"',\n '\"Google Nest + Record Player sound system\"',\n '\"Fast wifi \\\\u2013 267 Mbps\"',\n '\"30\\\\\" TV\"',\n '\"Mosquito net\"',\n '\"22\\\\\" TV with Chromecast\"',\n 'microwave and grill stainless steel oven\"',\n '\"Hotpoint refrigerator\"',\n '\"Head shoulders shampoo\"',\n '\"Fast wifi \\\\u2013 581 Mbps\"',\n '\"Fast wifi \\\\u2013 55 Mbps\"',\n '\"38\\\\\" HDTV with standard cable\"',\n '\"45\\\\\" TV with Apple TV',\n '\"Patio or balcony\"',\n '\"Neff stainless steel induction stove\"',\n '\"Carrick stainless steel gas stove\"',\n '\"52\\\\\" HDTV with Amazon Prime Video',\n '\"General body soap\"',\n '\"Zanussi stainless steel gas stove\"',\n '\"Paid parking lot on premises \\\\u2013 1 space\"',\n '\"Its a large size air fryer',\n '\"Head and Shoulders body soap\"',\n '\"Stainless steel stove\"',\n '\"Fast wifi \\\\u2013 435 Mbps\"',\n '\"Loreal conditioner\"',\n '\"43\\\\\" HDTV\"',\n '\"Paid standalone high chair - available upon request\"',\n '\"55\\\\\" TV\"',\n '\"Fast wifi \\\\u2013 176 Mbps\"',\n '\"Fast wifi \\\\u2013 84 Mbps\"',\n '\"Vegan shampoo\"',\n '\"TV with Apple TV\"',\n '\"Fast wifi \\\\u2013 79 Mbps\"',\n '\"Children\\\\u2019s books and toys for ages 5-10 years old and 10+ years old\"',\n '\"Private pool\"',\n '\"55\\\\\" HDTV with Amazon Prime Video\"',\n '\"Oven\"',\n '\"Fast wifi \\\\u2013 222 Mbps\"',\n '\"Tremmes shampoo\"',\n '\"Neutral  conditioner\"',\n '\"Wifi \\\\u2013 8 Mbps\"',\n '\"Bose  sound system\"',\n '\"TV with Netflix',\n '\"Belling electric stove\"',\n '\"Fast wifi \\\\u2013 88 Mbps\"',\n '\"Fast wifi \\\\u2013 262 Mbps\"',\n '\"Wifi \\\\u2013 14 Mbps\"',\n '\"32\\\\\" HDTV with premium cable',\n '\"Room-darkening shades\"',\n '\"Handmade Soap Company body soap\"',\n '\"Marks and spencer body soap\"',\n '\"Self check-in\"',\n 'and 5-10 years old\"',\n '\"Fast wifi \\\\u2013 282 Mbps\"',\n '\"Phillips Bluetooth sound system\"',\n '\"48\\\\\" HDTV with Apple TV',\n '\"Nef stainless steel gas stove\"',\n '\"Molton Brown conditioner\"',\n '\"There is a small undercounter Neff fridge with freezer drawer refrigerator\"',\n '\"Zanussi refrigerator\"',\n '\"Beachfront\"',\n '\"Fast wifi \\\\u2013 276 Mbps\"',\n '\"Stove\"',\n '\"Fast wifi \\\\u2013 367 Mbps\"',\n '\"Hot tub\"',\n '\"Tresemme conditioner\"',\n '\"40\\\\\" HDTV\"',\n '\"Wifi \\\\u2013 18 Mbps\"',\n '\"48\\\\\" HDTV with Amazon Prime Video',\n '\"Dryer\"',\n 'standard cable',\n '\"42\\\\\" TV with premium cable',\n '\"Fast wifi \\\\u2013 163 Mbps\"',\n '\"42\\\\\" HDTV with Chromecast',\n '\"Shared gym nearby\"',\n '\"Standalone high chair - available upon request\"',\n '\"Meta Portal Bluetooth sound system\"',\n '\"Shared pool\"',\n '\"Ikea refrigerator\"',\n '\"28\\\\\" TV\"',\n '\"Fast wifi \\\\u2013 50 Mbps\"',\n '\"Fast wifi \\\\u2013 291 Mbps\"',\n '\"Fast wifi \\\\u2013 246 Mbps\"',\n '\"Whirlpool oven\"',\n '\"Elseve shampoo\"',\n '\"42\\\\\" HDTV with Amazon Prime Video',\n '\"Clothing storage: wardrobe\"',\n '\"Miele refrigerator\"',\n '\"Fast wifi \\\\u2013 185 Mbps\"',\n '\"Fast wifi \\\\u2013 74 Mbps\"',\n '\"Fast wifi \\\\u2013 66 Mbps\"',\n '\"32\\\\\" HDTV with Netflix',\n '\"50\\\\\" HDTV with premium cable\"',\n '\"Ping pong table\"',\n '\"TV with Amazon Prime Video\"',\n '\"Pack \\\\u2019n play/Travel crib\"',\n '\"Faith in Nature body soap\"',\n '\"Fast wifi \\\\u2013 441 Mbps\"',\n '\"Children\\\\u2019s books and toys for ages 0-2 years old and 2-5 years old\"',\n '\"20\\\\\" TV with Chromecast\"',\n '\"# conditioner\"',\n '\"Fast wifi \\\\u2013 260 Mbps\"',\n '\"Samsung Bluetooth sound system\"',\n '\"Wifi \\\\u2013 21 Mbps\"',\n '\"Treseme - in green pump dispenser in shower caddy shampoo\"',\n '\"TV\"',\n '\"Fast wifi \\\\u2013 90 Mbps\"',\n '\"Range master  oven\"',\n '\"Zanussi  electric stove\"',\n '\"Wifi \\\\u2013 36 Mbps\"',\n '\"Clothing storage\"',\n '\"Neff stainless steel oven\"',\n '\"Mini fridge refrigerator\"',\n '\"Wifi \\\\u2013 10 Mbps\"',\n '\"60\\\\\" HDTV\"',\n '\"Wifi \\\\u2013 30 Mbps\"',\n '\"Private garden or backyard\"',\n '\"Standard shampoo\"',\n '\"Portable heater\"',\n '\"Paid parking garage on premises \\\\u2013 1 space\"',\n '\"Regular body soap\"',\n '\"2-ring mini hob electric stove\"',\n '\"36\\\\\" HDTV\"',\n '\"Nature shampoo\"',\n '\"Any shampoo\"',\n '\"Fast wifi \\\\u2013 510 Mbps\"',\n '\"Fast wifi \\\\u2013 192 Mbps\"',\n '\"Bedroom comforts\"',\n '\"50\\\\\" HDTV\"',\n '\"Belling oven\"',\n '\"Pets allowed\"',\n '\"Dove body wash  body soap\"',\n 'open specific hours\"',\n 'Roku',\n '\"TV with Roku\"',\n '\"Wifi \\\\u2013 38 Mbps\"',\n '\"38\\\\\" HDTV with Chromecast\"',\n '\"Wifi \\\\u2013 27 Mbps\"',\n '\"Wifi \\\\u2013 39 Mbps\"',\n '\"Sonos Bluetooth sound system\"',\n '\"Fast wifi \\\\u2013 71 Mbps\"',\n '\"Neff  oven\"',\n '\"43\\\\\" TV\"',\n '\"Oven oven\"',\n '\"Siemens induction stove\"',\n '\"42\\\\\" HDTV with Chromecast\"',\n '\"2-ring mini hob. electric stove\"',\n '\"Record player\"',\n '\"Google Home Mini Bluetooth sound system\"',\n '\"45\\\\\" HDTV with Netflix',\n '\"Carrick stainless steel oven\"',\n '\"85\\\\\" HDTV with Apple TV',\n '\"Wifi \\\\u2013 29 Mbps\"',\n '\"PowerPoint  refrigerator\"',\n '\"Wifi \\\\u2013 40 Mbps\"',\n '\"Marantz sound system with aux\"',\n '\"Fast wifi \\\\u2013 467 Mbps\"',\n '\"Handmade Soap Company  body soap\"',\n '\"55\\\\\" HDTV with \"',\n '\"Under-counter fridge with small freezer compartment refrigerator\"',\n '\"Fast wifi \\\\u2013 331 Mbps\"',\n '\"40\\\\\" HDTV with Chromecast\"',\n '\"Sonos sound system\"',\n '\"Alberto Balsam conditioner\"',\n '\"Hotpoin refrigerator\"',\n '\"L\\\\u2019Or\\\\u00e9al shampoo\"',\n '\"32\\\\\" TV with Netflix',\n '\"Fast wifi \\\\u2013 273 Mbps\"',\n '\"Cooking basics\"',\n '\"Samsung sound system with Bluetooth and aux\"',\n '\"Baking sheet\"',\n '\"Bosch electric stove\"',\n '\"Carbon monoxide alarm\"',\n '\"Conditioner conditioner\"',\n 'Amazon Prime Video',\n '\"Bosch oven\"',\n '\"Cien body soap\"',\n '\"Indoor fireplace\"',\n '\"Bosch Wifi Oven stainless steel oven\"',\n '\"Zanussi/Whirlpool Microwave oven combination  stainless steel oven\"',\n '\"Fast wifi \\\\u2013 245 Mbps\"',\n '\"Bed linens\"',\n '\"Fast wifi \\\\u2013 143 Mbps\"',\n '\"Oven stainless steel oven\"',\n '\"HDTV with standard cable',\n 'wardrobe',\n '\"Induction stove\"',\n '\"Google Home Bluetooth sound system\"',\n '\"Building staff\"',\n '\"Fast wifi \\\\u2013 234 Mbps\"',\n '\"Fast wifi \\\\u2013 118 Mbps\"',\n '\"Elseve conditioner\"',\n '\"Whirlpool stainless steel oven\"',\n '\"HDTV with Netflix',\n '\"Washer \\\\u2013\\\\u00a0In unit\"',\n '\"43\\\\\" HDTV with Netflix\"',\n '\"HDTV with Chromecast\"',\n '\"Fast wifi \\\\u2013 70 Mbps\"',\n '\"65\\\\\" HDTV with Netflix',\n '\"Fast wifi \\\\u2013 541 Mbps\"',\n '\"Fast wifi \\\\u2013 184 Mbps\"',\n '\"Normal shampoo\"',\n 'walk-in closet',\n '\"Gaggenau stainless steel oven\"',\n '\"Normende stainless steel oven\"',\n '\"Sharp American style  refrigerator\"',\n '\"Liebherr refrigerator\"',\n '\"TV with standard cable',\n '\"Full kitchen\"',\n '\"Fast wifi \\\\u2013 221 Mbps\"',\n '\"29\\\\\" HDTV with Apple TV\"',\n '\"50\\\\\" HDTV with Chromecast\"',\n '\"Fast wifi \\\\u2013 376 Mbps\"',\n '\"Miele oven\"',\n '\"Alexa Amazon Bluetooth sound system\"',\n '\"Fast wifi \\\\u2013 68 Mbps\"',\n '\"43\\\\\" HDTV with Netflix',\n '\"Clothing storage: walk-in closet\"',\n '\"Hair dryer\"',\n '\"Molton Brown  body soap\"',\n '\"Fast wifi \\\\u2013 430 Mbps\"',\n '\"N/a body soap\"',\n '\"Fast wifi \\\\u2013 353 Mbps\"',\n '\"26\\\\\" HDTV with premium cable',\n '\"Keurig coffee machine\"',\n '\"Wifi \\\\u2013 15 Mbps\"',\n '\"Palmolive shampoo\"',\n '\"Fast wifi \\\\u2013 277 Mbps\"',\n '\"Pioneer sound system with Bluetooth and aux\"',\n '\"Heating\"',\n '\"Sound system\"',\n '\"Table corner guards\"',\n '\"Gym nearby\"',\n 'standard cable\"',\n '\"Long term stays allowed\"]',\n '\"Double fridge with large bottle storage unit  refrigerator\"',\n '\"Bidet\"',\n '\"Beko stainless steel oven\"',\n '\"Liquid body soap\"',\n '\"Love body soap\"',\n '\"Kind Natured shampoo\"',\n '\"Washer\"',\n '\"Google Nest Bluetooth sound system\"',\n '\"36\\\\\" TV with Netflix',\n '\"350\\\\\" HDTV with Netflix\"',\n '\"Pool\"',\n '\"Generic  body soap\"',\n '\"32\\\\\" TV with Apple TV\"',\n '\"Ikea induction stove\"',\n '\"Beko  refrigerator\"',\n '\"Fast wifi \\\\u2013 382 Mbps\"',\n '\"Fast wifi \\\\u2013 62 Mbps\"',\n '\"Safe\"',\n '\"48\\\\\" HDTV with standard cable',\n '\"Breakfast\"',\n '\"Dishes and silverware\"',\n '\"Fast wifi \\\\u2013 522 Mbps\"',\n '\"Hoover refrigerator\"',\n '\"Wifi \\\\u2013 20 Mbps\"',\n '\"Game console: PS5\"',\n '\"HDTV with premium cable\"',\n '\"42\\\\\" HDTV\"',\n '\"Fast wifi \\\\u2013 124 Mbps\"',\n '\"Deko refrigerator\"',\n '\"Herbal Essences conditioner\"',\n '\". conditioner\"',\n '\"Cleaning products\"',\n '\"Wifi \\\\u2013 45 Mbps\"',\n '\"Fast wifi \\\\u2013 540 Mbps\"',\n '\"Sanex body soap\"',\n '\"Fast wifi \\\\u2013 242 Mbps\"',\n '\"54\\\\\" HDTV with Netflix',\n '\"Fast wifi \\\\u2013 452 Mbps\"',\n '\"Fast wifi \\\\u2013 227 Mbps\"',\n '\"L\\\\u2019Or\\\\u00e9al  shampoo\"',\n '\"Beach essentials\"',\n '\"Central heating\"',\n '\"Dove conditioner\"',\n '\"65\\\\\" TV\"',\n '\"Aesop and doTerra  body soap\"',\n '\"Indesit stainless steel oven\"',\n '\"Clothing storage: dresser and closet\"',\n '\"Children\\\\u2019s books and toys for ages 2-5 years old\"',\n '\"32\\\\\" TV with standard cable',\n '\"Fast wifi \\\\u2013 236 Mbps\"',\n '\"Suitable for events\"',\n '\"Private gym in building\"',\n '\"Children\\\\u2019s books and toys for ages 0-2 years old and 5-10 years old\"',\n '\"32\\\\\" HDTV\"',\n '\"It works refrigerator\"',\n '\"Simple body soap\"',\n '\"Belo refrigerator\"',\n '\"Radox body soap\"',\n '\"Neff refrigerator\"',\n '\"27\\\\\" HDTV\"',\n '\"Fast wifi \\\\u2013 444 Mbps\"',\n 'premium cable',\n '\"Neff Double Oven stainless steel oven\"',\n '\"Various brands body soap\"',\n '\"65\\\\\" HDTV with Netflix\"',\n '\"Children\\\\u2019s books and toys for ages 10+ years old\"',\n '\"Sonos 5.1 Dolby Atmos Wifi sound system\"',\n '\"30\\\\\" HDTV with standard cable\"',\n '\"- sound system with Bluetooth and aux\"',\n '\"Pocket wifi\"',\n '\"55\\\\\" HDTV with standard cable',\n '\"Clothing storage: closet and wardrobe\"',\n '\"120\\\\\" HDTV with Amazon Prime Video',\n '\"Fast wifi \\\\u2013 369 Mbps\"',\n '\"Liebherr full size fridge refrigerator\"',\n '\"Shared gym in building\"',\n '\"Kenwood stainless steel oven\"',\n '\"Under-counter fridge with small freezer section refrigerator\"',\n '\"Shampoo shampoo\"',\n '\"Elextrolux refrigerator\"',\n '\"TRESemmes conditioner\"',\n '\"Eco shampoo\"',\n 'Roku\"',\n 'DVD player\"',\n '\"Kenwood refrigerator\"',\n '\"Iron\"',\n '\"IKEA  stainless steel oven\"',\n '\"42\\\\\" HDTV with Apple TV',\n '\"Fast wifi \\\\u2013 73 Mbps\"',\n '\"45\\\\\" HDTV with Chromecast\"',\n '\"Sonas sound system\"',\n '\"42\\\\\" TV with Chromecast\"',\n '\"Smoke alarm\"',\n '\"Free street parking\"',\n '\"Hangers\"',\n '\"Zanussi stove\"',\n '\"Backyard\"',\n '\"Various body soap\"',\n '\"32\\\\\" TV with Chromecast\"',\n '\"Panten body soap\"',\n '\"EV charger\"',\n '\"55\\\\\" HDTV with Netflix\"',\n '\"Free driveway parking on premises\"',\n '\"Tresemme shampoo\"',\n '\"L\\'oreal conditioner\"',\n '\"Fast wifi \\\\u2013 487 Mbps\"',\n '\"Essentials\"',\n '\"Whirlpool  70/30 refrigerator\"',\n '\"It varies body soap\"',\n '\"Clothing storage: closet and walk-in closet\"',\n '\"Fast wifi \\\\u2013 233 Mbps\"',\n '\"Any  shampoo\"',\n '\"Palmolive body soap\"',\n '\"De Dietrich stainless steel oven\"',\n '\"American  fridge /Freezer  refrigerator\"',\n '\"Portable fans\"',\n '\"Under counter fridge with small freezer section. refrigerator\"',\n '\"TV with Roku',\n '\"Lock on bedroom door\"',\n 'Netflix\"',\n '\"Wifi \\\\u2013 47 Mbps\"',\n '\"Clothing storage: walk-in closet',\n 'four rings electric stove\"',\n '\"Kitchen\"',\n '\"Cable TV\"',\n '\"Security cameras on property\"',\n '\"AEG oven\"',\n '\"42\\\\\" HDTV with standard cable\"',\n '\"Neutral  body soap\"',\n '\"Dove shampoo\"',\n '\"40\\\\\" HDTV with standard cable',\n '\"Fast wifi \\\\u2013 223 Mbps\"',\n '\"Clothing storage: wardrobe',\n '\"Wifi \\\\u2013 3 Mbps\"',\n '\"Elvive conditioner\"',\n '\"Free carport on premises \\\\u2013 2 spaces\"',\n '\"PowerPoint refrigerator\"',\n '\"Fast wifi \\\\u2013 60 Mbps\"',\n '\"Dedicated workspace\"',\n '\"Free driveway parking on premises \\\\u2013 5 spaces\"',\n '\"Dr. Organic  conditioner\"',\n '\"38\\\\\" TV with standard cable\"',\n '\"R a d i o sound system\"',\n '\"Free washer \\\\u2013 In building\"',\n '\"Olaplex conditioner\"',\n '\"Shampoo\"',\n '\"Fast wifi \\\\u2013 275 Mbps\"',\n '\"Various  shampoo\"',\n '\"Kind Natured body soap\"',\n '\"Fast wifi \\\\u2013 64 Mbps\"',\n '\"Dryer \\\\u2013 In building\"',\n '\"Free driveway parking on premises \\\\u2013 1 space\"',\n '\"Free residential garage on premises \\\\u2013 1 space\"',\n '\"43\\\\\" TV with Netflix',\n '2-5 years old',\n '\"Pour-over coffee\"',\n '\"`Smeg refrigerator\"',\n '\"Thor stove\"',\n '\"Under counter fridge with small freezer compartment  refrigerator\"',\n '\"Fast wifi \\\\u2013 113 Mbps\"',\n '\"Stainless steel gas stove\"',\n '\"65\\\\\" HDTV with Amazon Prime Video',\n '\"Fast wifi \\\\u2013 196 Mbps\"',\n '\"Miele stainless steel oven\"',\n '\"Paid parking on premises \\\\u2013 2 spaces\"',\n '\"Hotpoit stainless steel oven\"',\n '\"Johnson johnson body soap\"',\n '\"Game console: Nintendo Wii\"',\n '\"TV with premium cable\"',\n '\"Wifi \\\\u2013 34 Mbps\"',\n '\"Paid parking lot on premises \\\\u2013 2 spaces\"',\n '\"Wifi\"',\n '\"32\\\\\" HDTV with Chromecast\"',\n '\"27\\\\\" TV with Netflix\"',\n '\"HDTV with Amazon Prime Video',\n '\"42\\\\\" TV\"',\n '\"Fast wifi \\\\u2013 582 Mbps\"',\n '\"48\\\\\" HDTV with Netflix',\n '\"42\\\\\" HDTV with premium cable\"',\n '\"Fast wifi \\\\u2013 249 Mbps\"',\n '\"Fast wifi \\\\u2013 54 Mbps\"',\n '\"Free driveway parking on premises \\\\u2013 4 spaces\"',\n '\"Parkinson Gas  gas stove\"',\n '\"Fast wifi \\\\u2013 259 Mbps\"',\n '\"Fast wifi \\\\u2013 170 Mbps\"',\n '\"50\\\\\" HDTV with premium cable',\n '\"HDTV with Apple TV\"',\n '\"Portable air conditioning\"',\n '\"HDTV with \"',\n '\"Free parking garage on premises \\\\u2013 2 spaces\"',\n '\"IKEA induction stove\"',\n '\"AEG refrigerator\"',\n '\"Lynx body soap\"',\n '\"Tresemme 2 in 1 shampoo\"',\n '\"Fast wifi \\\\u2013 114 Mbps\"',\n '\"HDTV with Apple TV',\n '\"Bluetooth sound system\"',\n '\"Kitchenette\"',\n '\"Nivea conditioner\"',\n '\"47\\\\\" HDTV with Chromecast',\n '\"Stainless steel electric stove\"',\n '\"Molton Brown body soap\"',\n '\"Dr. Organic  shampoo\"',\n '\"Private entrance\"',\n '\"38\\\\\" HDTV with Chromecast',\n 'and PS4\"',\n '\"Fast wifi \\\\u2013 398 Mbps\"',\n '\"La Rochelle conditioner\"',\n '\"Waterfront\"',\n '\"Fast wifi \\\\u2013 228 Mbps\"',\n '\"Harmon /kardon  Bluetooth sound system\"',\n '\"Alexa sound system\"',\n '\"30\\\\\" TV with premium cable\"',\n '\"Fast wifi \\\\u2013 668 Mbps\"',\n '\"Faith for Nature conditioner\"',\n '\"Fast wifi \\\\u2013 481 Mbps\"',\n '\"Neff induction stove\"',\n '\"Free driveway parking on premises \\\\u2013 6 spaces\"',\n '\"Wifi \\\\u2013 35 Mbps\"',\n '\"Free parking on premises \\\\u2013 2 spaces\"',\n '\"Fast wifi \\\\u2013 98 Mbps\"',\n '\"Lidl shampoo\"',\n '\"Herbal Essences shampoo\"',\n '\"Gym\"',\n '\"Fast wifi \\\\u2013 453 Mbps\"',\n '\"Fast wifi \\\\u2013 91 Mbps\"',\n '\"Fast wifi \\\\u2013 99 Mbps\"',\n '\"Aveena body soap\"',\n '\"Fast wifi \\\\u2013 148 Mbps\"',\n '\"Bora stove\"',\n '\"Uri refrigerator\"',\n '\"Fast wifi \\\\u2013 243 Mbps\"',\n '\"Unbranded refrigerator\"',\n '\"Bose sound system\"',\n '\"Bosch  oven\"',\n '\"Various  conditioner\"',\n 'dresser',\n 'Chromecast\"',\n '\"Fisher and Paykel refrigerator\"',\n '\"SAMSUNG refrigerator\"',\n '\"Paid dryer\"',\n '\"Game console: PS5 and Xbox Series X\"',\n '\"Sonos sound system with Bluetooth and aux\"',\n '\"AC - split type ductless system\"',\n '\"N/a shampoo\"',\n '\"Air conditioning\"',\n '\"Trash compactor\"',\n '\"Game console: Nintendo Wii and Xbox One\"',\n '\"Outdoor shower\"',\n '\"TRESemm\\\\u00e9 conditioner\"',\n 'and walk-in closet\"',\n '\"Beko electric stove\"',\n '\"Molten Brown body soap\"',\n '\"Wifi \\\\u2013 7 Mbps\"',\n '\"Fast wifi \\\\u2013 286 Mbps\"',\n '\"Shared hot tub\"',\n '\"Fast wifi \\\\u2013 252 Mbps\"',\n '\"Fast wifi \\\\u2013 59 Mbps\"',\n '\"Large capacity refrigerator\"',\n '\"Fast wifi \\\\u2013 198 Mbps\"',\n '\"Sonos  sound system\"',\n '\"IKEA SMAKSAK stainless steel oven\"',\n '\"Fast wifi \\\\u2013 620 Mbps\"',\n '\"Pack \\\\u2019n play/Travel crib - always at the listing\"',\n '\"Private hot tub\"',\n '\"Wifi \\\\u2013 6 Mbps\"',\n '\"Children\\\\u2019s books and toys for ages 2-5 years old and 5-10 years old\"',\n 'and 10+ years old\"',\n '\"Bluetooth speaker sound system\"',\n '\"70\\\\\" HDTV with Amazon Prime Video',\n '\"Pool table\"',\n '\"Fast wifi \\\\u2013 51 Mbps\"',\n '\"No sure conditioner\"',\n '\"Kind Natured conditioner\"',\n '\"Children\\\\u2019s books and toys for ages 2-5 years old',\n '\"HDTV with DVD player\"',\n '\"Standalone high chair - always at the listing\"',\n '\"Children\\\\u2019s books and toys\"',\n '\"Bose sound system with Bluetooth and aux\"',\n '\"DoTerra conditioner\"',\n '\"32\\\\\" HDTV with Chromecast',\n '\"Beko oven\"',\n '\"Shared hot tub - available all year',\n '\"? refrigerator\"',\n '\"NA shampoo\"',\n '\"Head and Shoulders  shampoo\"',\n '\"Varied conditioner\"',\n '\"Aussie conditioner\"',\n '\"Fast wifi \\\\u2013 529 Mbps\"',\n '\"32\\\\\" HDTV with standard cable',\n '\"39\\\\\" HDTV with Netflix\"',\n '\"Denon sound system\"',\n '\"Clothing storage: dresser and wardrobe\"',\n '\"Fast wifi \\\\u2013 144 Mbps\"',\n '\"55\\\\\" HDTV with Chromecast',\n '\"Aussie shampoo\"',\n '\"Siemens oven\"',\n '\"Window AC unit\"',\n '\"Free parking on premises \\\\u2013 1 space\"',\n '\"Fast wifi \\\\u2013 75 Mbps\"',\n '\"Body soap body soap\"',\n '\"Tresemme 2 in 1 conditioner\"',\n '\"Alexa Bluetooth sound system\"',\n '\"Elvive shampoo\"',\n '\"Whirlpool  refrigerator\"',\n '\"24\\\\\" HDTV\"',\n '\"Zanussi Microwaven and convection oven combination (see house manual for instructions) stainless steel oven\"',\n '\"Paid valet parking on premises\"',\n '\"70\\\\\" HDTV with Netflix\"',\n '\"HDTV with Amazon Prime Video\"',\n '\"AEG electric stove\"',\n '\"Paid parking on premises \\\\u2013 1 space\"',\n '\"Wifi \\\\u2013 32 Mbps\"',\n '\"40\\\\\" TV with Netflix',\n '\"Fast wifi \\\\u2013 458 Mbps\"',\n '\"Sound system with aux\"',\n '\"100\\\\\" HDTV with premium cable',\n '\"49\\\\\" HDTV with Netflix\"',\n '\"Paid washer \\\\u2013 In building\"',\n '\"Fast wifi \\\\u2013 488 Mbps\"',\n '\"41\\\\\" HDTV with standard cable',\n '\"22\\\\\" TV with standard cable\"',\n '\"Sonos Beam sound system\"',\n '\"Wifi \\\\u2013 12 Mbps\"',\n '\"Game console: Xbox One\"',\n '\"40\\\\\" HDTV with premium cable\"',\n '\"LG Bluetooth sound system\"',\n '\"Ethernet connection\"',\n '\"Pantene  conditioner\"',\n '\"Fast wifi \\\\u2013 632 Mbps\"',\n '\"Fast wifi \\\\u2013 232 Mbps\"',\n '\"Fast wifi \\\\u2013 271 Mbps\"',\n '\"Samsung  refrigerator\"',\n '\"Hotpoint oven\"',\n '\"Bellings stainless steel oven\"',\n '\"50\\\\\" TV with premium cable\"',\n '\"Electric built into counter four ring hob with electric oven underneath counter/worktop stainless steel electric stove\"',\n '\"58\\\\\" TV with Chromecast',\n '\"# stainless steel oven\"',\n '\"Fast wifi \\\\u2013 95 Mbps\"',\n '\"Fast wifi \\\\u2013 119 Mbps\"',\n '\"Electric Zanussi stove\"',\n '\"Free dryer \\\\u2013 In unit\"',\n '\"Palmolive  body soap\"',\n '\"Lockbox\"',\n '\"52\\\\\" HDTV\"',\n '\"Denon sound system with aux\"',\n '\"Powerpoint stainless steel oven\"',\n '\"Free parking garage on premises\"',\n '\"Thor  refrigerator\"',\n '\"Siemens  refrigerator\"',\n '\"# shampoo\"',\n '\"Body soap\"',\n '\"Fast wifi \\\\u2013 666 Mbps\"',\n '\"Ceiling fan\"',\n '\"55\\\\\" HDTV with Netflix',\n 'and closet\"',\n '\"Faith in Nature shampoo\"',\n '\"Neff stainless steel electric stove\"',\n '\"Zanussi  stainless steel oven\"',\n '\"TV with Apple TV',\n '\"Nordmende fridge freezer refrigerator\"',\n '\"Various shampoo\"',\n 'PS3',\n '\"NEFF refrigerator\"',\n '\"Monat conditioner\"',\n '\"48\\\\\" TV\"',\n '\"NEFF stainless steel oven\"',\n '\"26\\\\\" TV with Amazon Prime Video',\n '\"40\\\\\" HDTV with Netflix\"',\n '\"60\\\\\" HDTV with Amazon Prime Video',\n '\"75\\\\\" HDTV\"',\n '\"Fast wifi \\\\u2013 146 Mbps\"',\n '\"60\\\\\" HDTV with Netflix',\n '\"62\\\\\" HDTV with Netflix\"',\n '\"Panasonic oven\"',\n '\"Wifi \\\\u2013 25 Mbps\"',\n '\"Fast wifi \\\\u2013 157 Mbps\"',\n '\"BOSCH stainless steel oven\"',\n '\"Paid pack \\\\u2019n play/travel crib - available upon request\"',\n '\"Piano\"',\n '\"Fast wifi \\\\u2013 214 Mbps\"',\n '\"50\\\\\" HDTV with Netflix',\n '\"Vegan body soap\"',\n '\"Rituals body soap\"',\n '\"75\\\\\" HDTV with Chromecast',\n '\"Fisher and Paykel stainless steel oven\"',\n '\"Coffee maker\"',\n '\"It varies. conditioner\"',\n '\"Smeg refrigerator\"',\n '\"Electrolux refrigerator\"',\n '\"Fast wifi \\\\u2013 608 Mbps\"',\n '\"39\\\\\" TV with standard cable\"',\n '\"Treseme conditioner\"',\n '\"Single level home\"',\n '\"Folding or convertible high chair - available upon request\"',\n '\"Clothing storage: closet\"',\n '\"Sony Bluetooth sound system\"',\n '\"32\\\\\" HDTV with Netflix\"',\n '\"Faith in Nature conditioner\"',\n '\"52\\\\\" HDTV with Netflix',\n '\"Pantenne shampoo\"',\n '\"Bikes\"',\n '\"Paid parking on premises\"',\n '\"Tesco shampoo\"',\n '\"52\\\\\" HDTV with Chromecast',\n '\"Fast wifi \\\\u2013 280 Mbps\"',\n '\"Handmade Soap Company shampoo\"',\n '\"Fast wifi \\\\u2013 81 Mbps\"',\n '\"Neff oven\"',\n '\"49\\\\\" HDTV with Netflix',\n '\"Fast wifi \\\\u2013 92 Mbps\"',\n '\"Nordemende gas stove\"',\n '\"Wifi \\\\u2013 43 Mbps\"',\n 'Apple TV\"',\n '\"Fast wifi \\\\u2013 483 Mbps\"',\n '\"32\\\\\" TV with Netflix\"',\n '\"Neff electric stove\"',\n '\"JBL Bluetooth sound system\"',\n '\"Varies conditioner\"',\n '\"Bose Speaker  Bluetooth sound system\"',\n '\"IKEA induction hob electric stove\"',\n '\"38\\\\\" HDTV with standard cable',\n '\"Fast wifi \\\\u2013 473 Mbps\"',\n '\"L\\'Oreal Elvive shampoo\"',\n '\"Paid parking lot off premises\"',\n '\"Simens stainless steel oven\"',\n '\"50\\\\\" TV with Netflix\"',\n '\"Private sauna\"',\n '\"Small Electric Oven oven\"',\n '\"Fast wifi \\\\u2013 58 Mbps\"',\n '\"Fast wifi \\\\u2013 61 Mbps\"',\n '\"Fast wifi \\\\u2013 320 Mbps\"',\n '\"Zanussi stainless steel oven\"',\n '\"26\\\\\" TV with standard cable\"',\n '\"Tesco conditioner\"',\n '\"Samsung American Fridge refrigerator\"',\n 'open 24 hours\"',\n '\"Siemens stove\"',\n '\"General  shampoo\"',\n '\"Fast wifi \\\\u2013 256 Mbps\"',\n '\"Long term stays allowed\"',\n '\"Sound system with Bluetooth and aux\"',\n '\"Fast wifi \\\\u2013 82 Mbps\"',\n '\"First aid kit\"',\n '\"Paid parking on premises \\\\u2013 6 spaces\"',\n '\"Fire pit\"',\n '\"Aragan oil conditioner\"',\n '\"Washer \\\\u2013\\\\u00a0In building\"',\n '\"L\\'Or\\\\u00e9al  shampoo\"',\n '\"40\\\\\" HDTV with Chromecast',\n '\"43\\\\\" TV with Netflix\"',\n '\"38\\\\\" TV with premium cable',\n '\"Game console: Nintendo Switch and PS5\"',\n '\"Clothing storage: wardrobe and closet\"',\n '\"Varies body soap\"',\n '\"Wifi \\\\u2013 42 Mbps\"',\n '\"Paid street parking off premises\"',\n '\"Fast wifi \\\\u2013 265 Mbps\"',\n '\"Any brand conditioner\"',\n '\"Beats (upon request) Bluetooth sound system\"',\n '\"Fast wifi \\\\u2013 189 Mbps\"',\n '\"Nivea shampoo\"',\n 'Apple TV',\n '\"Siemens  stainless steel oven\"',\n '\"Fast wifi \\\\u2013 152 Mbps\"',\n '\"Sony sound system\"',\n '\"Sampoo shampoo\"',\n '\"L\\'Or\\\\u00e9al  conditioner\"',\n '\"Fast wifi \\\\u2013 528 Mbps\"',\n '\"HDTV with standard cable\"',\n '\"Toaster\"',\n '\"Paid parking off premises\"',\n '\"Paid parking garage off premises\"',\n '\"Paid parking lot on premises\"',\n '\"Shared patio or balcony\"',\n '\"32\\\\\" HDTV with Apple TV',\n '\"Samsung oven\"',\n '\"Molton brown body soap\"',\n '\"23\\\\\" HDTV with Chromecast\"',\n '\"50\\\\\" TV\"',\n '\"54\\\\\" HDTV with Netflix\"',\n '\"Amazon Alexa sound system\"',\n '\"49\\\\\" HDTV with Apple TV',\n '\"40\\\\\" HDTV with Netflix',\n '\"42\\\\\" TV with Netflix',\n '\"Free residential garage on premises\"',\n '\"Fast wifi \\\\u2013 57 Mbps\"',\n '\"Ecover Lavender  body soap\"',\n '\"Siemens gas stove\"',\n '\"Booster seat high chair\"',\n '\"Lynx shampoo\"',\n '\"Beko refrigerator\"',\n '\"Wifi \\\\u2013 19 Mbps\"',\n '\"Small under-counter fridge with small freezer section refrigerator\"',\n '\"Clothing storage: closet',\n '\"Pantene conditioner\"',\n '\"Shared indoor pool - \"',\n '\"Elevator\"',\n '\"Wifi \\\\u2013 17 Mbps\"',\n '\"Barbecue utensils\"',\n '\"55\\\\\" HDTV with Amazon Prime Video',\n '\"Ski-in/Ski-out\"',\n '\"Lidl body soap\"',\n '\"Fast wifi \\\\u2013 476 Mbps\"',\n '\"\\\\u2014- refrigerator\"',\n 'part of mini kitchen .  oven\"',\n '\"N/A shampoo\"',\n '\"Pack \\\\u2019n play/Travel crib - available upon request\"',\n '\"Bread maker\"',\n '\"40\\\\\" TV with \"',\n '\"Panten shampoo\"',\n '\"Soap body soap\"',\n '\"3-way conventional',\n '\"Fast wifi \\\\u2013 494 Mbps\"',\n '\"Hot water\"',\n '\"Marshall Bluetooth sound system\"',\n '\"Cleaning before checkout\"',\n '\"Shared fenced garden or backyard\"',\n '\"Varies depending on availability conditioner\"',\n '\"HDTV\"',\n '\"Standalone high chair\"',\n '\"40\\\\\" HDTV with Roku',\n '\"High chair - available upon request\"',\n '\"Free driveway parking on premises \\\\u2013 2 spaces\"',\n '\"75\\\\\" TV\"',\n '\"Fast wifi \\\\u2013 229 Mbps\"',\n '\"50\\\\\" HDTV with Netflix\"',\n '\"55\\\\\" HDTV\"',\n '\"Bosch stove\"',\n '\"22\\\\\" HDTV with Amazon Prime Video',\n '\"Cien conditioner\"',\n '\"Indesit  refrigerator\"',\n '\"Hotel shampoo\"',\n '\"TV with standard cable\"',\n '\"Wifi \\\\u2013 16 Mbps\"',\n '\"50\\\\\" HDTV with standard cable',\n '\"Fast wifi \\\\u2013 321 Mbps\"',\n '\"Sainsbury\\\\u2019s  body soap\"',\n 'DVD player',\n '\"Shower gel\"',\n '\"Crib - available upon request\"',\n '\"Kayak\"',\n '\"40\\\\\" TV with standard cable\"',\n '\"Belling stainless steel oven\"',\n '\"32\\\\\" HDTV with premium cable\"',\n '\"32\\\\\" TV\"',\n '\"Fast wifi \\\\u2013 241 Mbps\"',\n '\"Rangemaster oven\"',\n '\"Cien shower gel body soap\"',\n '\"42\\\\\" HDTV with Netflix',\n '\"Organic loveliness  body soap\"',\n '\"Fast wifi \\\\u2013 238 Mbps\"',\n '\"Body shop conditioner\"',\n '\"43\\\\\" HDTV with premium cable\"',\n '\"Trilogy body wash  body soap\"',\n '\"Fast wifi \\\\u2013 208 Mbps\"',\n '\"Board games\"',\n '\"Fast wifi \\\\u2013 484 Mbps\"',\n '\"# body soap\"',\n '\"Crib - always at the listing\"',\n '\"- conditioner\"',\n '\"Voya / Aesop body soap\"',\n '\"Thor refrigerator\"',\n '\"55\\\\\" HDTV with premium cable\"',\n '\"Lake access\"',\n '\"Fast wifi \\\\u2013 102 Mbps\"',\n '\"Fast wifi \\\\u2013 295 Mbps\"',\n '\"Folding or convertible high chair - always at the listing\"',\n '\"Fast wifi \\\\u2013 207 Mbps\"',\n '\"Imperial Leather body soap\"',\n '\"Wifi \\\\u2013 11 Mbps\"',\n '\"Zanuzzi stainless steel oven\"',\n '\"Fast wifi \\\\u2013 358 Mbps\"',\n '\"Fast wifi \\\\u2013 239 Mbps\"',\n '\"Clothing storage: closet and dresser\"',\n '\"Indesit refrigerator\"',\n '\"Siemens stainless steel oven\"',\n '\"Fast wifi \\\\u2013 389 Mbps\"',\n '\"54\\\\\" TV with Netflix',\n '\"Dove  body soap\"',\n '\"Game console: Xbox 360\"',\n '\"B&W Bluetooth sound system\"',\n '\"Samsung stainless steel oven\"',\n '\"TV with \"',\n '\"Private patio or balcony\"',\n '\"Undercounter Fridge refrigerator\"',\n '\"Stainless steel oven\"',\n '\"Oven is available in the shared Kitchen oven\"',\n '\"La Rochelle shampoo\"',\n '\"Children\\\\u2019s books and toys for ages 0-2 years old',\n '\"Fast wifi \\\\u2013 368 Mbps\"',\n '\"70\\\\\" HDTV with Apple TV\"',\n '\"Toni & Guy shampoo\"',\n '\"Game console: PS3\"',\n '\"Fenced garden or backyard\"',\n 'Chromecast',\n '\"Mini Fridge refrigerator\"',\n '\"43\\\\\" HDTV with Amazon Prime Video',\n '\"High chair - always at the listing\"',\n '\"HDTV with Netflix\"',\n '\"Smeg oven\"',\n '\"42\\\\\" HDTV with premium cable',\n '\"Fast wifi \\\\u2013 240 Mbps\"',\n '\"Fast wifi \\\\u2013 69 Mbps\"',\n '\"Zanussi  refrigerator\"',\n '\"SMEG stainless steel oven\"',\n '\"Freezer\"',\n '\"Wifi \\\\u2013 28 Mbps\"',\n '\"Clothing storage: wardrobe and dresser\"',\n '\"Fast wifi \\\\u2013 520 Mbps\"',\n '\"Undecided shampoo\"',\n '\"Hot water kettle\"',\n '\"HDTV with Chromecast',\n '\"Olaplex shampoo\"',\n '\"Mini fridge\"',\n '\"32\\\\\" HDTV with Amazon Prime Video',\n '\"55\\\\\" HDTV with standard cable\"',\n '\"Children\\\\u2019s books and toys for ages 5-10 years old\"',\n '\"Fast wifi \\\\u2013 248 Mbps\"',\n '\"Dishwasher\"',\n '\"Shared sauna\"',\n '\"Bosch refrigerator\"',\n '\"Fast wifi \\\\u2013 53 Mbps\"',\n '\"40\\\\\" TV with Amazon Prime Video',\n '\"Conditioner\"',\n '\"L\\'Oreal Elvive conditioner\"',\n '\"Lidl conditioner\"',\n '\"Samsung refrigerator\"',\n '\"Standard conditioner\"',\n '\"Clamp on table seat high chair - always at the listing\"',\n 'and dresser\"',\n '\"TV with Chromecast\"',\n '\"Boche oven\"',\n '\"Microwave\"',\n '\"Fridge/freezer refrigerator\"',\n '\"Fast wifi \\\\u2013 479 Mbps\"',\n '\"Game console: Nintendo Wii',\n '\"Free driveway parking on premises \\\\u2013 3 spaces\"',\n '\"All kinds  shampoo\"',\n '\"Ted Baker body soap\"',\n '\"Shared pool - available all year',\n '\"A range of different brands conditioner\"',\n '\"45\\\\\" HDTV with Amazon Prime Video',\n '\"Free carport on premises\"',\n '\"Johnson&Johnson body soap\"',\n '\"Various conditioner\"',\n '\"Nivea body soap\"',\n '\"32\\\\\" HDTV with standard cable\"',\n '\"Google Nest Mini Bluetooth sound system\"',\n '\"Apple HomePod Stereo pair + Bose Bluetooth sound system\"',\n 'Amazon Prime Video\"',\n '\"DoTerra shampoo\"',\n '\"Extra pillows and blankets\"',\n '\"Miele  refrigerator\"',\n '\"Pears body soap\"',\n '\"Bosch stainless steel oven\"',\n '\"- body soap\"',\n '\"Air fryer oven oven\"',\n '\"20\\\\\" TV with standard cable\"',\n '\"N/a conditioner\"',\n '\"Central air conditioning\"',\n '\"60\\\\\" HDTV with Netflix\"',\n '\"Baby bath\"',\n '\"40\\\\\" TV with Netflix\"',\n '\"40\\\\\" HDTV with premium cable',\n '\"Fast wifi \\\\u2013 326 Mbps\"',\n '\"Vegan conditioner\"',\n '\"21\\\\\" TV with Chromecast\"',\n '\"Fast wifi \\\\u2013 475 Mbps\"',\n '\"Cien shampoo\"',\n '\"Outdoor dining area\"',\n '\"Dining table\"',\n '\"Free parking on premises\"',\n '\"Free dryer \\\\u2013 In building\"',\n '\"Smart lock\"',\n '\"BBQ grill\"',\n '\"Sony sound system with aux\"',\n '\"Paid washer\"',\n '\"Fire extinguisher\"',\n '\"32\\\\\" TV with standard cable\"',\n '\"Bosch  refrigerator\"',\n '\"Nespresso machine\"',\n '\"Paid parking garage on premises\"',\n '\"Children\\\\u2019s dinnerware\"',\n '\"36\\\\\" TV with standard cable\"',\n '\"Luggage dropoff allowed\"',\n '\"Fast wifi \\\\u2013 677 Mbps\"',\n '\"Private fenced garden or backyard\"',\n '[\"Oven\"',\n '\"Wifi \\\\u2013 22 Mbps\"',\n '\"Fast wifi \\\\u2013 250 Mbps\"',\n '\"24\\\\\" TV with premium cable',\n '\"42\\\\\" TV with premium cable\"',\n ...}"
     },
     "execution_count": 1377,
     "metadata": {},
     "output_type": "execute_result"
    }
   ],
   "source": [
    "amenities_list = list(listings['amenities'])\n",
    "amenities_list_str = ''.join(amenities_list)\n",
    "amenities_list_str = amenities_list_str.replace('][', ',')\n",
    "amenities_set = [s.strip() for s in amenities_list_str.split(',')]\n",
    "amenities_set = set(amenities_set)\n",
    "amenities_set"
   ],
   "metadata": {
    "collapsed": false
   }
  },
  {
   "cell_type": "code",
   "execution_count": 1378,
   "outputs": [
    {
     "data": {
      "text/plain": "id\n44077                  70.0\n85156                  67.0\n159889                 45.0\n162809                 80.0\n165828                251.0\n                      ...  \n712909401324393615    200.0\n712914322433199115     48.0\n712914393022526732     64.0\n712966369602352444    240.0\n713034176403340330    280.0\nName: price, Length: 7566, dtype: float64"
     },
     "execution_count": 1378,
     "metadata": {},
     "output_type": "execute_result"
    }
   ],
   "source": [
    "# Process price (No null)\n",
    "listings['price'] = listings['price'].str[1:].str.replace(',', '').astype('float64')\n",
    "result['price'] = listings['price']\n",
    "listings['price']"
   ],
   "metadata": {
    "collapsed": false
   }
  },
  {
   "cell_type": "code",
   "execution_count": 1379,
   "outputs": [
    {
     "data": {
      "text/plain": "1125"
     },
     "execution_count": 1379,
     "metadata": {},
     "output_type": "execute_result"
    },
    {
     "data": {
      "text/plain": "<Figure size 640x480 with 1 Axes>",
      "image/png": "[encoded data removed]"
     },
     "metadata": {},
     "output_type": "display_data"
    }
   ],
   "source": [
    "# Process minimum_nights\n",
    "plt.hist(listings['minimum_nights'], bins=800)\n",
    "plt.xlim(0, 50)\n",
    "listings['minimum_nights'].max()"
   ],
   "metadata": {
    "collapsed": false
   }
  },
  {
   "cell_type": "code",
   "execution_count": 1380,
   "outputs": [
    {
     "data": {
      "text/plain": "0"
     },
     "execution_count": 1380,
     "metadata": {},
     "output_type": "execute_result"
    }
   ],
   "source": [
    "listings['minimum_nights'].isna().sum()"
   ],
   "metadata": {
    "collapsed": false
   }
  },
  {
   "cell_type": "code",
   "execution_count": 1381,
   "outputs": [
    {
     "data": {
      "text/plain": "1       2375\n2       2173\n3       1107\n7-33    1026\n5        331\n4        318\n>33      134\n6        102\nName: minimum_nights, dtype: int64"
     },
     "execution_count": 1381,
     "metadata": {},
     "output_type": "execute_result"
    }
   ],
   "source": [
    "listings['minimum_nights'] = pd.cut(listings['minimum_nights'],\n",
    "                                    bins=[0, 1, 2, 3, 4, 5, 6, 33, 1126],\n",
    "                                    labels=['1', '2', '3', '4', '5', '6', '7-33', '>33'],\n",
    "                                    include_lowest=True)\n",
    "listings['minimum_nights'] = listings['minimum_nights'].astype('str')\n",
    "listings['minimum_nights'].replace('nan', 'unknown', inplace=True)\n",
    "result['minimum_nights'] = listings['minimum_nights']\n",
    "listings['minimum_nights'].value_counts(dropna=False)"
   ],
   "metadata": {
    "collapsed": false
   }
  },
  {
   "cell_type": "code",
   "execution_count": 1382,
   "outputs": [
    {
     "data": {
      "text/plain": "t    7537\nf      29\nName: has_availability, dtype: int64"
     },
     "execution_count": 1382,
     "metadata": {},
     "output_type": "execute_result"
    }
   ],
   "source": [
    "# Process has_availability\n",
    "result['has_availability'] = listings['has_availability']\n",
    "listings['has_availability'].value_counts(dropna=False)"
   ],
   "metadata": {
    "collapsed": false
   }
  },
  {
   "cell_type": "code",
   "execution_count": 1383,
   "outputs": [
    {
     "data": {
      "text/plain": "0     5122\n2      260\n1      246\n3      197\n4      157\n7      144\n5      143\n6      137\n8      116\n10     108\n11     106\n9       96\n13      75\n12      75\n15      63\n17      58\n14      47\n18      44\n23      43\n16      41\n20      40\n24      34\n19      33\n22      31\n27      30\n30      27\n21      26\n29      21\n25      21\n28      14\n26      11\nName: availability_30, dtype: int64"
     },
     "execution_count": 1383,
     "metadata": {},
     "output_type": "execute_result"
    }
   ],
   "source": [
    "# Process availability_30\n",
    "result['availability_30'] = listings['availability_30']\n",
    "listings['availability_30'].value_counts(dropna=False)"
   ],
   "metadata": {
    "collapsed": false
   }
  },
  {
   "cell_type": "code",
   "execution_count": 1384,
   "outputs": [
    {
     "data": {
      "text/plain": "0      1357\n1       749\n2       516\n3       381\n4       290\n       ... \n443       1\n432       1\n275       1\n340       1\n212       1\nName: number_of_reviews, Length: 356, dtype: int64"
     },
     "execution_count": 1384,
     "metadata": {},
     "output_type": "execute_result"
    }
   ],
   "source": [
    "# Process number_of_reviews\n",
    "result['number_of_reviews'] = listings['number_of_reviews']\n",
    "listings['number_of_reviews'].value_counts(dropna=False)"
   ],
   "metadata": {
    "collapsed": false
   }
  },
  {
   "cell_type": "code",
   "execution_count": 1385,
   "outputs": [
    {
     "data": {
      "text/plain": "1357"
     },
     "execution_count": 1385,
     "metadata": {},
     "output_type": "execute_result"
    }
   ],
   "source": [
    "# Process first_review\n",
    "result['first_review'] = listings['first_review']\n",
    "listings['first_review'].isna().sum()"
   ],
   "metadata": {
    "collapsed": false
   }
  },
  {
   "cell_type": "code",
   "execution_count": 1386,
   "outputs": [
    {
     "data": {
      "text/plain": "1357"
     },
     "execution_count": 1386,
     "metadata": {},
     "output_type": "execute_result"
    }
   ],
   "source": [
    "listings['review_scores_rating'].isna().sum()\n",
    "# Other scores' amount of null are around 1450\n",
    "# Took a look by excel, if first_review is null, the scores are null."
   ],
   "metadata": {
    "collapsed": false
   }
  },
  {
   "cell_type": "code",
   "execution_count": 1387,
   "outputs": [
    {
     "data": {
      "text/plain": "0"
     },
     "execution_count": 1387,
     "metadata": {},
     "output_type": "execute_result"
    }
   ],
   "source": [
    "listings = listings.dropna(subset=['first_review'])\n",
    "result = result.dropna(subset=['first_review'])\n",
    "result['first_review'].isna().sum()"
   ],
   "metadata": {
    "collapsed": false
   }
  },
  {
   "cell_type": "code",
   "execution_count": 1388,
   "outputs": [
    {
     "data": {
      "text/plain": "id\n44077                 4255\n85156                 4190\n159889                3889\n162809                2721\n165828                4036\n                      ... \n707685389742134998      63\n707825078259308780      66\n708679904448712003      62\n709451504510289772      62\n710054111904793673      63\nName: first_review, Length: 6209, dtype: int64"
     },
     "execution_count": 1388,
     "metadata": {},
     "output_type": "execute_result"
    }
   ],
   "source": [
    "# Change the date into the time gap between the date and 2022-11-12\n",
    "from datetime import datetime\n",
    "\n",
    "\n",
    "def count_days(x):\n",
    "    file_time = datetime.strptime('2022-11-12', '%Y-%m-%d')\n",
    "    self_time = datetime.strptime(x, '%Y-%m-%d')\n",
    "    d = file_time - self_time\n",
    "    return d.days\n",
    "\n",
    "\n",
    "result['first_review'] = result['first_review'].apply(lambda x: count_days(x), 1)\n",
    "result['first_review']"
   ],
   "metadata": {
    "collapsed": false
   }
  },
  {
   "cell_type": "code",
   "execution_count": 1389,
   "outputs": [
    {
     "data": {
      "text/plain": "f    3936\nt    2273\nName: instant_bookable, dtype: int64"
     },
     "execution_count": 1389,
     "metadata": {},
     "output_type": "execute_result"
    }
   ],
   "source": [
    "# Process instant_bookable\n",
    "result['instant_bookable'] = listings['instant_bookable']\n",
    "listings['instant_bookable'].value_counts(dropna=False)"
   ],
   "metadata": {
    "collapsed": false
   }
  },
  {
   "cell_type": "code",
   "execution_count": 1390,
   "outputs": [
    {
     "data": {
      "text/plain": "0.02     264\n0.03     210\n1.00     160\n0.06     154\n0.01     139\n        ... \n5.36       1\n9.97       1\n5.58       1\n12.43      1\n9.00       1\nName: reviews_per_month, Length: 675, dtype: int64"
     },
     "execution_count": 1390,
     "metadata": {},
     "output_type": "execute_result"
    }
   ],
   "source": [
    "# Process reviews_per_month\n",
    "result['reviews_per_month'] = listings['reviews_per_month']\n",
    "listings['reviews_per_month'].value_counts(dropna=False)"
   ],
   "metadata": {
    "collapsed": false
   }
  },
  {
   "cell_type": "code",
   "execution_count": 1391,
   "outputs": [
    {
     "data": {
      "text/plain": "                    host_response_time host_response_rate  \\\nid                                                          \n44077                   within an hour           98%-100%   \n85156                   within an hour           98%-100%   \n159889                  within an hour           98%-100%   \n162809                  within an hour            90%-97%   \n165828                  within an hour           98%-100%   \n...                                ...                ...   \n707685389742134998  within a few hours           98%-100%   \n707825078259308780      within an hour            90%-97%   \n708679904448712003      within an hour           98%-100%   \n709451504510289772      within an hour           98%-100%   \n710054111904793673             unknown            unknown   \n\n                   host_acceptance_rate host_is_superhost  \\\nid                                                          \n44077                          97%-100%                 t   \n85156                          97%-100%                 t   \n159889                          90%-96%                 f   \n162809                          80%-89%                 t   \n165828                          90%-96%                 f   \n...                                 ...               ...   \n707685389742134998             97%-100%                 f   \n707825078259308780             97%-100%                 f   \n708679904448712003             97%-100%                 f   \n709451504510289772             97%-100%                 f   \n710054111904793673             97%-100%                 f   \n\n                   calculated_host_listings_count host_identity_verified  \\\nid                                                                         \n44077                                           1                      t   \n85156                                           1                      t   \n159889                                        2-4                      t   \n162809                                          1                      t   \n165828                                        2-4                      t   \n...                                           ...                    ...   \n707685389742134998                              1                      t   \n707825078259308780                          10-29                      t   \n708679904448712003                              1                      t   \n709451504510289772                              1                      t   \n710054111904793673                              1                      f   \n\n                   neighbourhood_cleansed               property_type  \\\nid                                                                      \n44077               Dn Laoghaire-Rathdown                      others   \n85156               Dn Laoghaire-Rathdown                      others   \n159889                        Dublin City        Private room in home   \n162809              Dn Laoghaire-Rathdown   Private room in townhouse   \n165828                        Dublin City          Entire rental unit   \n...                                   ...                         ...   \n707685389742134998            Dublin City        Private room in home   \n707825078259308780            Dublin City  Shared room in rental unit   \n708679904448712003            Dublin City                 Entire home   \n709451504510289772            Dublin City        Private room in home   \n710054111904793673                 Fingal        Private room in home   \n\n                          room_type accommodates  ... first_review  \\\nid                                                ...                \n44077                  Private room            2  ...         4255   \n85156                  Private room            2  ...         4190   \n159889                 Private room            1  ...         3889   \n162809                 Private room           >5  ...         2721   \n165828              Entire home/apt            5  ...         4036   \n...                             ...          ...  ...          ...   \n707685389742134998     Private room            2  ...           63   \n707825078259308780      Shared room            1  ...           66   \n708679904448712003  Entire home/apt           >5  ...           62   \n709451504510289772     Private room            2  ...           62   \n710054111904793673     Private room            2  ...           63   \n\n                   instant_bookable reviews_per_month review_scores_rating  \\\nid                                                                           \n44077                             f              1.85                 4.78   \n85156                             f              1.53                 4.79   \n159889                            f              2.78                 4.74   \n162809                            f              3.68                 4.84   \n165828                            t              0.48                 4.63   \n...                             ...               ...                  ...   \n707685389742134998                f              1.00                 5.00   \n707825078259308780                t              1.00                 5.00   \n708679904448712003                f              1.00                 5.00   \n709451504510289772                t              1.00                 5.00   \n710054111904793673                f              1.00                 5.00   \n\n                    review_scores_value review_scores_checkin  \\\nid                                                              \n44077                              4.82                  4.93   \n85156                              4.78                  4.90   \n159889                             4.74                  4.86   \n162809                             4.85                  4.95   \n165828                             4.55                  4.81   \n...                                 ...                   ...   \n707685389742134998                 4.00                  5.00   \n707825078259308780                 5.00                  5.00   \n708679904448712003                 5.00                  5.00   \n709451504510289772                 5.00                  5.00   \n710054111904793673                 5.00                  5.00   \n\n                   review_scores_accuracy  review_scores_location  \\\nid                                                                  \n44077                                4.83                    4.66   \n85156                                4.86                    4.64   \n159889                               4.77                    4.63   \n162809                               4.88                    4.77   \n165828                               4.89                    4.34   \n...                                   ...                     ...   \n707685389742134998                   5.00                    5.00   \n707825078259308780                   5.00                    5.00   \n708679904448712003                   5.00                    5.00   \n709451504510289772                   5.00                    5.00   \n710054111904793673                   5.00                    5.00   \n\n                    review_scores_cleanliness  review_scores_communication  \nid                                                                          \n44077                                    4.74                         4.93  \n85156                                    4.74                         4.88  \n159889                                   4.71                         4.90  \n162809                                   4.85                         4.97  \n165828                                   4.69                         4.75  \n...                                       ...                          ...  \n707685389742134998                       5.00                         5.00  \n707825078259308780                       5.00                         5.00  \n708679904448712003                       5.00                         5.00  \n709451504510289772                       5.00                         5.00  \n710054111904793673                       5.00                         5.00  \n\n[6209 rows x 29 columns]",
      "text/html": "<div>\n<style scoped>\n    .dataframe tbody tr th:only-of-type {\n        vertical-align: middle;\n    }\n\n    .dataframe tbody tr th {\n        vertical-align: top;\n    }\n\n    .dataframe thead th {\n        text-align: right;\n    }\n</style>\n<table border=\"1\" class=\"dataframe\">\n  <thead>\n    <tr style=\"text-align: right;\">\n      <th></th>\n      <th>host_response_time</th>\n      <th>host_response_rate</th>\n      <th>host_acceptance_rate</th>\n      <th>host_is_superhost</th>\n      <th>calculated_host_listings_count</th>\n      <th>host_identity_verified</th>\n      <th>neighbourhood_cleansed</th>\n      <th>property_type</th>\n      <th>room_type</th>\n      <th>accommodates</th>\n      <th>...</th>\n      <th>first_review</th>\n      <th>instant_bookable</th>\n      <th>reviews_per_month</th>\n      <th>review_scores_rating</th>\n      <th>review_scores_value</th>\n      <th>review_scores_checkin</th>\n      <th>review_scores_accuracy</th>\n      <th>review_scores_location</th>\n      <th>review_scores_cleanliness</th>\n      <th>review_scores_communication</th>\n    </tr>\n    <tr>\n      <th>id</th>\n      <th></th>\n      <th></th>\n      <th></th>\n      <th></th>\n      <th></th>\n      <th></th>\n      <th></th>\n      <th></th>\n      <th></th>\n      <th></th>\n      <th></th>\n      <th></th>\n      <th></th>\n      <th></th>\n      <th></th>\n      <th></th>\n      <th></th>\n      <th></th>\n      <th></th>\n      <th></th>\n      <th></th>\n    </tr>\n  </thead>\n  <tbody>\n    <tr>\n      <th>44077</th>\n      <td>within an hour</td>\n      <td>98%-100%</td>\n      <td>97%-100%</td>\n      <td>t</td>\n      <td>1</td>\n      <td>t</td>\n      <td>Dn Laoghaire-Rathdown</td>\n      <td>others</td>\n      <td>Private room</td>\n      <td>2</td>\n      <td>...</td>\n      <td>4255</td>\n      <td>f</td>\n      <td>1.85</td>\n      <td>4.78</td>\n      <td>4.82</td>\n      <td>4.93</td>\n      <td>4.83</td>\n      <td>4.66</td>\n      <td>4.74</td>\n      <td>4.93</td>\n    </tr>\n    <tr>\n      <th>85156</th>\n      <td>within an hour</td>\n      <td>98%-100%</td>\n      <td>97%-100%</td>\n      <td>t</td>\n      <td>1</td>\n      <td>t</td>\n      <td>Dn Laoghaire-Rathdown</td>\n      <td>others</td>\n      <td>Private room</td>\n      <td>2</td>\n      <td>...</td>\n      <td>4190</td>\n      <td>f</td>\n      <td>1.53</td>\n      <td>4.79</td>\n      <td>4.78</td>\n      <td>4.90</td>\n      <td>4.86</td>\n      <td>4.64</td>\n      <td>4.74</td>\n      <td>4.88</td>\n    </tr>\n    <tr>\n      <th>159889</th>\n      <td>within an hour</td>\n      <td>98%-100%</td>\n      <td>90%-96%</td>\n      <td>f</td>\n      <td>2-4</td>\n      <td>t</td>\n      <td>Dublin City</td>\n      <td>Private room in home</td>\n      <td>Private room</td>\n      <td>1</td>\n      <td>...</td>\n      <td>3889</td>\n      <td>f</td>\n      <td>2.78</td>\n      <td>4.74</td>\n      <td>4.74</td>\n      <td>4.86</td>\n      <td>4.77</td>\n      <td>4.63</td>\n      <td>4.71</td>\n      <td>4.90</td>\n    </tr>\n    <tr>\n      <th>162809</th>\n      <td>within an hour</td>\n      <td>90%-97%</td>\n      <td>80%-89%</td>\n      <td>t</td>\n      <td>1</td>\n      <td>t</td>\n      <td>Dn Laoghaire-Rathdown</td>\n      <td>Private room in townhouse</td>\n      <td>Private room</td>\n      <td>&gt;5</td>\n      <td>...</td>\n      <td>2721</td>\n      <td>f</td>\n      <td>3.68</td>\n      <td>4.84</td>\n      <td>4.85</td>\n      <td>4.95</td>\n      <td>4.88</td>\n      <td>4.77</td>\n      <td>4.85</td>\n      <td>4.97</td>\n    </tr>\n    <tr>\n      <th>165828</th>\n      <td>within an hour</td>\n      <td>98%-100%</td>\n      <td>90%-96%</td>\n      <td>f</td>\n      <td>2-4</td>\n      <td>t</td>\n      <td>Dublin City</td>\n      <td>Entire rental unit</td>\n      <td>Entire home/apt</td>\n      <td>5</td>\n      <td>...</td>\n      <td>4036</td>\n      <td>t</td>\n      <td>0.48</td>\n      <td>4.63</td>\n      <td>4.55</td>\n      <td>4.81</td>\n      <td>4.89</td>\n      <td>4.34</td>\n      <td>4.69</td>\n      <td>4.75</td>\n    </tr>\n    <tr>\n      <th>...</th>\n      <td>...</td>\n      <td>...</td>\n      <td>...</td>\n      <td>...</td>\n      <td>...</td>\n      <td>...</td>\n      <td>...</td>\n      <td>...</td>\n      <td>...</td>\n      <td>...</td>\n      <td>...</td>\n      <td>...</td>\n      <td>...</td>\n      <td>...</td>\n      <td>...</td>\n      <td>...</td>\n      <td>...</td>\n      <td>...</td>\n      <td>...</td>\n      <td>...</td>\n      <td>...</td>\n    </tr>\n    <tr>\n      <th>707685389742134998</th>\n      <td>within a few hours</td>\n      <td>98%-100%</td>\n      <td>97%-100%</td>\n      <td>f</td>\n      <td>1</td>\n      <td>t</td>\n      <td>Dublin City</td>\n      <td>Private room in home</td>\n      <td>Private room</td>\n      <td>2</td>\n      <td>...</td>\n      <td>63</td>\n      <td>f</td>\n      <td>1.00</td>\n      <td>5.00</td>\n      <td>4.00</td>\n      <td>5.00</td>\n      <td>5.00</td>\n      <td>5.00</td>\n      <td>5.00</td>\n      <td>5.00</td>\n    </tr>\n    <tr>\n      <th>707825078259308780</th>\n      <td>within an hour</td>\n      <td>90%-97%</td>\n      <td>97%-100%</td>\n      <td>f</td>\n      <td>10-29</td>\n      <td>t</td>\n      <td>Dublin City</td>\n      <td>Shared room in rental unit</td>\n      <td>Shared room</td>\n      <td>1</td>\n      <td>...</td>\n      <td>66</td>\n      <td>t</td>\n      <td>1.00</td>\n      <td>5.00</td>\n      <td>5.00</td>\n      <td>5.00</td>\n      <td>5.00</td>\n      <td>5.00</td>\n      <td>5.00</td>\n      <td>5.00</td>\n    </tr>\n    <tr>\n      <th>708679904448712003</th>\n      <td>within an hour</td>\n      <td>98%-100%</td>\n      <td>97%-100%</td>\n      <td>f</td>\n      <td>1</td>\n      <td>t</td>\n      <td>Dublin City</td>\n      <td>Entire home</td>\n      <td>Entire home/apt</td>\n      <td>&gt;5</td>\n      <td>...</td>\n      <td>62</td>\n      <td>f</td>\n      <td>1.00</td>\n      <td>5.00</td>\n      <td>5.00</td>\n      <td>5.00</td>\n      <td>5.00</td>\n      <td>5.00</td>\n      <td>5.00</td>\n      <td>5.00</td>\n    </tr>\n    <tr>\n      <th>709451504510289772</th>\n      <td>within an hour</td>\n      <td>98%-100%</td>\n      <td>97%-100%</td>\n      <td>f</td>\n      <td>1</td>\n      <td>t</td>\n      <td>Dublin City</td>\n      <td>Private room in home</td>\n      <td>Private room</td>\n      <td>2</td>\n      <td>...</td>\n      <td>62</td>\n      <td>t</td>\n      <td>1.00</td>\n      <td>5.00</td>\n      <td>5.00</td>\n      <td>5.00</td>\n      <td>5.00</td>\n      <td>5.00</td>\n      <td>5.00</td>\n      <td>5.00</td>\n    </tr>\n    <tr>\n      <th>710054111904793673</th>\n      <td>unknown</td>\n      <td>unknown</td>\n      <td>97%-100%</td>\n      <td>f</td>\n      <td>1</td>\n      <td>f</td>\n      <td>Fingal</td>\n      <td>Private room in home</td>\n      <td>Private room</td>\n      <td>2</td>\n      <td>...</td>\n      <td>63</td>\n      <td>f</td>\n      <td>1.00</td>\n      <td>5.00</td>\n      <td>5.00</td>\n      <td>5.00</td>\n      <td>5.00</td>\n      <td>5.00</td>\n      <td>5.00</td>\n      <td>5.00</td>\n    </tr>\n  </tbody>\n</table>\n<p>6209 rows × 29 columns</p>\n</div>"
     },
     "execution_count": 1391,
     "metadata": {},
     "output_type": "execute_result"
    }
   ],
   "source": [
    "result['review_scores_rating'] = listings['review_scores_rating']\n",
    "result['review_scores_value'] = listings['review_scores_value']\n",
    "result['review_scores_checkin'] = listings['review_scores_checkin']\n",
    "result['review_scores_accuracy'] = listings['review_scores_accuracy']\n",
    "result['review_scores_location'] = listings['review_scores_location']\n",
    "result['review_scores_cleanliness'] = listings['review_scores_cleanliness']\n",
    "result['review_scores_communication'] = listings['review_scores_communication']\n",
    "result"
   ],
   "metadata": {
    "collapsed": false
   }
  },
  {
   "cell_type": "code",
   "execution_count": 1392,
   "outputs": [],
   "source": [
    "os.remove('new_listings.csv')\n",
    "result.to_csv('new_listings.csv')"
   ],
   "metadata": {
    "collapsed": false
   }
  }
 ],
 "metadata": {
  "kernelspec": {
   "display_name": "Python 3",
   "language": "python",
   "name": "python3"
  },
  "language_info": {
   "codemirror_mode": {
    "name": "ipython",
    "version": 2
   },
   "file_extension": ".py",
   "mimetype": "text/x-python",
   "name": "python",
   "nbconvert_exporter": "python",
   "pygments_lexer": "ipython2",
   "version": "2.7.6"
  }
 },
 "nbformat": 4,
 "nbformat_minor": 0
}
