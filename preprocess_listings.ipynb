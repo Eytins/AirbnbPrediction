{
 "cells": [
  {
   "cell_type": "code",
   "execution_count": null,
   "metadata": {
    "collapsed": true
   },
   "outputs": [],
   "source": [
    "import os\n",
    "\n",
    "# Read data\n",
    "\n",
    "import pandas as pd\n",
    "\n",
    "# Possible useful features:\n",
    "# [0:id, 7:neighborhood_overview, 9:host_id, 15:host_response_time, 16:host_response_rate, 17:host_acceptance_rate(Survivorship bias?), 18:host_is_superhost, 22:host_listings_count, 24:host_verifications, 26:host_identity_verified, 28:neighbourhood_cleansed, 30:latitude, 31:longitude, 32:property_type, 33:room_type, 34:accommodates, 36:bathrooms_text, 37:bedrooms, 38:beds, 39:amenities, 40:price, 41:minimum_nights, 50:has_availability, 51:availability_30, 52:availability_60, 53:availability_90, 54:availability_365, 56:number_of_reviews, 57:number_of_reviews_ltm, 58:number_of_reviews_l30d, 59:first_review, 69:instant_bookable, 70:calculated_host_listings_count, 74:reviews_per_month]\n",
    "\n",
    "listings = pd.read_csv('listings.csv')\n",
    "listings = listings.set_index('id')\n",
    "\n",
    "result = pd.DataFrame()\n",
    "\n",
    "listings.head().T"
   ]
  },
  {
   "cell_type": "code",
   "execution_count": null,
   "outputs": [],
   "source": [
    "listings.dtypes"
   ],
   "metadata": {
    "collapsed": false
   }
  },
  {
   "cell_type": "code",
   "execution_count": null,
   "outputs": [],
   "source": [
    "# Check NULL\n",
    "listings.isna().sum()"
   ],
   "metadata": {
    "collapsed": false
   }
  },
  {
   "cell_type": "code",
   "execution_count": null,
   "outputs": [],
   "source": [
    "# Process host_id?\n"
   ],
   "metadata": {
    "collapsed": false
   }
  },
  {
   "cell_type": "code",
   "execution_count": null,
   "outputs": [],
   "source": [
    "# Process host_response_time\n",
    "listings['host_response_time'].value_counts()"
   ],
   "metadata": {
    "collapsed": false
   }
  },
  {
   "cell_type": "code",
   "execution_count": null,
   "outputs": [],
   "source": [
    "listings['host_response_time'].fillna('unknown', inplace=True)\n",
    "result['host_response_time'] = listings['host_response_time']\n",
    "listings['host_response_time'].value_counts()"
   ],
   "metadata": {
    "collapsed": false
   }
  },
  {
   "cell_type": "code",
   "execution_count": null,
   "outputs": [],
   "source": [
    "# Process host_response_rate\n",
    "listings['host_response_rate'].value_counts()"
   ],
   "metadata": {
    "collapsed": false
   }
  },
  {
   "cell_type": "code",
   "execution_count": null,
   "outputs": [],
   "source": [
    "listings['host_response_rate'] = listings['host_response_rate'].str[:-1].astype('float64')\n",
    "listings['host_response_rate'].value_counts()"
   ],
   "metadata": {
    "collapsed": false
   }
  },
  {
   "cell_type": "code",
   "execution_count": null,
   "outputs": [],
   "source": [
    "from matplotlib import pyplot as plt\n",
    "\n",
    "plt.figure(facecolor='white')\n",
    "plt.hist(listings['host_response_rate'], bins=100)\n",
    "plt.show()"
   ],
   "metadata": {
    "collapsed": false
   }
  },
  {
   "cell_type": "code",
   "execution_count": null,
   "outputs": [],
   "source": [
    "listings['host_response_rate'] = pd.cut(listings['host_response_rate'],\n",
    "                                        bins=[0, 70, 80, 90, 99, 100],\n",
    "                                        labels=['0%-69%', '70%-79%', '80%-89%', '90%-98%', '99%-100%'],\n",
    "                                        include_lowest=True)\n",
    "listings['host_response_rate'] = listings['host_response_rate'].astype('str')\n",
    "listings['host_response_rate'].replace('nan', 'unknown', inplace=True)\n",
    "result['host_response_rate'] = listings['host_response_rate']\n",
    "listings['host_response_rate'].value_counts()"
   ],
   "metadata": {
    "collapsed": false
   }
  },
  {
   "cell_type": "code",
   "execution_count": null,
   "outputs": [],
   "source": [
    "# Process host_acceptance_rate\n",
    "listings['host_acceptance_rate'].value_counts()"
   ],
   "metadata": {
    "collapsed": false
   }
  },
  {
   "cell_type": "code",
   "execution_count": null,
   "outputs": [],
   "source": [
    "listings['host_acceptance_rate'] = listings['host_acceptance_rate'].str[:-1].astype('float64')\n",
    "plt.hist(listings['host_acceptance_rate'], bins=100)\n",
    "plt.show()"
   ],
   "metadata": {
    "collapsed": false
   }
  },
  {
   "cell_type": "code",
   "execution_count": null,
   "outputs": [],
   "source": [
    "listings['host_acceptance_rate'] = pd.cut(listings['host_acceptance_rate'],\n",
    "                                          bins=[0, 70, 80, 90, 97, 99, 100],\n",
    "                                          labels=['0%-69%', '70%-79%', '80%-89%', '90%-96%', '97%-98%', '99%-100%'],\n",
    "                                          include_lowest=True)\n",
    "listings['host_acceptance_rate'] = listings['host_acceptance_rate'].astype('str')\n",
    "listings['host_acceptance_rate'].replace('nan', 'unknown', inplace=True)\n",
    "result['host_acceptance_rate'] = listings['host_acceptance_rate']\n",
    "listings['host_acceptance_rate'].value_counts()"
   ],
   "metadata": {
    "collapsed": false
   }
  },
  {
   "cell_type": "code",
   "execution_count": null,
   "outputs": [],
   "source": [
    "# Process host_is_superhost\n",
    "result['host_is_superhost'] = listings['host_is_superhost']\n",
    "listings['host_is_superhost'].value_counts()"
   ],
   "metadata": {
    "collapsed": false
   }
  },
  {
   "cell_type": "code",
   "execution_count": null,
   "outputs": [],
   "source": [
    "# Process host_listings_count, use calculated_host_listings_count because it's more accurate\n",
    "listings['calculated_host_listings_count'].value_counts(dropna=False)"
   ],
   "metadata": {
    "collapsed": false
   }
  },
  {
   "cell_type": "code",
   "execution_count": null,
   "outputs": [],
   "source": [
    "plt.hist(listings['calculated_host_listings_count'], bins=70)"
   ],
   "metadata": {
    "collapsed": false
   }
  },
  {
   "cell_type": "code",
   "execution_count": null,
   "outputs": [],
   "source": [
    "listings['calculated_host_listings_count'] = pd.cut(listings['calculated_host_listings_count'],\n",
    "                                                    bins=[1, 2, 5, 10, 30, 100],\n",
    "                                                    labels=['1', '2-4', '5-9', '10-29', '>29'],\n",
    "                                                    include_lowest=True)\n",
    "listings['calculated_host_listings_count'] = listings['calculated_host_listings_count'].astype('str')\n",
    "result['calculated_host_listings_count'] = listings['calculated_host_listings_count']\n",
    "listings['calculated_host_listings_count'].value_counts(dropna=False)"
   ],
   "metadata": {
    "collapsed": false
   }
  },
  {
   "cell_type": "code",
   "execution_count": null,
   "outputs": [],
   "source": [
    "# Process host_identity_verified\n",
    "result['host_identity_verified'] = listings['host_identity_verified']\n",
    "listings['host_identity_verified'].value_counts(dropna=False)"
   ],
   "metadata": {
    "collapsed": false
   }
  },
  {
   "cell_type": "code",
   "execution_count": null,
   "outputs": [],
   "source": [
    "# Process neighbourhood_cleansed\n",
    "result['neighbourhood_cleansed'] = listings['neighbourhood_cleansed']\n",
    "listings['neighbourhood_cleansed'].value_counts(dropna=False)"
   ],
   "metadata": {
    "collapsed": false
   }
  },
  {
   "cell_type": "code",
   "execution_count": null,
   "outputs": [],
   "source": [
    "# Process property_type\n",
    "listings['property_type'].value_counts(dropna=False)"
   ],
   "metadata": {
    "collapsed": false
   }
  },
  {
   "cell_type": "code",
   "execution_count": null,
   "outputs": [],
   "source": [
    "for i, v in listings['property_type'].value_counts(dropna=False).items():\n",
    "    if v < 40:\n",
    "        listings['property_type'].replace(i, 'others', inplace=True)\n",
    "result['property_type'] = listings['property_type']\n",
    "listings['property_type'].value_counts(dropna=False)"
   ],
   "metadata": {
    "collapsed": false
   }
  },
  {
   "cell_type": "code",
   "execution_count": null,
   "outputs": [],
   "source": [
    "# Process room_type\n",
    "result['room_type'] = listings['room_type']\n",
    "listings['room_type'].value_counts(dropna=False)"
   ],
   "metadata": {
    "collapsed": false
   }
  },
  {
   "cell_type": "code",
   "execution_count": null,
   "outputs": [],
   "source": [
    "# Process accommodates\n",
    "listings['accommodates'].value_counts(dropna=False)"
   ],
   "metadata": {
    "collapsed": false
   }
  },
  {
   "cell_type": "code",
   "execution_count": null,
   "outputs": [],
   "source": [
    "plt.hist(listings['accommodates'], bins=16)"
   ],
   "metadata": {
    "collapsed": false
   }
  },
  {
   "cell_type": "code",
   "execution_count": null,
   "outputs": [],
   "source": [
    "listings['accommodates'] = pd.cut(listings['accommodates'],\n",
    "                                  bins=[0, 1, 2, 3, 4, 5, 20],\n",
    "                                  labels=['1', '2', '3', '4', '5', '>5'],\n",
    "                                  include_lowest=True)\n",
    "listings['accommodates'] = listings['accommodates'].astype('str')\n",
    "result['accommodates'] = listings['accommodates']\n",
    "listings['accommodates'].value_counts(dropna=False)"
   ],
   "metadata": {
    "collapsed": false
   }
  },
  {
   "cell_type": "code",
   "execution_count": null,
   "outputs": [],
   "source": [
    "# Process bathrooms_text\n",
    "listings['bathrooms_text'].value_counts(dropna=False)"
   ],
   "metadata": {
    "collapsed": false
   }
  },
  {
   "cell_type": "code",
   "execution_count": null,
   "outputs": [],
   "source": [
    "for i, v in listings['bathrooms_text'].value_counts(dropna=False).items():\n",
    "    if v < 100:\n",
    "        listings['bathrooms_text'].replace(i, 'others', inplace=True)\n",
    "result['bathrooms_text'] = listings['bathrooms_text']\n",
    "listings['bathrooms_text'].value_counts(dropna=False)"
   ],
   "metadata": {
    "collapsed": false
   }
  },
  {
   "cell_type": "code",
   "execution_count": null,
   "outputs": [],
   "source": [
    "# Process bedrooms\n",
    "listings['bedrooms'].value_counts(dropna=False)"
   ],
   "metadata": {
    "collapsed": false
   }
  },
  {
   "cell_type": "code",
   "execution_count": null,
   "outputs": [],
   "source": [
    "listings['bedrooms'] = pd.cut(listings['bedrooms'],\n",
    "                              bins=[0, 1, 2, 3, 4, 5, 14],\n",
    "                              labels=['1', '2', '3', '4', '5', '>5'],\n",
    "                              include_lowest=True)\n",
    "listings['bedrooms'] = listings['bedrooms'].astype('str')\n",
    "listings['bedrooms'].replace('nan', 'unknown', inplace=True)\n",
    "result['bedrooms'] = listings['bedrooms']\n",
    "listings['bedrooms'].value_counts(dropna=False)"
   ],
   "metadata": {
    "collapsed": false
   }
  },
  {
   "cell_type": "code",
   "execution_count": null,
   "outputs": [],
   "source": [
    "# Process beds\n",
    "listings['beds'].value_counts(dropna=False)"
   ],
   "metadata": {
    "collapsed": false
   }
  },
  {
   "cell_type": "code",
   "execution_count": null,
   "outputs": [],
   "source": [
    "listings['beds'] = pd.cut(listings['beds'],\n",
    "                          bins=[0, 1, 2, 3, 4, 5, 6, 20],\n",
    "                          labels=['1', '2', '3', '4', '5', '6', '>6'],\n",
    "                          include_lowest=True)\n",
    "listings['beds'] = listings['beds'].astype('str')\n",
    "listings['beds'].replace('nan', 'unknown', inplace=True)\n",
    "result['beds'] = listings['beds']\n",
    "listings['beds'].value_counts(dropna=False)"
   ],
   "metadata": {
    "collapsed": false
   }
  },
  {
   "cell_type": "code",
   "execution_count": null,
   "outputs": [],
   "source": [
    "# Process amenities\n",
    "result['amenities'] = listings['amenities']\n",
    "listings['amenities'].isna().sum()\n",
    "listings['amenities'][:2].values"
   ],
   "metadata": {
    "collapsed": false
   }
  },
  {
   "cell_type": "code",
   "execution_count": null,
   "outputs": [],
   "source": [
    "amenities_list = list(listings['amenities'])\n",
    "amenities_list_str = ''.join(amenities_list)\n",
    "amenities_list_str = amenities_list_str.replace('][', ',')\n",
    "amenities_set = [s.strip() for s in amenities_list_str.split(',')]\n",
    "amenities_set = set(amenities_set)\n",
    "amenities_set"
   ],
   "metadata": {
    "collapsed": false
   }
  },
  {
   "cell_type": "code",
   "execution_count": null,
   "outputs": [],
   "source": [
    "# Process price (No null)\n",
    "listings['price'] = listings['price'].str[1:].str.replace(',', '').astype('float64')\n",
    "result['price'] = listings['price']\n",
    "listings['price']"
   ],
   "metadata": {
    "collapsed": false
   }
  },
  {
   "cell_type": "code",
   "execution_count": null,
   "outputs": [],
   "source": [
    "# Process minimum_nights\n",
    "plt.hist(listings['minimum_nights'], bins=800)\n",
    "plt.xlim(0, 50)\n",
    "listings['minimum_nights'].max()"
   ],
   "metadata": {
    "collapsed": false
   }
  },
  {
   "cell_type": "code",
   "execution_count": null,
   "outputs": [],
   "source": [
    "listings['minimum_nights'].isna().sum()"
   ],
   "metadata": {
    "collapsed": false
   }
  },
  {
   "cell_type": "code",
   "execution_count": null,
   "outputs": [],
   "source": [
    "listings['minimum_nights'] = pd.cut(listings['minimum_nights'],\n",
    "                                    bins=[0, 1, 2, 3, 4, 5, 6, 33, 1126],\n",
    "                                    labels=['1', '2', '3', '4', '5', '6', '7-33', '>33'],\n",
    "                                    include_lowest=True)\n",
    "listings['minimum_nights'] = listings['minimum_nights'].astype('str')\n",
    "listings['minimum_nights'].replace('nan', 'unknown', inplace=True)\n",
    "result['minimum_nights'] = listings['minimum_nights']\n",
    "listings['minimum_nights'].value_counts(dropna=False)"
   ],
   "metadata": {
    "collapsed": false
   }
  },
  {
   "cell_type": "code",
   "execution_count": null,
   "outputs": [],
   "source": [
    "# Process has_availability\n",
    "# result['has_availability'] = listings['has_availability']\n",
    "# listings['has_availability'].value_counts(dropna=False)"
   ],
   "metadata": {
    "collapsed": false
   }
  },
  {
   "cell_type": "code",
   "execution_count": null,
   "outputs": [],
   "source": [
    "# Process availability_30\n",
    "result['availability_30'] = listings['availability_30']\n",
    "listings['availability_30'].value_counts(dropna=False)"
   ],
   "metadata": {
    "collapsed": false
   }
  },
  {
   "cell_type": "code",
   "execution_count": null,
   "outputs": [],
   "source": [
    "# Process number_of_reviews\n",
    "result['number_of_reviews'] = listings['number_of_reviews']\n",
    "listings['number_of_reviews'].value_counts(dropna=False)"
   ],
   "metadata": {
    "collapsed": false
   }
  },
  {
   "cell_type": "code",
   "execution_count": null,
   "outputs": [],
   "source": [
    "# Process first_review\n",
    "result['first_review'] = listings['first_review']\n",
    "listings['first_review'].isna().sum()"
   ],
   "metadata": {
    "collapsed": false
   }
  },
  {
   "cell_type": "code",
   "execution_count": null,
   "outputs": [],
   "source": [
    "listings['review_scores_rating'].isna().sum()\n",
    "# Other scores' amount of null are around 1450\n",
    "# Took a look by excel, if first_review is null, the scores are null."
   ],
   "metadata": {
    "collapsed": false
   }
  },
  {
   "cell_type": "code",
   "execution_count": null,
   "outputs": [],
   "source": [
    "listings = listings.dropna(subset=['first_review'])\n",
    "result = result.dropna(subset=['first_review'])\n",
    "result['first_review'].isna().sum()"
   ],
   "metadata": {
    "collapsed": false
   }
  },
  {
   "cell_type": "code",
   "execution_count": null,
   "outputs": [],
   "source": [
    "# Change the date into the time gap between the date and 2022-11-12\n",
    "from datetime import datetime\n",
    "\n",
    "\n",
    "def count_days(x):\n",
    "    file_time = datetime.strptime('2022-11-12', '%Y-%m-%d')\n",
    "    self_time = datetime.strptime(x, '%Y-%m-%d')\n",
    "    d = file_time - self_time\n",
    "    return d.days\n",
    "\n",
    "\n",
    "result['first_review'] = result['first_review'].apply(lambda x: count_days(x), 1)\n",
    "result['first_review']"
   ],
   "metadata": {
    "collapsed": false
   }
  },
  {
   "cell_type": "code",
   "execution_count": null,
   "outputs": [],
   "source": [
    "# Process instant_bookable\n",
    "result['instant_bookable'] = listings['instant_bookable']\n",
    "listings['instant_bookable'].value_counts(dropna=False)"
   ],
   "metadata": {
    "collapsed": false
   }
  },
  {
   "cell_type": "code",
   "execution_count": null,
   "outputs": [],
   "source": [
    "# Process reviews_per_month\n",
    "result['reviews_per_month'] = listings['reviews_per_month']\n",
    "listings['reviews_per_month'].value_counts(dropna=False)"
   ],
   "metadata": {
    "collapsed": false
   }
  },
  {
   "cell_type": "code",
   "execution_count": null,
   "outputs": [],
   "source": [
    "result['review_scores_rating'] = listings['review_scores_rating']\n",
    "result['review_scores_value'] = listings['review_scores_value']\n",
    "result['review_scores_checkin'] = listings['review_scores_checkin']\n",
    "result['review_scores_accuracy'] = listings['review_scores_accuracy']\n",
    "result['review_scores_location'] = listings['review_scores_location']\n",
    "result['review_scores_cleanliness'] = listings['review_scores_cleanliness']\n",
    "result['review_scores_communication'] = listings['review_scores_communication']\n",
    "result"
   ],
   "metadata": {
    "collapsed": false
   }
  },
  {
   "cell_type": "code",
   "execution_count": null,
   "outputs": [],
   "source": [
    "os.remove('new_listings.csv')\n",
    "result.to_csv('new_listings.csv')"
   ],
   "metadata": {
    "collapsed": false
   }
  }
 ],
 "metadata": {
  "kernelspec": {
   "display_name": "Python 3",
   "language": "python",
   "name": "python3"
  },
  "language_info": {
   "codemirror_mode": {
    "name": "ipython",
    "version": 2
   },
   "file_extension": ".py",
   "mimetype": "text/x-python",
   "name": "python",
   "nbconvert_exporter": "python",
   "pygments_lexer": "ipython2",
   "version": "2.7.6"
  }
 },
 "nbformat": 4,
 "nbformat_minor": 0
}
